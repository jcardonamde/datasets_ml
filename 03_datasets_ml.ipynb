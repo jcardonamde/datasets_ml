{
  "nbformat": 4,
  "nbformat_minor": 0,
  "metadata": {
    "colab": {
      "provenance": [],
      "mount_file_id": "1PlbHY_wt9eelZDm_fgHzN5bDZVth-_nu",
      "authorship_tag": "ABX9TyM7J7HKMYtXxrmNV1rwowwh",
      "include_colab_link": true
    },
    "kernelspec": {
      "name": "python3",
      "display_name": "Python 3"
    },
    "language_info": {
      "name": "python"
    }
  },
  "cells": [
    {
      "cell_type": "markdown",
      "metadata": {
        "id": "view-in-github",
        "colab_type": "text"
      },
      "source": [
        "<a href=\"https://colab.research.google.com/github/jcardonamde/datasets_ml/blob/main/03_datasets_ml.ipynb\" target=\"_parent\"><img src=\"https://colab.research.google.com/assets/colab-badge.svg\" alt=\"Open In Colab\"/></a>"
      ]
    },
    {
      "cell_type": "markdown",
      "source": [
        "# **Proyecto 2 - Parte 1 (base)**\n",
        "\n",
        "La tarea para esta semana es proponer dos posibles conjuntos de datos que les gustaría trabajar para el proyecto 2.  \n",
        "\n",
        "Escogerán el conjunto de datos de primera opción, y un conjunto de datos de reserva en caso de que el primero propuesto no se apruebe.  \n",
        "\n",
        "Estos datos pueden proceder de cualquier fuente y ser sobre cualquier tema con estas limitaciones:\n",
        "\n",
        "* los datos deben estar disponibles para su uso (es su responsabilidad garantizar que la licencia indique que pueden utilizarlos)\n",
        "* los datos deben ser adecuados para un ambiente profesional\n",
        "* los datos NO deben contener información personal\n",
        "* los datos NO deben ser de un conjunto de datos usados en alguna tarea o clase del curso\n",
        "\n",
        "Asegúrense de seleccionar un conjunto de datos con el que sea razonable trabajar en el tiempo que nos queda. Piensen qué preguntas podrían responder con el conjunto de datos que seleccionen. \n",
        "\n",
        "Deben proponer dos conjuntos de datos que tengan cada uno un componente de aprendizaje supervisado. Pueden elegir un problema de regresión o clasificación para cada conjunto de datos propuesto.  "
      ],
      "metadata": {
        "id": "oqvyUA0Qmw4C"
      }
    },
    {
      "cell_type": "markdown",
      "source": [
        "\n",
        "\n",
        "---\n",
        "\n"
      ],
      "metadata": {
        "id": "FO2eoCmnnFq_"
      }
    },
    {
      "cell_type": "markdown",
      "source": [
        "## **Primera opción: conjunto de datos 1**"
      ],
      "metadata": {
        "id": "lzDqFaTcnErj"
      }
    },
    {
      "cell_type": "markdown",
      "source": [
        "**1) Fuente de datos**\n",
        "\n"
      ],
      "metadata": {
        "id": "Wh1LsOtzuSB1"
      }
    },
    {
      "cell_type": "markdown",
      "source": [
        "Este es un conjunto de datos principal publicado por la Comisión de Taxis y Limusinas de la Ciudad de Nueva York, que incluye la hora de recogida, las coordenadas geográficas, la cantidad de pasajeros y varias otras variables.\n",
        "\n",
        "La fuente de datos fue buscada y descargada desde el sitio web Kaggle. En la publicación asociada a la tematica en cuestión. ([Ver fuente](https://www.kaggle.com/c/nyc-taxi-trip-duration))\n"
      ],
      "metadata": {
        "id": "OdPN3oled5Wu"
      }
    },
    {
      "cell_type": "code",
      "execution_count": 17,
      "metadata": {
        "id": "VqEu-_KPmv8J"
      },
      "outputs": [],
      "source": [
        "# Importamos las bibliotecas requeridas para el manejo y revisión inicial de nuestros datos\n",
        "import pandas as pd\n",
        "import numpy as np"
      ]
    },
    {
      "cell_type": "code",
      "source": [
        "# Importamos el data set y lo visualizamos en un DataFrame\n",
        "filename = ('/content/drive/MyDrive/Colab Notebooks/Codificación de Dojo/Semana07/Datasets/nyc_taxi_trip_duration.csv')\n",
        "df = pd.read_csv(filename)\n",
        "df.head()"
      ],
      "metadata": {
        "colab": {
          "base_uri": "https://localhost:8080/",
          "height": 206
        },
        "id": "2KOJsUelrZON",
        "outputId": "55612811-b3f7-40f8-ed81-5744528355b4"
      },
      "execution_count": 11,
      "outputs": [
        {
          "output_type": "execute_result",
          "data": {
            "text/plain": [
              "          id  vendor_id      pickup_datetime     dropoff_datetime  \\\n",
              "0  id1080784          2  2016-02-29 16:40:21  2016-02-29 16:47:01   \n",
              "1  id0889885          1  2016-03-11 23:35:37  2016-03-11 23:53:57   \n",
              "2  id0857912          2  2016-02-21 17:59:33  2016-02-21 18:26:48   \n",
              "3  id3744273          2  2016-01-05 09:44:31  2016-01-05 10:03:32   \n",
              "4  id0232939          1  2016-02-17 06:42:23  2016-02-17 06:56:31   \n",
              "\n",
              "   passenger_count  pickup_longitude  pickup_latitude  dropoff_longitude  \\\n",
              "0                1        -73.953918        40.778873         -73.963875   \n",
              "1                2        -73.988312        40.731743         -73.994751   \n",
              "2                2        -73.997314        40.721458         -73.948029   \n",
              "3                6        -73.961670        40.759720         -73.956779   \n",
              "4                1        -74.017120        40.708469         -73.988182   \n",
              "\n",
              "   dropoff_latitude store_and_fwd_flag  trip_duration  \n",
              "0         40.771164                  N            400  \n",
              "1         40.694931                  N           1100  \n",
              "2         40.774918                  N           1635  \n",
              "3         40.780628                  N           1141  \n",
              "4         40.740631                  N            848  "
            ],
            "text/html": [
              "\n",
              "  <div id=\"df-bf7070ea-a85c-408d-bd3f-065646f1112f\">\n",
              "    <div class=\"colab-df-container\">\n",
              "      <div>\n",
              "<style scoped>\n",
              "    .dataframe tbody tr th:only-of-type {\n",
              "        vertical-align: middle;\n",
              "    }\n",
              "\n",
              "    .dataframe tbody tr th {\n",
              "        vertical-align: top;\n",
              "    }\n",
              "\n",
              "    .dataframe thead th {\n",
              "        text-align: right;\n",
              "    }\n",
              "</style>\n",
              "<table border=\"1\" class=\"dataframe\">\n",
              "  <thead>\n",
              "    <tr style=\"text-align: right;\">\n",
              "      <th></th>\n",
              "      <th>id</th>\n",
              "      <th>vendor_id</th>\n",
              "      <th>pickup_datetime</th>\n",
              "      <th>dropoff_datetime</th>\n",
              "      <th>passenger_count</th>\n",
              "      <th>pickup_longitude</th>\n",
              "      <th>pickup_latitude</th>\n",
              "      <th>dropoff_longitude</th>\n",
              "      <th>dropoff_latitude</th>\n",
              "      <th>store_and_fwd_flag</th>\n",
              "      <th>trip_duration</th>\n",
              "    </tr>\n",
              "  </thead>\n",
              "  <tbody>\n",
              "    <tr>\n",
              "      <th>0</th>\n",
              "      <td>id1080784</td>\n",
              "      <td>2</td>\n",
              "      <td>2016-02-29 16:40:21</td>\n",
              "      <td>2016-02-29 16:47:01</td>\n",
              "      <td>1</td>\n",
              "      <td>-73.953918</td>\n",
              "      <td>40.778873</td>\n",
              "      <td>-73.963875</td>\n",
              "      <td>40.771164</td>\n",
              "      <td>N</td>\n",
              "      <td>400</td>\n",
              "    </tr>\n",
              "    <tr>\n",
              "      <th>1</th>\n",
              "      <td>id0889885</td>\n",
              "      <td>1</td>\n",
              "      <td>2016-03-11 23:35:37</td>\n",
              "      <td>2016-03-11 23:53:57</td>\n",
              "      <td>2</td>\n",
              "      <td>-73.988312</td>\n",
              "      <td>40.731743</td>\n",
              "      <td>-73.994751</td>\n",
              "      <td>40.694931</td>\n",
              "      <td>N</td>\n",
              "      <td>1100</td>\n",
              "    </tr>\n",
              "    <tr>\n",
              "      <th>2</th>\n",
              "      <td>id0857912</td>\n",
              "      <td>2</td>\n",
              "      <td>2016-02-21 17:59:33</td>\n",
              "      <td>2016-02-21 18:26:48</td>\n",
              "      <td>2</td>\n",
              "      <td>-73.997314</td>\n",
              "      <td>40.721458</td>\n",
              "      <td>-73.948029</td>\n",
              "      <td>40.774918</td>\n",
              "      <td>N</td>\n",
              "      <td>1635</td>\n",
              "    </tr>\n",
              "    <tr>\n",
              "      <th>3</th>\n",
              "      <td>id3744273</td>\n",
              "      <td>2</td>\n",
              "      <td>2016-01-05 09:44:31</td>\n",
              "      <td>2016-01-05 10:03:32</td>\n",
              "      <td>6</td>\n",
              "      <td>-73.961670</td>\n",
              "      <td>40.759720</td>\n",
              "      <td>-73.956779</td>\n",
              "      <td>40.780628</td>\n",
              "      <td>N</td>\n",
              "      <td>1141</td>\n",
              "    </tr>\n",
              "    <tr>\n",
              "      <th>4</th>\n",
              "      <td>id0232939</td>\n",
              "      <td>1</td>\n",
              "      <td>2016-02-17 06:42:23</td>\n",
              "      <td>2016-02-17 06:56:31</td>\n",
              "      <td>1</td>\n",
              "      <td>-74.017120</td>\n",
              "      <td>40.708469</td>\n",
              "      <td>-73.988182</td>\n",
              "      <td>40.740631</td>\n",
              "      <td>N</td>\n",
              "      <td>848</td>\n",
              "    </tr>\n",
              "  </tbody>\n",
              "</table>\n",
              "</div>\n",
              "      <button class=\"colab-df-convert\" onclick=\"convertToInteractive('df-bf7070ea-a85c-408d-bd3f-065646f1112f')\"\n",
              "              title=\"Convert this dataframe to an interactive table.\"\n",
              "              style=\"display:none;\">\n",
              "        \n",
              "  <svg xmlns=\"http://www.w3.org/2000/svg\" height=\"24px\"viewBox=\"0 0 24 24\"\n",
              "       width=\"24px\">\n",
              "    <path d=\"M0 0h24v24H0V0z\" fill=\"none\"/>\n",
              "    <path d=\"M18.56 5.44l.94 2.06.94-2.06 2.06-.94-2.06-.94-.94-2.06-.94 2.06-2.06.94zm-11 1L8.5 8.5l.94-2.06 2.06-.94-2.06-.94L8.5 2.5l-.94 2.06-2.06.94zm10 10l.94 2.06.94-2.06 2.06-.94-2.06-.94-.94-2.06-.94 2.06-2.06.94z\"/><path d=\"M17.41 7.96l-1.37-1.37c-.4-.4-.92-.59-1.43-.59-.52 0-1.04.2-1.43.59L10.3 9.45l-7.72 7.72c-.78.78-.78 2.05 0 2.83L4 21.41c.39.39.9.59 1.41.59.51 0 1.02-.2 1.41-.59l7.78-7.78 2.81-2.81c.8-.78.8-2.07 0-2.86zM5.41 20L4 18.59l7.72-7.72 1.47 1.35L5.41 20z\"/>\n",
              "  </svg>\n",
              "      </button>\n",
              "      \n",
              "  <style>\n",
              "    .colab-df-container {\n",
              "      display:flex;\n",
              "      flex-wrap:wrap;\n",
              "      gap: 12px;\n",
              "    }\n",
              "\n",
              "    .colab-df-convert {\n",
              "      background-color: #E8F0FE;\n",
              "      border: none;\n",
              "      border-radius: 50%;\n",
              "      cursor: pointer;\n",
              "      display: none;\n",
              "      fill: #1967D2;\n",
              "      height: 32px;\n",
              "      padding: 0 0 0 0;\n",
              "      width: 32px;\n",
              "    }\n",
              "\n",
              "    .colab-df-convert:hover {\n",
              "      background-color: #E2EBFA;\n",
              "      box-shadow: 0px 1px 2px rgba(60, 64, 67, 0.3), 0px 1px 3px 1px rgba(60, 64, 67, 0.15);\n",
              "      fill: #174EA6;\n",
              "    }\n",
              "\n",
              "    [theme=dark] .colab-df-convert {\n",
              "      background-color: #3B4455;\n",
              "      fill: #D2E3FC;\n",
              "    }\n",
              "\n",
              "    [theme=dark] .colab-df-convert:hover {\n",
              "      background-color: #434B5C;\n",
              "      box-shadow: 0px 1px 3px 1px rgba(0, 0, 0, 0.15);\n",
              "      filter: drop-shadow(0px 1px 2px rgba(0, 0, 0, 0.3));\n",
              "      fill: #FFFFFF;\n",
              "    }\n",
              "  </style>\n",
              "\n",
              "      <script>\n",
              "        const buttonEl =\n",
              "          document.querySelector('#df-bf7070ea-a85c-408d-bd3f-065646f1112f button.colab-df-convert');\n",
              "        buttonEl.style.display =\n",
              "          google.colab.kernel.accessAllowed ? 'block' : 'none';\n",
              "\n",
              "        async function convertToInteractive(key) {\n",
              "          const element = document.querySelector('#df-bf7070ea-a85c-408d-bd3f-065646f1112f');\n",
              "          const dataTable =\n",
              "            await google.colab.kernel.invokeFunction('convertToInteractive',\n",
              "                                                     [key], {});\n",
              "          if (!dataTable) return;\n",
              "\n",
              "          const docLinkHtml = 'Like what you see? Visit the ' +\n",
              "            '<a target=\"_blank\" href=https://colab.research.google.com/notebooks/data_table.ipynb>data table notebook</a>'\n",
              "            + ' to learn more about interactive tables.';\n",
              "          element.innerHTML = '';\n",
              "          dataTable['output_type'] = 'display_data';\n",
              "          await google.colab.output.renderOutput(dataTable, element);\n",
              "          const docLink = document.createElement('div');\n",
              "          docLink.innerHTML = docLinkHtml;\n",
              "          element.appendChild(docLink);\n",
              "        }\n",
              "      </script>\n",
              "    </div>\n",
              "  </div>\n",
              "  "
            ]
          },
          "metadata": {},
          "execution_count": 11
        }
      ]
    },
    {
      "cell_type": "markdown",
      "source": [
        "**2) Breve descripción de datos**\n",
        "\n",
        "En algún momento u otro, casi todos hemos usado un un Uber u otro servicio de transporte en esta era digital para dar un paseo. Los servicios de transporte compartido son servicios que utilizan plataformas habilitadas en línea para conectarse entre pasajeros y conductores locales que utilizan sus vehículos personales.\n",
        "\n",
        "En la mayoría de los casos son un método cómodo para el transporte puerta a puerta. Por lo general, son más baratos que usar taxis con licencia. Ejemplos de servicios de transporte compartido incluyen Uber, Cabify, Beat, Didi, etc.\n",
        "\n",
        "Para mejorar la eficiencia de los sistemas de despacho de taxis para dichos servicios, es importante poder predecir cuánto tiempo un conductor tendrá ocupado su taxi. Si un despachador supiera aproximadamente cuándo un taxista terminaría su viaje actual, podría identificar mejor qué conductor asignar a cada solicitud de recogida.\n"
      ],
      "metadata": {
        "id": "1Ujq3r5kam8m"
      }
    },
    {
      "cell_type": "markdown",
      "source": [
        "\n",
        "El diccionario de datos es el siguiente:\n",
        "\n",
        "* id: un identificador único para cada viaje. Esta es una columna de datos nominales.\n",
        "\n",
        "* id_vendedor: un código que indica el proveedor asociado con el registro de viaje. Esta es una columna de datos nominales.\n",
        "\n",
        "* pickup_datetime : la fecha y la hora en que comenzó el viaje.\n",
        "\n",
        "* dropoff_datetime: la fecha y la hora en que finalizó el viaje\n",
        "\n",
        "* Passenger_count: el número de pasajeros en el vehículo (valor ingresado por el conductor)\n",
        "\n",
        "* pickup_longitude: fecha y hora en que se activó el medidor\n",
        "\n",
        "* pickup_latitude: fecha y hora en que se desconectó el medidor\n",
        "\n",
        "* dropoff_longitude : la longitud en la que se desconectó el medidor\n",
        "\n",
        "* dropoff_latitude : la latitud donde se desconectó el medidor\n",
        "\n",
        "* store_and_fwd_flag: esta bandera indica si el registro de viaje se mantuvo en la memoria del vehículo antes de enviarlo al proveedor porque el vehículo no tenía una conexión con el servidor (Y = almacenar y reenviar; N = no es un viaje de almacenamiento y reenvío). Esta columna es categórico\n",
        "\n",
        "* trip_duration : (objetivo) duración del viaje en segundos"
      ],
      "metadata": {
        "id": "sgnMbtszaScX"
      }
    },
    {
      "cell_type": "markdown",
      "source": [
        "**3) ¿Cuál es el objetivo?**\n",
        "\n",
        "El objetivo de este proyecto es predecir la duración total de los viajes en taxi en la ciudad de Nueva York."
      ],
      "metadata": {
        "id": "lm4ogudgejjf"
      }
    },
    {
      "cell_type": "markdown",
      "source": [
        "**4) ¿Este es un problema de clasificación o regresión?**\n",
        "\n",
        "Es un problema que se debe abarcar desde un modelo de regresión."
      ],
      "metadata": {
        "id": "K51IvHONhvDS"
      }
    },
    {
      "cell_type": "markdown",
      "source": [
        "**5) ¿Cuántas características hay?**"
      ],
      "metadata": {
        "id": "NmLwFR4IkRNG"
      }
    },
    {
      "cell_type": "code",
      "source": [
        "# Revisamos el número y tipo de datos por Columna, al igual que posibles datos faltantes que se tengan\n",
        "print(df.info(), '\\n')"
      ],
      "metadata": {
        "colab": {
          "base_uri": "https://localhost:8080/"
        },
        "id": "QCsm7o8ukVGe",
        "outputId": "608139f1-a2a1-4b68-cd44-829ad552f4f7"
      },
      "execution_count": 12,
      "outputs": [
        {
          "output_type": "stream",
          "name": "stdout",
          "text": [
            "<class 'pandas.core.frame.DataFrame'>\n",
            "RangeIndex: 729322 entries, 0 to 729321\n",
            "Data columns (total 11 columns):\n",
            " #   Column              Non-Null Count   Dtype  \n",
            "---  ------              --------------   -----  \n",
            " 0   id                  729322 non-null  object \n",
            " 1   vendor_id           729322 non-null  int64  \n",
            " 2   pickup_datetime     729322 non-null  object \n",
            " 3   dropoff_datetime    729322 non-null  object \n",
            " 4   passenger_count     729322 non-null  int64  \n",
            " 5   pickup_longitude    729322 non-null  float64\n",
            " 6   pickup_latitude     729322 non-null  float64\n",
            " 7   dropoff_longitude   729322 non-null  float64\n",
            " 8   dropoff_latitude    729322 non-null  float64\n",
            " 9   store_and_fwd_flag  729322 non-null  object \n",
            " 10  trip_duration       729322 non-null  int64  \n",
            "dtypes: float64(4), int64(3), object(4)\n",
            "memory usage: 61.2+ MB\n",
            "None \n",
            "\n"
          ]
        }
      ]
    },
    {
      "cell_type": "code",
      "source": [
        "# Examinamos el número de valores únicos entre las columnas con las cuales estamos trabajando\n",
        "df.nunique()"
      ],
      "metadata": {
        "colab": {
          "base_uri": "https://localhost:8080/"
        },
        "id": "vqUAi7QplPG_",
        "outputId": "1cd8107e-a431-4def-ecf6-86359faa214b"
      },
      "execution_count": 13,
      "outputs": [
        {
          "output_type": "execute_result",
          "data": {
            "text/plain": [
              "id                    729322\n",
              "vendor_id                  2\n",
              "pickup_datetime       709359\n",
              "dropoff_datetime      709308\n",
              "passenger_count            9\n",
              "pickup_longitude       19729\n",
              "pickup_latitude        39776\n",
              "dropoff_longitude      27892\n",
              "dropoff_latitude       53579\n",
              "store_and_fwd_flag         2\n",
              "trip_duration           6296\n",
              "dtype: int64"
            ]
          },
          "metadata": {},
          "execution_count": 13
        }
      ]
    },
    {
      "cell_type": "code",
      "source": [
        "# Verifico la nomenclatura de las columnas\n",
        "df.columns"
      ],
      "metadata": {
        "colab": {
          "base_uri": "https://localhost:8080/"
        },
        "id": "D-TKz86ykoF-",
        "outputId": "59c05f64-f87f-45ae-a134-5bf5412da349"
      },
      "execution_count": 14,
      "outputs": [
        {
          "output_type": "execute_result",
          "data": {
            "text/plain": [
              "Index(['id', 'vendor_id', 'pickup_datetime', 'dropoff_datetime',\n",
              "       'passenger_count', 'pickup_longitude', 'pickup_latitude',\n",
              "       'dropoff_longitude', 'dropoff_latitude', 'store_and_fwd_flag',\n",
              "       'trip_duration'],\n",
              "      dtype='object')"
            ]
          },
          "metadata": {},
          "execution_count": 14
        }
      ]
    },
    {
      "cell_type": "markdown",
      "source": [
        "Hay 11 caracteristicas dentro del dataset.\n",
        "\n",
        "* 6 características numéricas, la gran mayoria de tipo float64.\n",
        "* 2 características nominales (Columnas id y vendor_id).\n",
        "* 2 características de tipo objeto que podrian convertirsen y tratarse como categorias numérica (Columnas pickup_datetime y dropoff_datetime).\n",
        "* 1 características ordinal."
      ],
      "metadata": {
        "id": "HjdvwyhvkvBe"
      }
    },
    {
      "cell_type": "markdown",
      "source": [
        "**6) ¿Cuántas filas de datos hay?**"
      ],
      "metadata": {
        "id": "gcmicQ72sAte"
      }
    },
    {
      "cell_type": "code",
      "source": [
        "# Revisamos la composición del dataset\n",
        "df.shape"
      ],
      "metadata": {
        "colab": {
          "base_uri": "https://localhost:8080/"
        },
        "id": "8S_g-bFxsBWN",
        "outputId": "a6bb290f-738e-464d-f4fe-2328e66b6940"
      },
      "execution_count": 15,
      "outputs": [
        {
          "output_type": "execute_result",
          "data": {
            "text/plain": [
              "(729322, 11)"
            ]
          },
          "metadata": {},
          "execution_count": 15
        }
      ]
    },
    {
      "cell_type": "markdown",
      "source": [
        "Hay 11 columnas y 729.322 filas por columna."
      ],
      "metadata": {
        "id": "mNnYmiT3sb51"
      }
    },
    {
      "cell_type": "markdown",
      "source": [
        "**7) ¿Qué retos, si es que hay alguno, prevén en la limpieza, exploración o modelización con este conjunto de datos?**"
      ],
      "metadata": {
        "id": "RJd-4RJnhx-6"
      }
    },
    {
      "cell_type": "markdown",
      "source": [
        "Los retos que puedo identificar al momento seria identificar posibles datos duplicados, datos con valores de 0 en ciertas columnas que sean importantes para el análisis, identificar las columnas que no incidan en el proceso hacia la predicción y quedan eliminarse, analizar si se requiere una conversión para las columnas que manejan formato de tipo fecha."
      ],
      "metadata": {
        "id": "OcQqssh0snt1"
      }
    },
    {
      "cell_type": "markdown",
      "source": [
        "\n",
        "\n",
        "---\n",
        "\n"
      ],
      "metadata": {
        "id": "11G3NQ7WhakC"
      }
    },
    {
      "cell_type": "markdown",
      "source": [
        "## **Primera opción: conjunto de datos 2**"
      ],
      "metadata": {
        "id": "5PQ_37CGhfi6"
      }
    },
    {
      "cell_type": "markdown",
      "source": [
        "**1) Fuente de datos**\n",
        "\n",
        "El Standard and Poor's 500 o S&P 500 es el índice de referencia financiero más famoso del mundo. Este índice bursátil rastrea el desempeño de 500 grandes empresas que cotizan en las bolsas de valores de los Estados Unidos. Al 31 de diciembre de 2020, se invirtieron más de $5,4 billones en activos atados al desempeño de este índice.\n",
        "\n",
        "La fuente de datos fue buscada y descargada desde el sitio web Kaggle. ([Ver fuente](https://www.kaggle.com/datasets/camnugent/sandp500))"
      ],
      "metadata": {
        "id": "UT_JHZfTs69V"
      }
    },
    {
      "cell_type": "code",
      "source": [
        "# Importamos el data set y lo visualizamos en un DataFrame\n",
        "filename = ('/content/drive/MyDrive/Colab Notebooks/Codificación de Dojo/Semana07/Datasets/all_stocks_5yr.csv')\n",
        "df2 = pd.read_csv(filename)\n",
        "df2.head()"
      ],
      "metadata": {
        "colab": {
          "base_uri": "https://localhost:8080/",
          "height": 206
        },
        "id": "dcop6Igi4eMU",
        "outputId": "fd044d46-e0a9-4d2a-ae56-1c8d8801b49f"
      },
      "execution_count": 16,
      "outputs": [
        {
          "output_type": "execute_result",
          "data": {
            "text/plain": [
              "         date   open   high    low  close    volume Name\n",
              "0  2013-02-08  15.07  15.12  14.63  14.75   8407500  AAL\n",
              "1  2013-02-11  14.89  15.01  14.26  14.46   8882000  AAL\n",
              "2  2013-02-12  14.45  14.51  14.10  14.27   8126000  AAL\n",
              "3  2013-02-13  14.30  14.94  14.25  14.66  10259500  AAL\n",
              "4  2013-02-14  14.94  14.96  13.16  13.99  31879900  AAL"
            ],
            "text/html": [
              "\n",
              "  <div id=\"df-4542acec-36e1-492b-ab58-24f6a69887af\">\n",
              "    <div class=\"colab-df-container\">\n",
              "      <div>\n",
              "<style scoped>\n",
              "    .dataframe tbody tr th:only-of-type {\n",
              "        vertical-align: middle;\n",
              "    }\n",
              "\n",
              "    .dataframe tbody tr th {\n",
              "        vertical-align: top;\n",
              "    }\n",
              "\n",
              "    .dataframe thead th {\n",
              "        text-align: right;\n",
              "    }\n",
              "</style>\n",
              "<table border=\"1\" class=\"dataframe\">\n",
              "  <thead>\n",
              "    <tr style=\"text-align: right;\">\n",
              "      <th></th>\n",
              "      <th>date</th>\n",
              "      <th>open</th>\n",
              "      <th>high</th>\n",
              "      <th>low</th>\n",
              "      <th>close</th>\n",
              "      <th>volume</th>\n",
              "      <th>Name</th>\n",
              "    </tr>\n",
              "  </thead>\n",
              "  <tbody>\n",
              "    <tr>\n",
              "      <th>0</th>\n",
              "      <td>2013-02-08</td>\n",
              "      <td>15.07</td>\n",
              "      <td>15.12</td>\n",
              "      <td>14.63</td>\n",
              "      <td>14.75</td>\n",
              "      <td>8407500</td>\n",
              "      <td>AAL</td>\n",
              "    </tr>\n",
              "    <tr>\n",
              "      <th>1</th>\n",
              "      <td>2013-02-11</td>\n",
              "      <td>14.89</td>\n",
              "      <td>15.01</td>\n",
              "      <td>14.26</td>\n",
              "      <td>14.46</td>\n",
              "      <td>8882000</td>\n",
              "      <td>AAL</td>\n",
              "    </tr>\n",
              "    <tr>\n",
              "      <th>2</th>\n",
              "      <td>2013-02-12</td>\n",
              "      <td>14.45</td>\n",
              "      <td>14.51</td>\n",
              "      <td>14.10</td>\n",
              "      <td>14.27</td>\n",
              "      <td>8126000</td>\n",
              "      <td>AAL</td>\n",
              "    </tr>\n",
              "    <tr>\n",
              "      <th>3</th>\n",
              "      <td>2013-02-13</td>\n",
              "      <td>14.30</td>\n",
              "      <td>14.94</td>\n",
              "      <td>14.25</td>\n",
              "      <td>14.66</td>\n",
              "      <td>10259500</td>\n",
              "      <td>AAL</td>\n",
              "    </tr>\n",
              "    <tr>\n",
              "      <th>4</th>\n",
              "      <td>2013-02-14</td>\n",
              "      <td>14.94</td>\n",
              "      <td>14.96</td>\n",
              "      <td>13.16</td>\n",
              "      <td>13.99</td>\n",
              "      <td>31879900</td>\n",
              "      <td>AAL</td>\n",
              "    </tr>\n",
              "  </tbody>\n",
              "</table>\n",
              "</div>\n",
              "      <button class=\"colab-df-convert\" onclick=\"convertToInteractive('df-4542acec-36e1-492b-ab58-24f6a69887af')\"\n",
              "              title=\"Convert this dataframe to an interactive table.\"\n",
              "              style=\"display:none;\">\n",
              "        \n",
              "  <svg xmlns=\"http://www.w3.org/2000/svg\" height=\"24px\"viewBox=\"0 0 24 24\"\n",
              "       width=\"24px\">\n",
              "    <path d=\"M0 0h24v24H0V0z\" fill=\"none\"/>\n",
              "    <path d=\"M18.56 5.44l.94 2.06.94-2.06 2.06-.94-2.06-.94-.94-2.06-.94 2.06-2.06.94zm-11 1L8.5 8.5l.94-2.06 2.06-.94-2.06-.94L8.5 2.5l-.94 2.06-2.06.94zm10 10l.94 2.06.94-2.06 2.06-.94-2.06-.94-.94-2.06-.94 2.06-2.06.94z\"/><path d=\"M17.41 7.96l-1.37-1.37c-.4-.4-.92-.59-1.43-.59-.52 0-1.04.2-1.43.59L10.3 9.45l-7.72 7.72c-.78.78-.78 2.05 0 2.83L4 21.41c.39.39.9.59 1.41.59.51 0 1.02-.2 1.41-.59l7.78-7.78 2.81-2.81c.8-.78.8-2.07 0-2.86zM5.41 20L4 18.59l7.72-7.72 1.47 1.35L5.41 20z\"/>\n",
              "  </svg>\n",
              "      </button>\n",
              "      \n",
              "  <style>\n",
              "    .colab-df-container {\n",
              "      display:flex;\n",
              "      flex-wrap:wrap;\n",
              "      gap: 12px;\n",
              "    }\n",
              "\n",
              "    .colab-df-convert {\n",
              "      background-color: #E8F0FE;\n",
              "      border: none;\n",
              "      border-radius: 50%;\n",
              "      cursor: pointer;\n",
              "      display: none;\n",
              "      fill: #1967D2;\n",
              "      height: 32px;\n",
              "      padding: 0 0 0 0;\n",
              "      width: 32px;\n",
              "    }\n",
              "\n",
              "    .colab-df-convert:hover {\n",
              "      background-color: #E2EBFA;\n",
              "      box-shadow: 0px 1px 2px rgba(60, 64, 67, 0.3), 0px 1px 3px 1px rgba(60, 64, 67, 0.15);\n",
              "      fill: #174EA6;\n",
              "    }\n",
              "\n",
              "    [theme=dark] .colab-df-convert {\n",
              "      background-color: #3B4455;\n",
              "      fill: #D2E3FC;\n",
              "    }\n",
              "\n",
              "    [theme=dark] .colab-df-convert:hover {\n",
              "      background-color: #434B5C;\n",
              "      box-shadow: 0px 1px 3px 1px rgba(0, 0, 0, 0.15);\n",
              "      filter: drop-shadow(0px 1px 2px rgba(0, 0, 0, 0.3));\n",
              "      fill: #FFFFFF;\n",
              "    }\n",
              "  </style>\n",
              "\n",
              "      <script>\n",
              "        const buttonEl =\n",
              "          document.querySelector('#df-4542acec-36e1-492b-ab58-24f6a69887af button.colab-df-convert');\n",
              "        buttonEl.style.display =\n",
              "          google.colab.kernel.accessAllowed ? 'block' : 'none';\n",
              "\n",
              "        async function convertToInteractive(key) {\n",
              "          const element = document.querySelector('#df-4542acec-36e1-492b-ab58-24f6a69887af');\n",
              "          const dataTable =\n",
              "            await google.colab.kernel.invokeFunction('convertToInteractive',\n",
              "                                                     [key], {});\n",
              "          if (!dataTable) return;\n",
              "\n",
              "          const docLinkHtml = 'Like what you see? Visit the ' +\n",
              "            '<a target=\"_blank\" href=https://colab.research.google.com/notebooks/data_table.ipynb>data table notebook</a>'\n",
              "            + ' to learn more about interactive tables.';\n",
              "          element.innerHTML = '';\n",
              "          dataTable['output_type'] = 'display_data';\n",
              "          await google.colab.output.renderOutput(dataTable, element);\n",
              "          const docLink = document.createElement('div');\n",
              "          docLink.innerHTML = docLinkHtml;\n",
              "          element.appendChild(docLink);\n",
              "        }\n",
              "      </script>\n",
              "    </div>\n",
              "  </div>\n",
              "  "
            ]
          },
          "metadata": {},
          "execution_count": 16
        }
      ]
    },
    {
      "cell_type": "markdown",
      "source": [
        "**2) Breve descripción de datos**\n",
        "\n",
        "Los datos bursátiles pueden ser interesantes de analizar y, como incentivo adicional, los modelos predictivos sólidos pueden tener grandes beneficios financieros. Pero puede ser difícil encontrar un conjunto de datos amplio y bien estructurado sobre una gran variedad de empresas. El dataset que se desea usar para esta actividad es un conjunto de datos con los precios históricos de las acciones (entre 5 años del 2013-2018) de todas las empresas que se encuentran actualmente en el índice S&P 500.\n",
        "\n"
      ],
      "metadata": {
        "id": "Q_snZau7wp-L"
      }
    },
    {
      "cell_type": "markdown",
      "source": [
        "\n",
        "\n",
        "El diccionario de datos es el siguiente:\n",
        "\n",
        "*   **Date:** en formato a-mm-dd (tipo de dato Object)\n",
        "*   **Open:** precio de la acción en la apertura del mercado (se trata de datos de la Bolsa de Valores de Nueva York, por lo que todos están en USD) (tipo de dato Int)\n",
        "* **High:** Precio más alto alcanzado en el día (tipo de dato Flotante)\n",
        "* **Low:** Precio más bajo alcanzado en el día (tipo de dato Flotante)\n",
        "* **Close:** Precio más bajo alcanzado en el día (tipo de dato Flotante)\n",
        "* **Volumen:** Número de acciones negociadas (tipo de dato Int)\n",
        "* **Name:** el nombre del ticker de la acción (tipo de dato Object)"
      ],
      "metadata": {
        "id": "QgbKrPIsutpK"
      }
    },
    {
      "cell_type": "markdown",
      "source": [
        "**3) ¿Cuál es el objetivo?**\n",
        "\n",
        "El objetivo de este proyecto es predecir el precio futuro de los activos mas representativos del S&P 500."
      ],
      "metadata": {
        "id": "K82mf4ibuI1f"
      }
    },
    {
      "cell_type": "markdown",
      "source": [
        "**4) ¿Este es un problema de clasificación o regresión?**\n",
        "\n",
        "Es un problema que se debe abarcar desde un modelo de regresión."
      ],
      "metadata": {
        "id": "t3GK5zzS4-iW"
      }
    },
    {
      "cell_type": "markdown",
      "source": [
        "**5) ¿Cuántas características hay?**"
      ],
      "metadata": {
        "id": "MML2vtbO5CW2"
      }
    },
    {
      "cell_type": "code",
      "source": [
        "# Revisamos el número y tipo de datos por Columna, al igual que posibles datos faltantes que se tengan\n",
        "print(df2.info(), '\\n')"
      ],
      "metadata": {
        "colab": {
          "base_uri": "https://localhost:8080/"
        },
        "id": "Qso2riWh5GDf",
        "outputId": "6f8760d7-2bdb-4b3e-86b6-228f8bbf4207"
      },
      "execution_count": 20,
      "outputs": [
        {
          "output_type": "stream",
          "name": "stdout",
          "text": [
            "<class 'pandas.core.frame.DataFrame'>\n",
            "RangeIndex: 619040 entries, 0 to 619039\n",
            "Data columns (total 7 columns):\n",
            " #   Column  Non-Null Count   Dtype  \n",
            "---  ------  --------------   -----  \n",
            " 0   date    619040 non-null  object \n",
            " 1   open    619029 non-null  float64\n",
            " 2   high    619032 non-null  float64\n",
            " 3   low     619032 non-null  float64\n",
            " 4   close   619040 non-null  float64\n",
            " 5   volume  619040 non-null  int64  \n",
            " 6   Name    619040 non-null  object \n",
            "dtypes: float64(4), int64(1), object(2)\n",
            "memory usage: 33.1+ MB\n",
            "None \n",
            "\n"
          ]
        }
      ]
    },
    {
      "cell_type": "code",
      "source": [
        "# Examinamos el número de valores únicos entre las columnas con las cuales estamos trabajando\n",
        "df2.nunique()"
      ],
      "metadata": {
        "colab": {
          "base_uri": "https://localhost:8080/"
        },
        "id": "qQdIfqyX5Jcc",
        "outputId": "b6c9fa50-329b-4a16-d250-83a463a95279"
      },
      "execution_count": 21,
      "outputs": [
        {
          "output_type": "execute_result",
          "data": {
            "text/plain": [
              "date        1259\n",
              "open       49715\n",
              "high       81499\n",
              "low        82354\n",
              "close      51151\n",
              "volume    586441\n",
              "Name         505\n",
              "dtype: int64"
            ]
          },
          "metadata": {},
          "execution_count": 21
        }
      ]
    },
    {
      "cell_type": "code",
      "source": [
        "# Verifico la nomenclatura de las columnas\n",
        "df2.columns"
      ],
      "metadata": {
        "colab": {
          "base_uri": "https://localhost:8080/"
        },
        "id": "ii8M_kdY5XgF",
        "outputId": "a75cc3a5-0c29-45f2-cb2f-fe19c1157030"
      },
      "execution_count": 22,
      "outputs": [
        {
          "output_type": "execute_result",
          "data": {
            "text/plain": [
              "Index(['date', 'open', 'high', 'low', 'close', 'volume', 'Name'], dtype='object')"
            ]
          },
          "metadata": {},
          "execution_count": 22
        }
      ]
    },
    {
      "cell_type": "markdown",
      "source": [
        "Hay 7 caracteristicas dentro del dataset.\n",
        "\n",
        "5 características numéricas, la gran mayoria de tipo float64.\n",
        "\n",
        "2 características nominales (date y Name).\n",
        "\n",
        "De esas 2 características nominales hay 1 característica de tipo objeto que podrian convertirsen y tratarse como categorias numérica (Columna date)."
      ],
      "metadata": {
        "id": "cLDqTqh05dkO"
      }
    },
    {
      "cell_type": "markdown",
      "source": [
        "**6) ¿Cuántas filas de datos hay?**"
      ],
      "metadata": {
        "id": "bNBM2zlV5hh1"
      }
    },
    {
      "cell_type": "code",
      "source": [
        "# Revisamos la composición del dataset\n",
        "df2.shape"
      ],
      "metadata": {
        "colab": {
          "base_uri": "https://localhost:8080/"
        },
        "id": "w-VyMH9p5kLT",
        "outputId": "afb0d72f-1257-45b8-c938-a1f75e8b01e0"
      },
      "execution_count": 24,
      "outputs": [
        {
          "output_type": "execute_result",
          "data": {
            "text/plain": [
              "(619040, 7)"
            ]
          },
          "metadata": {},
          "execution_count": 24
        }
      ]
    },
    {
      "cell_type": "markdown",
      "source": [
        "Hay 7 columnas y 619.040 filas por columna."
      ],
      "metadata": {
        "id": "6c4TVs_z5nB9"
      }
    },
    {
      "cell_type": "markdown",
      "source": [
        "**7) ¿Qué retos, si es que hay alguno, prevén en la limpieza, exploración o modelización con este conjunto de datos?**"
      ],
      "metadata": {
        "id": "2ZzqyMR_5vQT"
      }
    },
    {
      "cell_type": "markdown",
      "source": [
        "Los retos que puedo identificar al momento seria identificar posibles datos duplicados, datos con valores de 0 en ciertas columnas que sean importantes para el análisis dado que se manejan temas de precio, identificar las columnas que no incidan en el proceso hacia la predicción y que deban eliminarse, analizar si se requiere una conversión para la columna que manejan formato de tipo date."
      ],
      "metadata": {
        "id": "3mVsCJK86RO3"
      }
    },
    {
      "cell_type": "markdown",
      "source": [
        "\n",
        "\n",
        "---\n",
        "\n"
      ],
      "metadata": {
        "id": "EbTqJk126b6T"
      }
    }
  ]
}