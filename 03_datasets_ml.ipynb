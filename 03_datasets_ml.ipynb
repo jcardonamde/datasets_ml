{
  "nbformat": 4,
  "nbformat_minor": 0,
  "metadata": {
    "colab": {
      "provenance": [],
      "toc_visible": true,
      "mount_file_id": "1PlbHY_wt9eelZDm_fgHzN5bDZVth-_nu",
      "authorship_tag": "ABX9TyOo5nINJwcYHYfqoJr0nb1Q",
      "include_colab_link": true
    },
    "kernelspec": {
      "name": "python3",
      "display_name": "Python 3"
    },
    "language_info": {
      "name": "python"
    }
  },
  "cells": [
    {
      "cell_type": "markdown",
      "metadata": {
        "id": "view-in-github",
        "colab_type": "text"
      },
      "source": [
        "<a href=\"https://colab.research.google.com/github/jcardonamde/datasets_ml/blob/main/03_datasets_ml.ipynb\" target=\"_parent\"><img src=\"https://colab.research.google.com/assets/colab-badge.svg\" alt=\"Open In Colab\"/></a>"
      ]
    },
    {
      "cell_type": "markdown",
      "source": [
        "# **Proyecto 2: Parte 1**\n",
        "\n",
        "La tarea para esta semana es proponer dos posibles conjuntos de datos que les gustaría trabajar para el proyecto 2.  \n",
        "\n",
        "Escogerán el conjunto de datos de primera opción, y un conjunto de datos de reserva en caso de que el primero propuesto no se apruebe.  \n",
        "\n",
        "Estos datos pueden proceder de cualquier fuente y ser sobre cualquier tema con estas limitaciones:\n",
        "\n",
        "* los datos deben estar disponibles para su uso (es su responsabilidad garantizar que la licencia indique que pueden utilizarlos)\n",
        "* los datos deben ser adecuados para un ambiente profesional\n",
        "* los datos NO deben contener información personal\n",
        "* los datos NO deben ser de un conjunto de datos usados en alguna tarea o clase del curso\n",
        "\n",
        "Asegúrense de seleccionar un conjunto de datos con el que sea razonable trabajar en el tiempo que nos queda. Piensen qué preguntas podrían responder con el conjunto de datos que seleccionen. \n",
        "\n",
        "Deben proponer dos conjuntos de datos que tengan cada uno un componente de aprendizaje supervisado. Pueden elegir un problema de regresión o clasificación para cada conjunto de datos propuesto.  "
      ],
      "metadata": {
        "id": "oqvyUA0Qmw4C"
      }
    },
    {
      "cell_type": "markdown",
      "source": [
        "\n",
        "\n",
        "---\n",
        "\n"
      ],
      "metadata": {
        "id": "FO2eoCmnnFq_"
      }
    },
    {
      "cell_type": "markdown",
      "source": [
        "## **Primera opción: conjunto de datos 1**"
      ],
      "metadata": {
        "id": "lzDqFaTcnErj"
      }
    },
    {
      "cell_type": "markdown",
      "source": [
        "**1) Fuente de datos**\n",
        "\n"
      ],
      "metadata": {
        "id": "Wh1LsOtzuSB1"
      }
    },
    {
      "cell_type": "markdown",
      "source": [
        "Este es un conjunto de datos principal publicado por la Comisión de Taxis y Limusinas de la Ciudad de Nueva York, que incluye la hora de recogida, las coordenadas geográficas, la cantidad de pasajeros y varias otras variables.\n",
        "\n",
        "La fuente de datos fue buscada y descargada desde el sitio web Kaggle. En la publicación asociada a la tematica en cuestión. ([Ver fuente](https://www.kaggle.com/c/nyc-taxi-trip-duration))\n"
      ],
      "metadata": {
        "id": "OdPN3oled5Wu"
      }
    },
    {
      "cell_type": "code",
      "execution_count": 2,
      "metadata": {
        "id": "VqEu-_KPmv8J"
      },
      "outputs": [],
      "source": [
        "# Importamos las bibliotecas requeridas para el manejo y revisión inicial de nuestros datos\n",
        "import pandas as pd\n",
        "import numpy as np"
      ]
    },
    {
      "cell_type": "code",
      "source": [
        "# Importamos el data set y lo visualizamos en un DataFrame\n",
        "filename = ('/content/drive/MyDrive/Colab Notebooks/Codificación de Dojo/Proyectos/Datasets/nyc_taxi_trip_duration.csv')\n",
        "df = pd.read_csv(filename)\n",
        "df.head()"
      ],
      "metadata": {
        "colab": {
          "base_uri": "https://localhost:8080/",
          "height": 357
        },
        "id": "2KOJsUelrZON",
        "outputId": "426d3bd4-1d40-42f1-9616-af8fafc5e3cf"
      },
      "execution_count": 3,
      "outputs": [
        {
          "output_type": "execute_result",
          "data": {
            "text/plain": [
              "          id  vendor_id      pickup_datetime     dropoff_datetime  \\\n",
              "0  id1080784          2  2016-02-29 16:40:21  2016-02-29 16:47:01   \n",
              "1  id0889885          1  2016-03-11 23:35:37  2016-03-11 23:53:57   \n",
              "2  id0857912          2  2016-02-21 17:59:33  2016-02-21 18:26:48   \n",
              "3  id3744273          2  2016-01-05 09:44:31  2016-01-05 10:03:32   \n",
              "4  id0232939          1  2016-02-17 06:42:23  2016-02-17 06:56:31   \n",
              "\n",
              "   passenger_count  pickup_longitude  pickup_latitude  dropoff_longitude  \\\n",
              "0                1        -73.953918        40.778873         -73.963875   \n",
              "1                2        -73.988312        40.731743         -73.994751   \n",
              "2                2        -73.997314        40.721458         -73.948029   \n",
              "3                6        -73.961670        40.759720         -73.956779   \n",
              "4                1        -74.017120        40.708469         -73.988182   \n",
              "\n",
              "   dropoff_latitude store_and_fwd_flag  trip_duration  \n",
              "0         40.771164                  N            400  \n",
              "1         40.694931                  N           1100  \n",
              "2         40.774918                  N           1635  \n",
              "3         40.780628                  N           1141  \n",
              "4         40.740631                  N            848  "
            ],
            "text/html": [
              "\n",
              "  <div id=\"df-a40e42c2-15fc-49e9-b8d3-7a58570db639\">\n",
              "    <div class=\"colab-df-container\">\n",
              "      <div>\n",
              "<style scoped>\n",
              "    .dataframe tbody tr th:only-of-type {\n",
              "        vertical-align: middle;\n",
              "    }\n",
              "\n",
              "    .dataframe tbody tr th {\n",
              "        vertical-align: top;\n",
              "    }\n",
              "\n",
              "    .dataframe thead th {\n",
              "        text-align: right;\n",
              "    }\n",
              "</style>\n",
              "<table border=\"1\" class=\"dataframe\">\n",
              "  <thead>\n",
              "    <tr style=\"text-align: right;\">\n",
              "      <th></th>\n",
              "      <th>id</th>\n",
              "      <th>vendor_id</th>\n",
              "      <th>pickup_datetime</th>\n",
              "      <th>dropoff_datetime</th>\n",
              "      <th>passenger_count</th>\n",
              "      <th>pickup_longitude</th>\n",
              "      <th>pickup_latitude</th>\n",
              "      <th>dropoff_longitude</th>\n",
              "      <th>dropoff_latitude</th>\n",
              "      <th>store_and_fwd_flag</th>\n",
              "      <th>trip_duration</th>\n",
              "    </tr>\n",
              "  </thead>\n",
              "  <tbody>\n",
              "    <tr>\n",
              "      <th>0</th>\n",
              "      <td>id1080784</td>\n",
              "      <td>2</td>\n",
              "      <td>2016-02-29 16:40:21</td>\n",
              "      <td>2016-02-29 16:47:01</td>\n",
              "      <td>1</td>\n",
              "      <td>-73.953918</td>\n",
              "      <td>40.778873</td>\n",
              "      <td>-73.963875</td>\n",
              "      <td>40.771164</td>\n",
              "      <td>N</td>\n",
              "      <td>400</td>\n",
              "    </tr>\n",
              "    <tr>\n",
              "      <th>1</th>\n",
              "      <td>id0889885</td>\n",
              "      <td>1</td>\n",
              "      <td>2016-03-11 23:35:37</td>\n",
              "      <td>2016-03-11 23:53:57</td>\n",
              "      <td>2</td>\n",
              "      <td>-73.988312</td>\n",
              "      <td>40.731743</td>\n",
              "      <td>-73.994751</td>\n",
              "      <td>40.694931</td>\n",
              "      <td>N</td>\n",
              "      <td>1100</td>\n",
              "    </tr>\n",
              "    <tr>\n",
              "      <th>2</th>\n",
              "      <td>id0857912</td>\n",
              "      <td>2</td>\n",
              "      <td>2016-02-21 17:59:33</td>\n",
              "      <td>2016-02-21 18:26:48</td>\n",
              "      <td>2</td>\n",
              "      <td>-73.997314</td>\n",
              "      <td>40.721458</td>\n",
              "      <td>-73.948029</td>\n",
              "      <td>40.774918</td>\n",
              "      <td>N</td>\n",
              "      <td>1635</td>\n",
              "    </tr>\n",
              "    <tr>\n",
              "      <th>3</th>\n",
              "      <td>id3744273</td>\n",
              "      <td>2</td>\n",
              "      <td>2016-01-05 09:44:31</td>\n",
              "      <td>2016-01-05 10:03:32</td>\n",
              "      <td>6</td>\n",
              "      <td>-73.961670</td>\n",
              "      <td>40.759720</td>\n",
              "      <td>-73.956779</td>\n",
              "      <td>40.780628</td>\n",
              "      <td>N</td>\n",
              "      <td>1141</td>\n",
              "    </tr>\n",
              "    <tr>\n",
              "      <th>4</th>\n",
              "      <td>id0232939</td>\n",
              "      <td>1</td>\n",
              "      <td>2016-02-17 06:42:23</td>\n",
              "      <td>2016-02-17 06:56:31</td>\n",
              "      <td>1</td>\n",
              "      <td>-74.017120</td>\n",
              "      <td>40.708469</td>\n",
              "      <td>-73.988182</td>\n",
              "      <td>40.740631</td>\n",
              "      <td>N</td>\n",
              "      <td>848</td>\n",
              "    </tr>\n",
              "  </tbody>\n",
              "</table>\n",
              "</div>\n",
              "      <button class=\"colab-df-convert\" onclick=\"convertToInteractive('df-a40e42c2-15fc-49e9-b8d3-7a58570db639')\"\n",
              "              title=\"Convert this dataframe to an interactive table.\"\n",
              "              style=\"display:none;\">\n",
              "        \n",
              "  <svg xmlns=\"http://www.w3.org/2000/svg\" height=\"24px\"viewBox=\"0 0 24 24\"\n",
              "       width=\"24px\">\n",
              "    <path d=\"M0 0h24v24H0V0z\" fill=\"none\"/>\n",
              "    <path d=\"M18.56 5.44l.94 2.06.94-2.06 2.06-.94-2.06-.94-.94-2.06-.94 2.06-2.06.94zm-11 1L8.5 8.5l.94-2.06 2.06-.94-2.06-.94L8.5 2.5l-.94 2.06-2.06.94zm10 10l.94 2.06.94-2.06 2.06-.94-2.06-.94-.94-2.06-.94 2.06-2.06.94z\"/><path d=\"M17.41 7.96l-1.37-1.37c-.4-.4-.92-.59-1.43-.59-.52 0-1.04.2-1.43.59L10.3 9.45l-7.72 7.72c-.78.78-.78 2.05 0 2.83L4 21.41c.39.39.9.59 1.41.59.51 0 1.02-.2 1.41-.59l7.78-7.78 2.81-2.81c.8-.78.8-2.07 0-2.86zM5.41 20L4 18.59l7.72-7.72 1.47 1.35L5.41 20z\"/>\n",
              "  </svg>\n",
              "      </button>\n",
              "      \n",
              "  <style>\n",
              "    .colab-df-container {\n",
              "      display:flex;\n",
              "      flex-wrap:wrap;\n",
              "      gap: 12px;\n",
              "    }\n",
              "\n",
              "    .colab-df-convert {\n",
              "      background-color: #E8F0FE;\n",
              "      border: none;\n",
              "      border-radius: 50%;\n",
              "      cursor: pointer;\n",
              "      display: none;\n",
              "      fill: #1967D2;\n",
              "      height: 32px;\n",
              "      padding: 0 0 0 0;\n",
              "      width: 32px;\n",
              "    }\n",
              "\n",
              "    .colab-df-convert:hover {\n",
              "      background-color: #E2EBFA;\n",
              "      box-shadow: 0px 1px 2px rgba(60, 64, 67, 0.3), 0px 1px 3px 1px rgba(60, 64, 67, 0.15);\n",
              "      fill: #174EA6;\n",
              "    }\n",
              "\n",
              "    [theme=dark] .colab-df-convert {\n",
              "      background-color: #3B4455;\n",
              "      fill: #D2E3FC;\n",
              "    }\n",
              "\n",
              "    [theme=dark] .colab-df-convert:hover {\n",
              "      background-color: #434B5C;\n",
              "      box-shadow: 0px 1px 3px 1px rgba(0, 0, 0, 0.15);\n",
              "      filter: drop-shadow(0px 1px 2px rgba(0, 0, 0, 0.3));\n",
              "      fill: #FFFFFF;\n",
              "    }\n",
              "  </style>\n",
              "\n",
              "      <script>\n",
              "        const buttonEl =\n",
              "          document.querySelector('#df-a40e42c2-15fc-49e9-b8d3-7a58570db639 button.colab-df-convert');\n",
              "        buttonEl.style.display =\n",
              "          google.colab.kernel.accessAllowed ? 'block' : 'none';\n",
              "\n",
              "        async function convertToInteractive(key) {\n",
              "          const element = document.querySelector('#df-a40e42c2-15fc-49e9-b8d3-7a58570db639');\n",
              "          const dataTable =\n",
              "            await google.colab.kernel.invokeFunction('convertToInteractive',\n",
              "                                                     [key], {});\n",
              "          if (!dataTable) return;\n",
              "\n",
              "          const docLinkHtml = 'Like what you see? Visit the ' +\n",
              "            '<a target=\"_blank\" href=https://colab.research.google.com/notebooks/data_table.ipynb>data table notebook</a>'\n",
              "            + ' to learn more about interactive tables.';\n",
              "          element.innerHTML = '';\n",
              "          dataTable['output_type'] = 'display_data';\n",
              "          await google.colab.output.renderOutput(dataTable, element);\n",
              "          const docLink = document.createElement('div');\n",
              "          docLink.innerHTML = docLinkHtml;\n",
              "          element.appendChild(docLink);\n",
              "        }\n",
              "      </script>\n",
              "    </div>\n",
              "  </div>\n",
              "  "
            ]
          },
          "metadata": {},
          "execution_count": 3
        }
      ]
    },
    {
      "cell_type": "markdown",
      "source": [
        "**2) Breve descripción de datos**\n",
        "\n",
        "En algún momento u otro, casi todos hemos usado un un Uber u otro servicio de transporte en esta era digital para dar un paseo. Los servicios de transporte compartido son servicios que utilizan plataformas habilitadas en línea para conectarse entre pasajeros y conductores locales que utilizan sus vehículos personales.\n",
        "\n",
        "En la mayoría de los casos son un método cómodo para el transporte puerta a puerta. Por lo general, son más baratos que usar taxis con licencia. Ejemplos de servicios de transporte compartido incluyen Uber, Cabify, Beat, Didi, etc.\n",
        "\n",
        "Para mejorar la eficiencia de los sistemas de despacho de taxis para dichos servicios, es importante poder predecir cuánto tiempo un conductor tendrá ocupado su taxi. Si un despachador supiera aproximadamente cuándo un taxista terminaría su viaje actual, podría identificar mejor qué conductor asignar a cada solicitud de recogida.\n"
      ],
      "metadata": {
        "id": "1Ujq3r5kam8m"
      }
    },
    {
      "cell_type": "markdown",
      "source": [
        "\n",
        "El diccionario de datos es el siguiente:\n",
        "\n",
        "* id: un identificador único para cada viaje. Esta es una columna de datos nominales.\n",
        "\n",
        "* id_vendedor: un código que indica el proveedor asociado con el registro de viaje. Esta es una columna de datos nominales.\n",
        "\n",
        "* pickup_datetime : la fecha y la hora en que comenzó el viaje.\n",
        "\n",
        "* dropoff_datetime: la fecha y la hora en que finalizó el viaje.\n",
        "\n",
        "* Passenger_count: el número de pasajeros en el vehículo (valor ingresado por el conductor).\n",
        "\n",
        "* pickup_longitude: fecha y hora en que se activó el medidor.\n",
        "\n",
        "* pickup_latitude: fecha y hora en que se desconectó el medidor.\n",
        "\n",
        "* dropoff_longitude : la longitud en la que se desconectó el medidor.\n",
        "\n",
        "* dropoff_latitude : la latitud donde se desconectó el medidor.\n",
        "\n",
        "* store_and_fwd_flag: esta bandera indica si el registro de viaje se mantuvo en la memoria del vehículo antes de enviarlo al proveedor porque el vehículo no tenía una conexión con el servidor (Y = almacenar y reenviar; N = no es un viaje de almacenamiento y reenvío). Esta columna es categórico.\n",
        "\n",
        "* trip_duration : (objetivo) duración del viaje en segundos."
      ],
      "metadata": {
        "id": "sgnMbtszaScX"
      }
    },
    {
      "cell_type": "markdown",
      "source": [
        "**3) ¿Cuál es el objetivo?**\n",
        "\n",
        "El objetivo de este proyecto es predecir la duración total de los viajes en taxi en la ciudad de Nueva York."
      ],
      "metadata": {
        "id": "lm4ogudgejjf"
      }
    },
    {
      "cell_type": "markdown",
      "source": [
        "**4) ¿Este es un problema de clasificación o regresión?**\n",
        "\n",
        "Es un problema que se debe abarcar desde un modelo de regresión."
      ],
      "metadata": {
        "id": "K51IvHONhvDS"
      }
    },
    {
      "cell_type": "markdown",
      "source": [
        "**5) ¿Cuántas características hay?**"
      ],
      "metadata": {
        "id": "NmLwFR4IkRNG"
      }
    },
    {
      "cell_type": "code",
      "source": [
        "# Revisamos el número y tipo de datos por Columna, al igual que posibles datos faltantes que se tengan\n",
        "print(df.info(), '\\n')"
      ],
      "metadata": {
        "colab": {
          "base_uri": "https://localhost:8080/"
        },
        "id": "QCsm7o8ukVGe",
        "outputId": "c60eebe9-67d5-438f-af99-0e59092c2769"
      },
      "execution_count": 4,
      "outputs": [
        {
          "output_type": "stream",
          "name": "stdout",
          "text": [
            "<class 'pandas.core.frame.DataFrame'>\n",
            "RangeIndex: 729322 entries, 0 to 729321\n",
            "Data columns (total 11 columns):\n",
            " #   Column              Non-Null Count   Dtype  \n",
            "---  ------              --------------   -----  \n",
            " 0   id                  729322 non-null  object \n",
            " 1   vendor_id           729322 non-null  int64  \n",
            " 2   pickup_datetime     729322 non-null  object \n",
            " 3   dropoff_datetime    729322 non-null  object \n",
            " 4   passenger_count     729322 non-null  int64  \n",
            " 5   pickup_longitude    729322 non-null  float64\n",
            " 6   pickup_latitude     729322 non-null  float64\n",
            " 7   dropoff_longitude   729322 non-null  float64\n",
            " 8   dropoff_latitude    729322 non-null  float64\n",
            " 9   store_and_fwd_flag  729322 non-null  object \n",
            " 10  trip_duration       729322 non-null  int64  \n",
            "dtypes: float64(4), int64(3), object(4)\n",
            "memory usage: 61.2+ MB\n",
            "None \n",
            "\n"
          ]
        }
      ]
    },
    {
      "cell_type": "code",
      "source": [
        "# Examinamos el número de valores únicos entre las columnas con las cuales estamos trabajando\n",
        "df.nunique()"
      ],
      "metadata": {
        "colab": {
          "base_uri": "https://localhost:8080/"
        },
        "id": "vqUAi7QplPG_",
        "outputId": "a887fe60-bb61-44b6-c0dd-32957eae2b8f"
      },
      "execution_count": 5,
      "outputs": [
        {
          "output_type": "execute_result",
          "data": {
            "text/plain": [
              "id                    729322\n",
              "vendor_id                  2\n",
              "pickup_datetime       709359\n",
              "dropoff_datetime      709308\n",
              "passenger_count            9\n",
              "pickup_longitude       19729\n",
              "pickup_latitude        39776\n",
              "dropoff_longitude      27892\n",
              "dropoff_latitude       53579\n",
              "store_and_fwd_flag         2\n",
              "trip_duration           6296\n",
              "dtype: int64"
            ]
          },
          "metadata": {},
          "execution_count": 5
        }
      ]
    },
    {
      "cell_type": "code",
      "source": [
        "# Verifico la nomenclatura de las columnas\n",
        "df.columns"
      ],
      "metadata": {
        "colab": {
          "base_uri": "https://localhost:8080/"
        },
        "id": "D-TKz86ykoF-",
        "outputId": "d7d93fb2-e7ae-4c02-ae40-f54545ff08bb"
      },
      "execution_count": 6,
      "outputs": [
        {
          "output_type": "execute_result",
          "data": {
            "text/plain": [
              "Index(['id', 'vendor_id', 'pickup_datetime', 'dropoff_datetime',\n",
              "       'passenger_count', 'pickup_longitude', 'pickup_latitude',\n",
              "       'dropoff_longitude', 'dropoff_latitude', 'store_and_fwd_flag',\n",
              "       'trip_duration'],\n",
              "      dtype='object')"
            ]
          },
          "metadata": {},
          "execution_count": 6
        }
      ]
    },
    {
      "cell_type": "markdown",
      "source": [
        "Hay 11 caracteristicas dentro del dataset.\n",
        "\n",
        "* 6 características numéricas, la gran mayoria de tipo float64.\n",
        "* 2 características nominales (Columnas id y vendor_id).\n",
        "* 2 características de tipo objeto que podrian convertirsen y tratarse como categorias numérica (Columnas pickup_datetime y dropoff_datetime).\n",
        "* 1 características ordinal."
      ],
      "metadata": {
        "id": "HjdvwyhvkvBe"
      }
    },
    {
      "cell_type": "markdown",
      "source": [
        "**6) ¿Cuántas filas de datos hay?**"
      ],
      "metadata": {
        "id": "gcmicQ72sAte"
      }
    },
    {
      "cell_type": "code",
      "source": [
        "# Revisamos la composición del dataset\n",
        "df.shape"
      ],
      "metadata": {
        "colab": {
          "base_uri": "https://localhost:8080/"
        },
        "id": "8S_g-bFxsBWN",
        "outputId": "4c0e9791-97d9-4d74-b70a-6dd2d04be828"
      },
      "execution_count": 7,
      "outputs": [
        {
          "output_type": "execute_result",
          "data": {
            "text/plain": [
              "(729322, 11)"
            ]
          },
          "metadata": {},
          "execution_count": 7
        }
      ]
    },
    {
      "cell_type": "markdown",
      "source": [
        "Hay 11 columnas y 729.322 filas por columna."
      ],
      "metadata": {
        "id": "mNnYmiT3sb51"
      }
    },
    {
      "cell_type": "markdown",
      "source": [
        "**7) ¿Qué retos, si es que hay alguno, prevén en la limpieza, exploración o modelización con este conjunto de datos?**"
      ],
      "metadata": {
        "id": "RJd-4RJnhx-6"
      }
    },
    {
      "cell_type": "markdown",
      "source": [
        "Los retos que puedo identificar al momento seria identificar posibles datos duplicados, datos con valores de 0 en ciertas columnas que sean importantes para el análisis, identificar las columnas que no incidan en el proceso hacia la predicción y que puedan eliminarse, analizar si se requiere una conversión para las columnas que manejan formato de tipo fecha."
      ],
      "metadata": {
        "id": "OcQqssh0snt1"
      }
    },
    {
      "cell_type": "markdown",
      "source": [
        "\n",
        "\n",
        "---\n",
        "\n"
      ],
      "metadata": {
        "id": "11G3NQ7WhakC"
      }
    },
    {
      "cell_type": "markdown",
      "source": [
        "## **Opción de Reserva: conjunto de datos 2**"
      ],
      "metadata": {
        "id": "5PQ_37CGhfi6"
      }
    },
    {
      "cell_type": "markdown",
      "source": [
        "**1) Fuente de datos**\n",
        "\n",
        "El Standard and Poor's 500 o S&P 500 es el índice de referencia financiero más famoso del mundo. Este índice bursátil rastrea el desempeño de 500 grandes empresas que cotizan en las bolsas de valores de los Estados Unidos. Al 31 de diciembre de 2020, se invirtieron más de $5,4 billones en activos atados al desempeño de este índice.\n",
        "\n",
        "La fuente de datos fue buscada y descargada desde el sitio web Kaggle. ([Ver fuente](https://www.kaggle.com/datasets/camnugent/sandp500))"
      ],
      "metadata": {
        "id": "UT_JHZfTs69V"
      }
    },
    {
      "cell_type": "code",
      "source": [
        "# Importamos el data set y lo visualizamos en un DataFrame\n",
        "filename = ('/content/drive/MyDrive/Colab Notebooks/Codificación de Dojo/Proyectos/Datasets/all_stocks_5yr.csv')\n",
        "df2 = pd.read_csv(filename)\n",
        "df2.head()"
      ],
      "metadata": {
        "colab": {
          "base_uri": "https://localhost:8080/",
          "height": 0
        },
        "id": "dcop6Igi4eMU",
        "outputId": "411f0b84-a9f8-4ab1-816c-7eb33cca0e7d"
      },
      "execution_count": 8,
      "outputs": [
        {
          "output_type": "execute_result",
          "data": {
            "text/plain": [
              "         date   open   high    low  close    volume Name\n",
              "0  2013-02-08  15.07  15.12  14.63  14.75   8407500  AAL\n",
              "1  2013-02-11  14.89  15.01  14.26  14.46   8882000  AAL\n",
              "2  2013-02-12  14.45  14.51  14.10  14.27   8126000  AAL\n",
              "3  2013-02-13  14.30  14.94  14.25  14.66  10259500  AAL\n",
              "4  2013-02-14  14.94  14.96  13.16  13.99  31879900  AAL"
            ],
            "text/html": [
              "\n",
              "  <div id=\"df-5737dee2-dfd1-4343-b856-fb0fe4e6ca93\">\n",
              "    <div class=\"colab-df-container\">\n",
              "      <div>\n",
              "<style scoped>\n",
              "    .dataframe tbody tr th:only-of-type {\n",
              "        vertical-align: middle;\n",
              "    }\n",
              "\n",
              "    .dataframe tbody tr th {\n",
              "        vertical-align: top;\n",
              "    }\n",
              "\n",
              "    .dataframe thead th {\n",
              "        text-align: right;\n",
              "    }\n",
              "</style>\n",
              "<table border=\"1\" class=\"dataframe\">\n",
              "  <thead>\n",
              "    <tr style=\"text-align: right;\">\n",
              "      <th></th>\n",
              "      <th>date</th>\n",
              "      <th>open</th>\n",
              "      <th>high</th>\n",
              "      <th>low</th>\n",
              "      <th>close</th>\n",
              "      <th>volume</th>\n",
              "      <th>Name</th>\n",
              "    </tr>\n",
              "  </thead>\n",
              "  <tbody>\n",
              "    <tr>\n",
              "      <th>0</th>\n",
              "      <td>2013-02-08</td>\n",
              "      <td>15.07</td>\n",
              "      <td>15.12</td>\n",
              "      <td>14.63</td>\n",
              "      <td>14.75</td>\n",
              "      <td>8407500</td>\n",
              "      <td>AAL</td>\n",
              "    </tr>\n",
              "    <tr>\n",
              "      <th>1</th>\n",
              "      <td>2013-02-11</td>\n",
              "      <td>14.89</td>\n",
              "      <td>15.01</td>\n",
              "      <td>14.26</td>\n",
              "      <td>14.46</td>\n",
              "      <td>8882000</td>\n",
              "      <td>AAL</td>\n",
              "    </tr>\n",
              "    <tr>\n",
              "      <th>2</th>\n",
              "      <td>2013-02-12</td>\n",
              "      <td>14.45</td>\n",
              "      <td>14.51</td>\n",
              "      <td>14.10</td>\n",
              "      <td>14.27</td>\n",
              "      <td>8126000</td>\n",
              "      <td>AAL</td>\n",
              "    </tr>\n",
              "    <tr>\n",
              "      <th>3</th>\n",
              "      <td>2013-02-13</td>\n",
              "      <td>14.30</td>\n",
              "      <td>14.94</td>\n",
              "      <td>14.25</td>\n",
              "      <td>14.66</td>\n",
              "      <td>10259500</td>\n",
              "      <td>AAL</td>\n",
              "    </tr>\n",
              "    <tr>\n",
              "      <th>4</th>\n",
              "      <td>2013-02-14</td>\n",
              "      <td>14.94</td>\n",
              "      <td>14.96</td>\n",
              "      <td>13.16</td>\n",
              "      <td>13.99</td>\n",
              "      <td>31879900</td>\n",
              "      <td>AAL</td>\n",
              "    </tr>\n",
              "  </tbody>\n",
              "</table>\n",
              "</div>\n",
              "      <button class=\"colab-df-convert\" onclick=\"convertToInteractive('df-5737dee2-dfd1-4343-b856-fb0fe4e6ca93')\"\n",
              "              title=\"Convert this dataframe to an interactive table.\"\n",
              "              style=\"display:none;\">\n",
              "        \n",
              "  <svg xmlns=\"http://www.w3.org/2000/svg\" height=\"24px\"viewBox=\"0 0 24 24\"\n",
              "       width=\"24px\">\n",
              "    <path d=\"M0 0h24v24H0V0z\" fill=\"none\"/>\n",
              "    <path d=\"M18.56 5.44l.94 2.06.94-2.06 2.06-.94-2.06-.94-.94-2.06-.94 2.06-2.06.94zm-11 1L8.5 8.5l.94-2.06 2.06-.94-2.06-.94L8.5 2.5l-.94 2.06-2.06.94zm10 10l.94 2.06.94-2.06 2.06-.94-2.06-.94-.94-2.06-.94 2.06-2.06.94z\"/><path d=\"M17.41 7.96l-1.37-1.37c-.4-.4-.92-.59-1.43-.59-.52 0-1.04.2-1.43.59L10.3 9.45l-7.72 7.72c-.78.78-.78 2.05 0 2.83L4 21.41c.39.39.9.59 1.41.59.51 0 1.02-.2 1.41-.59l7.78-7.78 2.81-2.81c.8-.78.8-2.07 0-2.86zM5.41 20L4 18.59l7.72-7.72 1.47 1.35L5.41 20z\"/>\n",
              "  </svg>\n",
              "      </button>\n",
              "      \n",
              "  <style>\n",
              "    .colab-df-container {\n",
              "      display:flex;\n",
              "      flex-wrap:wrap;\n",
              "      gap: 12px;\n",
              "    }\n",
              "\n",
              "    .colab-df-convert {\n",
              "      background-color: #E8F0FE;\n",
              "      border: none;\n",
              "      border-radius: 50%;\n",
              "      cursor: pointer;\n",
              "      display: none;\n",
              "      fill: #1967D2;\n",
              "      height: 32px;\n",
              "      padding: 0 0 0 0;\n",
              "      width: 32px;\n",
              "    }\n",
              "\n",
              "    .colab-df-convert:hover {\n",
              "      background-color: #E2EBFA;\n",
              "      box-shadow: 0px 1px 2px rgba(60, 64, 67, 0.3), 0px 1px 3px 1px rgba(60, 64, 67, 0.15);\n",
              "      fill: #174EA6;\n",
              "    }\n",
              "\n",
              "    [theme=dark] .colab-df-convert {\n",
              "      background-color: #3B4455;\n",
              "      fill: #D2E3FC;\n",
              "    }\n",
              "\n",
              "    [theme=dark] .colab-df-convert:hover {\n",
              "      background-color: #434B5C;\n",
              "      box-shadow: 0px 1px 3px 1px rgba(0, 0, 0, 0.15);\n",
              "      filter: drop-shadow(0px 1px 2px rgba(0, 0, 0, 0.3));\n",
              "      fill: #FFFFFF;\n",
              "    }\n",
              "  </style>\n",
              "\n",
              "      <script>\n",
              "        const buttonEl =\n",
              "          document.querySelector('#df-5737dee2-dfd1-4343-b856-fb0fe4e6ca93 button.colab-df-convert');\n",
              "        buttonEl.style.display =\n",
              "          google.colab.kernel.accessAllowed ? 'block' : 'none';\n",
              "\n",
              "        async function convertToInteractive(key) {\n",
              "          const element = document.querySelector('#df-5737dee2-dfd1-4343-b856-fb0fe4e6ca93');\n",
              "          const dataTable =\n",
              "            await google.colab.kernel.invokeFunction('convertToInteractive',\n",
              "                                                     [key], {});\n",
              "          if (!dataTable) return;\n",
              "\n",
              "          const docLinkHtml = 'Like what you see? Visit the ' +\n",
              "            '<a target=\"_blank\" href=https://colab.research.google.com/notebooks/data_table.ipynb>data table notebook</a>'\n",
              "            + ' to learn more about interactive tables.';\n",
              "          element.innerHTML = '';\n",
              "          dataTable['output_type'] = 'display_data';\n",
              "          await google.colab.output.renderOutput(dataTable, element);\n",
              "          const docLink = document.createElement('div');\n",
              "          docLink.innerHTML = docLinkHtml;\n",
              "          element.appendChild(docLink);\n",
              "        }\n",
              "      </script>\n",
              "    </div>\n",
              "  </div>\n",
              "  "
            ]
          },
          "metadata": {},
          "execution_count": 8
        }
      ]
    },
    {
      "cell_type": "markdown",
      "source": [
        "**2) Breve descripción de datos**\n",
        "\n",
        "Los datos bursátiles pueden ser interesantes de analizar y, como incentivo adicional, los modelos predictivos sólidos pueden tener grandes beneficios financieros. Pero puede ser difícil encontrar un conjunto de datos amplio y bien estructurado sobre una gran variedad de empresas. El dataset que se desea usar para esta actividad es un conjunto de datos con los precios históricos de las acciones (entre 5 años del 2013-2018) de todas las empresas que se encuentran actualmente en el índice S&P 500.\n",
        "\n"
      ],
      "metadata": {
        "id": "Q_snZau7wp-L"
      }
    },
    {
      "cell_type": "markdown",
      "source": [
        "\n",
        "\n",
        "El diccionario de datos es el siguiente:\n",
        "\n",
        "*   **Date:** en formato a-mm-dd (tipo de dato Object)\n",
        "*   **Open:** precio de la acción en la apertura del mercado (se trata de datos de la Bolsa de Valores de Nueva York, por lo que todos están en USD) (tipo de dato Int)\n",
        "* **High:** Precio más alto alcanzado en el día (tipo de dato Flotante)\n",
        "* **Low:** Precio más bajo alcanzado en el día (tipo de dato Flotante)\n",
        "* **Close:** Precio más bajo alcanzado en el día (tipo de dato Flotante)\n",
        "* **Volumen:** Número de acciones negociadas (tipo de dato Int)\n",
        "* **Name:** el nombre del ticker de la acción (tipo de dato Object)"
      ],
      "metadata": {
        "id": "QgbKrPIsutpK"
      }
    },
    {
      "cell_type": "markdown",
      "source": [
        "**3) ¿Cuál es el objetivo?**\n",
        "\n",
        "El objetivo de este proyecto es predecir el precio futuro de los activos mas representativos del S&P 500."
      ],
      "metadata": {
        "id": "K82mf4ibuI1f"
      }
    },
    {
      "cell_type": "markdown",
      "source": [
        "**4) ¿Este es un problema de clasificación o regresión?**\n",
        "\n",
        "Es un problema que se debe abarcar desde un modelo de regresión."
      ],
      "metadata": {
        "id": "t3GK5zzS4-iW"
      }
    },
    {
      "cell_type": "markdown",
      "source": [
        "**5) ¿Cuántas características hay?**"
      ],
      "metadata": {
        "id": "MML2vtbO5CW2"
      }
    },
    {
      "cell_type": "code",
      "source": [
        "# Revisamos el número y tipo de datos por Columna, al igual que posibles datos faltantes que se tengan\n",
        "print(df2.info(), '\\n')"
      ],
      "metadata": {
        "colab": {
          "base_uri": "https://localhost:8080/"
        },
        "id": "Qso2riWh5GDf",
        "outputId": "635d14a3-0af0-4b0b-8415-6b9533f62b68"
      },
      "execution_count": 9,
      "outputs": [
        {
          "output_type": "stream",
          "name": "stdout",
          "text": [
            "<class 'pandas.core.frame.DataFrame'>\n",
            "RangeIndex: 619040 entries, 0 to 619039\n",
            "Data columns (total 7 columns):\n",
            " #   Column  Non-Null Count   Dtype  \n",
            "---  ------  --------------   -----  \n",
            " 0   date    619040 non-null  object \n",
            " 1   open    619029 non-null  float64\n",
            " 2   high    619032 non-null  float64\n",
            " 3   low     619032 non-null  float64\n",
            " 4   close   619040 non-null  float64\n",
            " 5   volume  619040 non-null  int64  \n",
            " 6   Name    619040 non-null  object \n",
            "dtypes: float64(4), int64(1), object(2)\n",
            "memory usage: 33.1+ MB\n",
            "None \n",
            "\n"
          ]
        }
      ]
    },
    {
      "cell_type": "code",
      "source": [
        "# Examinamos el número de valores únicos entre las columnas con las cuales estamos trabajando\n",
        "df2.nunique()"
      ],
      "metadata": {
        "colab": {
          "base_uri": "https://localhost:8080/"
        },
        "id": "qQdIfqyX5Jcc",
        "outputId": "ba05c4d6-14c8-4c11-a028-8070fd626378"
      },
      "execution_count": 10,
      "outputs": [
        {
          "output_type": "execute_result",
          "data": {
            "text/plain": [
              "date        1259\n",
              "open       49715\n",
              "high       81499\n",
              "low        82354\n",
              "close      51151\n",
              "volume    586441\n",
              "Name         505\n",
              "dtype: int64"
            ]
          },
          "metadata": {},
          "execution_count": 10
        }
      ]
    },
    {
      "cell_type": "code",
      "source": [
        "# Verifico la nomenclatura de las columnas\n",
        "df2.columns"
      ],
      "metadata": {
        "colab": {
          "base_uri": "https://localhost:8080/"
        },
        "id": "ii8M_kdY5XgF",
        "outputId": "b4a3c6be-681a-4d57-d7c5-b364f8f82181"
      },
      "execution_count": 11,
      "outputs": [
        {
          "output_type": "execute_result",
          "data": {
            "text/plain": [
              "Index(['date', 'open', 'high', 'low', 'close', 'volume', 'Name'], dtype='object')"
            ]
          },
          "metadata": {},
          "execution_count": 11
        }
      ]
    },
    {
      "cell_type": "markdown",
      "source": [
        "Hay 7 caracteristicas dentro del dataset.\n",
        "\n",
        "5 características numéricas, la gran mayoria de tipo float64.\n",
        "\n",
        "2 características nominales (date y Name).\n",
        "\n",
        "De esas 2 características nominales hay 1 característica de tipo objeto que podrian convertirsen y tratarse como categorias numérica (Columna date)."
      ],
      "metadata": {
        "id": "cLDqTqh05dkO"
      }
    },
    {
      "cell_type": "markdown",
      "source": [
        "**6) ¿Cuántas filas de datos hay?**"
      ],
      "metadata": {
        "id": "bNBM2zlV5hh1"
      }
    },
    {
      "cell_type": "code",
      "source": [
        "# Revisamos la composición del dataset\n",
        "df2.shape"
      ],
      "metadata": {
        "colab": {
          "base_uri": "https://localhost:8080/"
        },
        "id": "w-VyMH9p5kLT",
        "outputId": "8b0b14df-9d88-4d4b-cacb-1e945bcbbc52"
      },
      "execution_count": 12,
      "outputs": [
        {
          "output_type": "execute_result",
          "data": {
            "text/plain": [
              "(619040, 7)"
            ]
          },
          "metadata": {},
          "execution_count": 12
        }
      ]
    },
    {
      "cell_type": "markdown",
      "source": [
        "Hay 7 columnas y 619.040 filas por columna."
      ],
      "metadata": {
        "id": "6c4TVs_z5nB9"
      }
    },
    {
      "cell_type": "markdown",
      "source": [
        "**7) ¿Qué retos, si es que hay alguno, prevén en la limpieza, exploración o modelización con este conjunto de datos?**"
      ],
      "metadata": {
        "id": "2ZzqyMR_5vQT"
      }
    },
    {
      "cell_type": "markdown",
      "source": [
        "Los retos que puedo identificar al momento seria identificar posibles datos duplicados, datos con valores de 0 en ciertas columnas que sean importantes para el análisis dado que se manejan temas de precio, identificar las columnas que no incidan en el proceso hacia la predicción y que deban eliminarse, analizar si se requiere una conversión para la columna que manejan formato de tipo date."
      ],
      "metadata": {
        "id": "3mVsCJK86RO3"
      }
    },
    {
      "cell_type": "markdown",
      "source": [
        "\n",
        "\n",
        "---\n",
        "\n"
      ],
      "metadata": {
        "id": "EbTqJk126b6T"
      }
    },
    {
      "cell_type": "markdown",
      "source": [
        "# **Parte 2**\n",
        "\n",
        "Al usar el conjunto de datos aprobado que propusieron para el proyecto 2, limpiarán y explorarán el conjunto de datos.  \n",
        "\n",
        "Para cumplir con los requisitos para esta semana, deben haber:\n",
        "\n",
        "* eliminado las columnas innecesarias\n",
        "\n",
        "* eliminado las filas duplicadas\n",
        "\n",
        "* identificado y abordado los valores faltantes \n",
        "\n",
        "* identificado y corregido las inconsistencias en los datos para los valores categóricos (es decir, Cat, cat, cats)\n",
        "\n",
        "* producido visuales univariantes para el objetivo y todas las características\n",
        "\n",
        "* identificado los valores atípicos\n",
        "\n",
        "* producido un mapa de calor de correlación e identificado cualquier correlaciones moderadas o fuertes entre el objetivo y las características y/o entre una característica y otra\n",
        "\n",
        "* comentado todos los pasos de limpieza y descrito todas las decisiones que tomaron. (Nota: durante la pila final del programa, harán una presentación para una audiencia técnica que incluirá sus decisiones y procesos en los pasos de limpieza. Entre más notas tomen ahora, más fácil será la presentación."
      ],
      "metadata": {
        "id": "f-KHV6ul7lAA"
      }
    },
    {
      "cell_type": "markdown",
      "source": [
        "## **Limpieza de los Datos**"
      ],
      "metadata": {
        "id": "rSkT1I1xcdIm"
      }
    },
    {
      "cell_type": "code",
      "source": [
        "# Examinamos las primeras 5 filas del set de datos\n",
        "df.head()"
      ],
      "metadata": {
        "colab": {
          "base_uri": "https://localhost:8080/",
          "height": 357
        },
        "id": "5DI9i5XXkHuW",
        "outputId": "86fde5d1-e465-463f-b193-e6b7f5e2c159"
      },
      "execution_count": 13,
      "outputs": [
        {
          "output_type": "execute_result",
          "data": {
            "text/plain": [
              "          id  vendor_id      pickup_datetime     dropoff_datetime  \\\n",
              "0  id1080784          2  2016-02-29 16:40:21  2016-02-29 16:47:01   \n",
              "1  id0889885          1  2016-03-11 23:35:37  2016-03-11 23:53:57   \n",
              "2  id0857912          2  2016-02-21 17:59:33  2016-02-21 18:26:48   \n",
              "3  id3744273          2  2016-01-05 09:44:31  2016-01-05 10:03:32   \n",
              "4  id0232939          1  2016-02-17 06:42:23  2016-02-17 06:56:31   \n",
              "\n",
              "   passenger_count  pickup_longitude  pickup_latitude  dropoff_longitude  \\\n",
              "0                1        -73.953918        40.778873         -73.963875   \n",
              "1                2        -73.988312        40.731743         -73.994751   \n",
              "2                2        -73.997314        40.721458         -73.948029   \n",
              "3                6        -73.961670        40.759720         -73.956779   \n",
              "4                1        -74.017120        40.708469         -73.988182   \n",
              "\n",
              "   dropoff_latitude store_and_fwd_flag  trip_duration  \n",
              "0         40.771164                  N            400  \n",
              "1         40.694931                  N           1100  \n",
              "2         40.774918                  N           1635  \n",
              "3         40.780628                  N           1141  \n",
              "4         40.740631                  N            848  "
            ],
            "text/html": [
              "\n",
              "  <div id=\"df-72ce565c-d055-4327-805e-4752d9390a1c\">\n",
              "    <div class=\"colab-df-container\">\n",
              "      <div>\n",
              "<style scoped>\n",
              "    .dataframe tbody tr th:only-of-type {\n",
              "        vertical-align: middle;\n",
              "    }\n",
              "\n",
              "    .dataframe tbody tr th {\n",
              "        vertical-align: top;\n",
              "    }\n",
              "\n",
              "    .dataframe thead th {\n",
              "        text-align: right;\n",
              "    }\n",
              "</style>\n",
              "<table border=\"1\" class=\"dataframe\">\n",
              "  <thead>\n",
              "    <tr style=\"text-align: right;\">\n",
              "      <th></th>\n",
              "      <th>id</th>\n",
              "      <th>vendor_id</th>\n",
              "      <th>pickup_datetime</th>\n",
              "      <th>dropoff_datetime</th>\n",
              "      <th>passenger_count</th>\n",
              "      <th>pickup_longitude</th>\n",
              "      <th>pickup_latitude</th>\n",
              "      <th>dropoff_longitude</th>\n",
              "      <th>dropoff_latitude</th>\n",
              "      <th>store_and_fwd_flag</th>\n",
              "      <th>trip_duration</th>\n",
              "    </tr>\n",
              "  </thead>\n",
              "  <tbody>\n",
              "    <tr>\n",
              "      <th>0</th>\n",
              "      <td>id1080784</td>\n",
              "      <td>2</td>\n",
              "      <td>2016-02-29 16:40:21</td>\n",
              "      <td>2016-02-29 16:47:01</td>\n",
              "      <td>1</td>\n",
              "      <td>-73.953918</td>\n",
              "      <td>40.778873</td>\n",
              "      <td>-73.963875</td>\n",
              "      <td>40.771164</td>\n",
              "      <td>N</td>\n",
              "      <td>400</td>\n",
              "    </tr>\n",
              "    <tr>\n",
              "      <th>1</th>\n",
              "      <td>id0889885</td>\n",
              "      <td>1</td>\n",
              "      <td>2016-03-11 23:35:37</td>\n",
              "      <td>2016-03-11 23:53:57</td>\n",
              "      <td>2</td>\n",
              "      <td>-73.988312</td>\n",
              "      <td>40.731743</td>\n",
              "      <td>-73.994751</td>\n",
              "      <td>40.694931</td>\n",
              "      <td>N</td>\n",
              "      <td>1100</td>\n",
              "    </tr>\n",
              "    <tr>\n",
              "      <th>2</th>\n",
              "      <td>id0857912</td>\n",
              "      <td>2</td>\n",
              "      <td>2016-02-21 17:59:33</td>\n",
              "      <td>2016-02-21 18:26:48</td>\n",
              "      <td>2</td>\n",
              "      <td>-73.997314</td>\n",
              "      <td>40.721458</td>\n",
              "      <td>-73.948029</td>\n",
              "      <td>40.774918</td>\n",
              "      <td>N</td>\n",
              "      <td>1635</td>\n",
              "    </tr>\n",
              "    <tr>\n",
              "      <th>3</th>\n",
              "      <td>id3744273</td>\n",
              "      <td>2</td>\n",
              "      <td>2016-01-05 09:44:31</td>\n",
              "      <td>2016-01-05 10:03:32</td>\n",
              "      <td>6</td>\n",
              "      <td>-73.961670</td>\n",
              "      <td>40.759720</td>\n",
              "      <td>-73.956779</td>\n",
              "      <td>40.780628</td>\n",
              "      <td>N</td>\n",
              "      <td>1141</td>\n",
              "    </tr>\n",
              "    <tr>\n",
              "      <th>4</th>\n",
              "      <td>id0232939</td>\n",
              "      <td>1</td>\n",
              "      <td>2016-02-17 06:42:23</td>\n",
              "      <td>2016-02-17 06:56:31</td>\n",
              "      <td>1</td>\n",
              "      <td>-74.017120</td>\n",
              "      <td>40.708469</td>\n",
              "      <td>-73.988182</td>\n",
              "      <td>40.740631</td>\n",
              "      <td>N</td>\n",
              "      <td>848</td>\n",
              "    </tr>\n",
              "  </tbody>\n",
              "</table>\n",
              "</div>\n",
              "      <button class=\"colab-df-convert\" onclick=\"convertToInteractive('df-72ce565c-d055-4327-805e-4752d9390a1c')\"\n",
              "              title=\"Convert this dataframe to an interactive table.\"\n",
              "              style=\"display:none;\">\n",
              "        \n",
              "  <svg xmlns=\"http://www.w3.org/2000/svg\" height=\"24px\"viewBox=\"0 0 24 24\"\n",
              "       width=\"24px\">\n",
              "    <path d=\"M0 0h24v24H0V0z\" fill=\"none\"/>\n",
              "    <path d=\"M18.56 5.44l.94 2.06.94-2.06 2.06-.94-2.06-.94-.94-2.06-.94 2.06-2.06.94zm-11 1L8.5 8.5l.94-2.06 2.06-.94-2.06-.94L8.5 2.5l-.94 2.06-2.06.94zm10 10l.94 2.06.94-2.06 2.06-.94-2.06-.94-.94-2.06-.94 2.06-2.06.94z\"/><path d=\"M17.41 7.96l-1.37-1.37c-.4-.4-.92-.59-1.43-.59-.52 0-1.04.2-1.43.59L10.3 9.45l-7.72 7.72c-.78.78-.78 2.05 0 2.83L4 21.41c.39.39.9.59 1.41.59.51 0 1.02-.2 1.41-.59l7.78-7.78 2.81-2.81c.8-.78.8-2.07 0-2.86zM5.41 20L4 18.59l7.72-7.72 1.47 1.35L5.41 20z\"/>\n",
              "  </svg>\n",
              "      </button>\n",
              "      \n",
              "  <style>\n",
              "    .colab-df-container {\n",
              "      display:flex;\n",
              "      flex-wrap:wrap;\n",
              "      gap: 12px;\n",
              "    }\n",
              "\n",
              "    .colab-df-convert {\n",
              "      background-color: #E8F0FE;\n",
              "      border: none;\n",
              "      border-radius: 50%;\n",
              "      cursor: pointer;\n",
              "      display: none;\n",
              "      fill: #1967D2;\n",
              "      height: 32px;\n",
              "      padding: 0 0 0 0;\n",
              "      width: 32px;\n",
              "    }\n",
              "\n",
              "    .colab-df-convert:hover {\n",
              "      background-color: #E2EBFA;\n",
              "      box-shadow: 0px 1px 2px rgba(60, 64, 67, 0.3), 0px 1px 3px 1px rgba(60, 64, 67, 0.15);\n",
              "      fill: #174EA6;\n",
              "    }\n",
              "\n",
              "    [theme=dark] .colab-df-convert {\n",
              "      background-color: #3B4455;\n",
              "      fill: #D2E3FC;\n",
              "    }\n",
              "\n",
              "    [theme=dark] .colab-df-convert:hover {\n",
              "      background-color: #434B5C;\n",
              "      box-shadow: 0px 1px 3px 1px rgba(0, 0, 0, 0.15);\n",
              "      filter: drop-shadow(0px 1px 2px rgba(0, 0, 0, 0.3));\n",
              "      fill: #FFFFFF;\n",
              "    }\n",
              "  </style>\n",
              "\n",
              "      <script>\n",
              "        const buttonEl =\n",
              "          document.querySelector('#df-72ce565c-d055-4327-805e-4752d9390a1c button.colab-df-convert');\n",
              "        buttonEl.style.display =\n",
              "          google.colab.kernel.accessAllowed ? 'block' : 'none';\n",
              "\n",
              "        async function convertToInteractive(key) {\n",
              "          const element = document.querySelector('#df-72ce565c-d055-4327-805e-4752d9390a1c');\n",
              "          const dataTable =\n",
              "            await google.colab.kernel.invokeFunction('convertToInteractive',\n",
              "                                                     [key], {});\n",
              "          if (!dataTable) return;\n",
              "\n",
              "          const docLinkHtml = 'Like what you see? Visit the ' +\n",
              "            '<a target=\"_blank\" href=https://colab.research.google.com/notebooks/data_table.ipynb>data table notebook</a>'\n",
              "            + ' to learn more about interactive tables.';\n",
              "          element.innerHTML = '';\n",
              "          dataTable['output_type'] = 'display_data';\n",
              "          await google.colab.output.renderOutput(dataTable, element);\n",
              "          const docLink = document.createElement('div');\n",
              "          docLink.innerHTML = docLinkHtml;\n",
              "          element.appendChild(docLink);\n",
              "        }\n",
              "      </script>\n",
              "    </div>\n",
              "  </div>\n",
              "  "
            ]
          },
          "metadata": {},
          "execution_count": 13
        }
      ]
    },
    {
      "cell_type": "code",
      "source": [
        "# Verifico la nomenclatura de las columnas en caso de poseer algún espaciado y que este no vaya a influir en errores de mis próximas validaciones\n",
        "df.columns"
      ],
      "metadata": {
        "colab": {
          "base_uri": "https://localhost:8080/"
        },
        "id": "t-jqJhE8clyf",
        "outputId": "571abd58-47e2-4622-a977-6ee85676c863"
      },
      "execution_count": 14,
      "outputs": [
        {
          "output_type": "execute_result",
          "data": {
            "text/plain": [
              "Index(['id', 'vendor_id', 'pickup_datetime', 'dropoff_datetime',\n",
              "       'passenger_count', 'pickup_longitude', 'pickup_latitude',\n",
              "       'dropoff_longitude', 'dropoff_latitude', 'store_and_fwd_flag',\n",
              "       'trip_duration'],\n",
              "      dtype='object')"
            ]
          },
          "metadata": {},
          "execution_count": 14
        }
      ]
    },
    {
      "cell_type": "code",
      "source": [
        "# Inicialmente identifico la forma de como se compone el dataset actualmente\n",
        "df.shape"
      ],
      "metadata": {
        "colab": {
          "base_uri": "https://localhost:8080/"
        },
        "id": "CpQcvyTagQHl",
        "outputId": "9c9dae85-d699-4011-83fa-8d01c460955b"
      },
      "execution_count": 15,
      "outputs": [
        {
          "output_type": "execute_result",
          "data": {
            "text/plain": [
              "(729322, 11)"
            ]
          },
          "metadata": {},
          "execution_count": 15
        }
      ]
    },
    {
      "cell_type": "markdown",
      "source": [
        "Con lo anterior puedo entender que este set de datos maneja 729.322 columnas y 11 filas. Posteriormente, voy a identificar los tipos de datos que componen cada columna al igual si se tienen valores faltantes."
      ],
      "metadata": {
        "id": "jyLEelQkgXqG"
      }
    },
    {
      "cell_type": "code",
      "source": [
        "# Reviso el número y tipo de dato por Columna, al igual que los datos faltantes que se tengan\n",
        "print(df.info(), '\\n')\n",
        "print(df.isna().sum(), '\\n')\n",
        "print(df.dtypes)"
      ],
      "metadata": {
        "colab": {
          "base_uri": "https://localhost:8080/"
        },
        "id": "ZIB1pp43jjVP",
        "outputId": "90e24fd3-afab-4724-d1f3-6ba9e050e676"
      },
      "execution_count": 16,
      "outputs": [
        {
          "output_type": "stream",
          "name": "stdout",
          "text": [
            "<class 'pandas.core.frame.DataFrame'>\n",
            "RangeIndex: 729322 entries, 0 to 729321\n",
            "Data columns (total 11 columns):\n",
            " #   Column              Non-Null Count   Dtype  \n",
            "---  ------              --------------   -----  \n",
            " 0   id                  729322 non-null  object \n",
            " 1   vendor_id           729322 non-null  int64  \n",
            " 2   pickup_datetime     729322 non-null  object \n",
            " 3   dropoff_datetime    729322 non-null  object \n",
            " 4   passenger_count     729322 non-null  int64  \n",
            " 5   pickup_longitude    729322 non-null  float64\n",
            " 6   pickup_latitude     729322 non-null  float64\n",
            " 7   dropoff_longitude   729322 non-null  float64\n",
            " 8   dropoff_latitude    729322 non-null  float64\n",
            " 9   store_and_fwd_flag  729322 non-null  object \n",
            " 10  trip_duration       729322 non-null  int64  \n",
            "dtypes: float64(4), int64(3), object(4)\n",
            "memory usage: 61.2+ MB\n",
            "None \n",
            "\n",
            "id                    0\n",
            "vendor_id             0\n",
            "pickup_datetime       0\n",
            "dropoff_datetime      0\n",
            "passenger_count       0\n",
            "pickup_longitude      0\n",
            "pickup_latitude       0\n",
            "dropoff_longitude     0\n",
            "dropoff_latitude      0\n",
            "store_and_fwd_flag    0\n",
            "trip_duration         0\n",
            "dtype: int64 \n",
            "\n",
            "id                     object\n",
            "vendor_id               int64\n",
            "pickup_datetime        object\n",
            "dropoff_datetime       object\n",
            "passenger_count         int64\n",
            "pickup_longitude      float64\n",
            "pickup_latitude       float64\n",
            "dropoff_longitude     float64\n",
            "dropoff_latitude      float64\n",
            "store_and_fwd_flag     object\n",
            "trip_duration           int64\n",
            "dtype: object\n"
          ]
        }
      ]
    },
    {
      "cell_type": "markdown",
      "source": [
        "Podemos ver que en el set de datos cada columna tiene valores completos. No se tienen datos faltantes y que las columnas de datos son de tipo numérico y categórico"
      ],
      "metadata": {
        "id": "8iVqbKxhj5Od"
      }
    },
    {
      "cell_type": "code",
      "source": [
        "# Identifico cual es la cantidad de datos duplicados y en caso de existir poderlos depurar\n",
        "df.duplicated()\n",
        "df.duplicated().sum()"
      ],
      "metadata": {
        "colab": {
          "base_uri": "https://localhost:8080/"
        },
        "id": "j4eGkGbhk5OC",
        "outputId": "88da1e0e-2793-477f-f2b0-ae796362b8b2"
      },
      "execution_count": 17,
      "outputs": [
        {
          "output_type": "execute_result",
          "data": {
            "text/plain": [
              "0"
            ]
          },
          "metadata": {},
          "execution_count": 17
        }
      ]
    },
    {
      "cell_type": "markdown",
      "source": [
        "Luego del uso de los anteriores métodos vemos que está perfecto, ya que al momento no contamos con datos duplicados por depurar. Ahora verifico como está compuesto el set de datos para validar si hay datos con inconsistencias que debamos abordar y corregir."
      ],
      "metadata": {
        "id": "iJfdcpbRlJlD"
      }
    },
    {
      "cell_type": "code",
      "source": [
        "# Inicialmente, examino el número de valores únicos entre las columnas con las cuales estoy trabajando\n",
        "df.nunique()"
      ],
      "metadata": {
        "colab": {
          "base_uri": "https://localhost:8080/"
        },
        "id": "LlT-XCEtl3Z5",
        "outputId": "0ac78b63-48b8-418a-ea14-9b2a9be6bc23"
      },
      "execution_count": 18,
      "outputs": [
        {
          "output_type": "execute_result",
          "data": {
            "text/plain": [
              "id                    729322\n",
              "vendor_id                  2\n",
              "pickup_datetime       709359\n",
              "dropoff_datetime      709308\n",
              "passenger_count            9\n",
              "pickup_longitude       19729\n",
              "pickup_latitude        39776\n",
              "dropoff_longitude      27892\n",
              "dropoff_latitude       53579\n",
              "store_and_fwd_flag         2\n",
              "trip_duration           6296\n",
              "dtype: int64"
            ]
          },
          "metadata": {},
          "execution_count": 18
        }
      ]
    },
    {
      "cell_type": "markdown",
      "source": [
        "Veo que las columnas categóricas como id, pickup_datetime, dropoff_datetime tienen un número elevado de datos únicos por lo que considero que tiene concordancia dado lo que representa cada columna como tal.\n",
        "\n",
        "Fuera de ello hay dos columnas numéricas como vendor_id y passenger_count, que tienen pocos datos únicos por lo que los revisaré para ver si no hay anomalías, al igual que en la columna categórica de store_and_fwd_flag."
      ],
      "metadata": {
        "id": "dpHpiaDTE8lX"
      }
    },
    {
      "cell_type": "code",
      "source": [
        "# Reviso la composición de valores por dato único en la columna vendor_id\n",
        "df['vendor_id'].value_counts()"
      ],
      "metadata": {
        "colab": {
          "base_uri": "https://localhost:8080/"
        },
        "id": "eeJ_T7OFod9_",
        "outputId": "7458219a-72b2-48e9-ef29-d4ad901fa529"
      },
      "execution_count": 19,
      "outputs": [
        {
          "output_type": "execute_result",
          "data": {
            "text/plain": [
              "2    390481\n",
              "1    338841\n",
              "Name: vendor_id, dtype: int64"
            ]
          },
          "metadata": {},
          "execution_count": 19
        }
      ]
    },
    {
      "cell_type": "markdown",
      "source": [
        "Son valores agrupados por un número base, no se tiene inconsistencias. Continuamos con la siguiente columna."
      ],
      "metadata": {
        "id": "FLWt37mbI7XV"
      }
    },
    {
      "cell_type": "code",
      "source": [
        "# Reviso la composición de valores por dato único en la columna passenger_count\n",
        "df['passenger_count'].value_counts()"
      ],
      "metadata": {
        "colab": {
          "base_uri": "https://localhost:8080/"
        },
        "id": "_PG1wAMtoh7E",
        "outputId": "edb5c7d4-35d6-4826-b93b-f289cc3335eb"
      },
      "execution_count": 20,
      "outputs": [
        {
          "output_type": "execute_result",
          "data": {
            "text/plain": [
              "1    517415\n",
              "2    105097\n",
              "5     38926\n",
              "3     29692\n",
              "6     24107\n",
              "4     14050\n",
              "0        33\n",
              "7         1\n",
              "9         1\n",
              "Name: passenger_count, dtype: int64"
            ]
          },
          "metadata": {},
          "execution_count": 20
        }
      ]
    },
    {
      "cell_type": "markdown",
      "source": [
        "Son valores agrupados por un número base, no se tiene inconsistencias. Finalizamos con la siguiente columna categórica."
      ],
      "metadata": {
        "id": "HlfubCzLJSZD"
      }
    },
    {
      "cell_type": "code",
      "source": [
        "# Reviso la composición de valores por dato único en la columna store_and_fwd_flag\n",
        "df['store_and_fwd_flag'].value_counts()"
      ],
      "metadata": {
        "colab": {
          "base_uri": "https://localhost:8080/"
        },
        "id": "aLTtQbpVoqIT",
        "outputId": "32086152-3541-4c83-a252-42892e47aaa5"
      },
      "execution_count": 21,
      "outputs": [
        {
          "output_type": "execute_result",
          "data": {
            "text/plain": [
              "N    725282\n",
              "Y      4040\n",
              "Name: store_and_fwd_flag, dtype: int64"
            ]
          },
          "metadata": {},
          "execution_count": 21
        }
      ]
    },
    {
      "cell_type": "markdown",
      "source": [
        "Puedo ver que esta columna es de una codificación de tipo ordinal. Por lo que haremos su tratamiento para evitar la fuga de datos."
      ],
      "metadata": {
        "id": "iwVFtN-JNlsO"
      }
    },
    {
      "cell_type": "code",
      "source": [
        "# Hacemos uso del método df.replace() para hacer el cambio de los valores asociados a una característica de ordenamiento numérico\n",
        "df['store_and_fwd_flag'].replace({'N':0, 'Y':1}, inplace=True)\n",
        "df['store_and_fwd_flag'].value_counts()"
      ],
      "metadata": {
        "colab": {
          "base_uri": "https://localhost:8080/"
        },
        "id": "cnhR6-STOpHm",
        "outputId": "f488ae5b-6334-4e79-9489-1a6bbba18b98"
      },
      "execution_count": 22,
      "outputs": [
        {
          "output_type": "execute_result",
          "data": {
            "text/plain": [
              "0    725282\n",
              "1      4040\n",
              "Name: store_and_fwd_flag, dtype: int64"
            ]
          },
          "metadata": {},
          "execution_count": 22
        }
      ]
    },
    {
      "cell_type": "code",
      "source": [
        "# Reviso nuevamente el estado del set de datos luego del tratamiento inicial\n",
        "print(df.info(), '\\n')"
      ],
      "metadata": {
        "colab": {
          "base_uri": "https://localhost:8080/"
        },
        "id": "xR9K3-7CPjyK",
        "outputId": "10db7f61-e1e6-483c-a4fb-e601803cd4a2"
      },
      "execution_count": 23,
      "outputs": [
        {
          "output_type": "stream",
          "name": "stdout",
          "text": [
            "<class 'pandas.core.frame.DataFrame'>\n",
            "RangeIndex: 729322 entries, 0 to 729321\n",
            "Data columns (total 11 columns):\n",
            " #   Column              Non-Null Count   Dtype  \n",
            "---  ------              --------------   -----  \n",
            " 0   id                  729322 non-null  object \n",
            " 1   vendor_id           729322 non-null  int64  \n",
            " 2   pickup_datetime     729322 non-null  object \n",
            " 3   dropoff_datetime    729322 non-null  object \n",
            " 4   passenger_count     729322 non-null  int64  \n",
            " 5   pickup_longitude    729322 non-null  float64\n",
            " 6   pickup_latitude     729322 non-null  float64\n",
            " 7   dropoff_longitude   729322 non-null  float64\n",
            " 8   dropoff_latitude    729322 non-null  float64\n",
            " 9   store_and_fwd_flag  729322 non-null  int64  \n",
            " 10  trip_duration       729322 non-null  int64  \n",
            "dtypes: float64(4), int64(4), object(3)\n",
            "memory usage: 61.2+ MB\n",
            "None \n",
            "\n"
          ]
        }
      ]
    },
    {
      "cell_type": "markdown",
      "source": [
        "Como veo que hay diferentes tipos de valores únicos por columna y entendiendo que toda la composición del set de datos en su gran mayoría es de categoría numérica, me gustaría visualizar la descripción estadística que está relacionada con los datos."
      ],
      "metadata": {
        "id": "H1IiBHOlSNvL"
      }
    },
    {
      "cell_type": "code",
      "source": [
        "# Mostramos con la función describe todas las estadísticas de las columnas, para obtener valores mínimos, máximos, media, conteo, entre otros que componen el set de datos.\n",
        "df.describe()"
      ],
      "metadata": {
        "colab": {
          "base_uri": "https://localhost:8080/",
          "height": 364
        },
        "id": "kMJFaudRSfLc",
        "outputId": "79667f1a-a0ca-44ba-eca4-fae9b8e4cf2e"
      },
      "execution_count": 24,
      "outputs": [
        {
          "output_type": "execute_result",
          "data": {
            "text/plain": [
              "           vendor_id  passenger_count  pickup_longitude  pickup_latitude  \\\n",
              "count  729322.000000    729322.000000     729322.000000    729322.000000   \n",
              "mean        1.535403         1.662055        -73.973513        40.750919   \n",
              "std         0.498745         1.312446          0.069754         0.033594   \n",
              "min         1.000000         0.000000       -121.933342        34.712234   \n",
              "25%         1.000000         1.000000        -73.991859        40.737335   \n",
              "50%         2.000000         1.000000        -73.981758        40.754070   \n",
              "75%         2.000000         2.000000        -73.967361        40.768314   \n",
              "max         2.000000         9.000000        -65.897385        51.881084   \n",
              "\n",
              "       dropoff_longitude  dropoff_latitude  store_and_fwd_flag  trip_duration  \n",
              "count      729322.000000     729322.000000       729322.000000   7.293220e+05  \n",
              "mean          -73.973422         40.751775            0.005539   9.522291e+02  \n",
              "std             0.069588          0.036037            0.074221   3.864626e+03  \n",
              "min          -121.933304         32.181141            0.000000   1.000000e+00  \n",
              "25%           -73.991318         40.735931            0.000000   3.970000e+02  \n",
              "50%           -73.979759         40.754509            0.000000   6.630000e+02  \n",
              "75%           -73.963036         40.769741            0.000000   1.075000e+03  \n",
              "max           -65.897385         43.921028            1.000000   1.939736e+06  "
            ],
            "text/html": [
              "\n",
              "  <div id=\"df-5dd50ba5-cb49-4264-8f07-6c4a7983e91a\">\n",
              "    <div class=\"colab-df-container\">\n",
              "      <div>\n",
              "<style scoped>\n",
              "    .dataframe tbody tr th:only-of-type {\n",
              "        vertical-align: middle;\n",
              "    }\n",
              "\n",
              "    .dataframe tbody tr th {\n",
              "        vertical-align: top;\n",
              "    }\n",
              "\n",
              "    .dataframe thead th {\n",
              "        text-align: right;\n",
              "    }\n",
              "</style>\n",
              "<table border=\"1\" class=\"dataframe\">\n",
              "  <thead>\n",
              "    <tr style=\"text-align: right;\">\n",
              "      <th></th>\n",
              "      <th>vendor_id</th>\n",
              "      <th>passenger_count</th>\n",
              "      <th>pickup_longitude</th>\n",
              "      <th>pickup_latitude</th>\n",
              "      <th>dropoff_longitude</th>\n",
              "      <th>dropoff_latitude</th>\n",
              "      <th>store_and_fwd_flag</th>\n",
              "      <th>trip_duration</th>\n",
              "    </tr>\n",
              "  </thead>\n",
              "  <tbody>\n",
              "    <tr>\n",
              "      <th>count</th>\n",
              "      <td>729322.000000</td>\n",
              "      <td>729322.000000</td>\n",
              "      <td>729322.000000</td>\n",
              "      <td>729322.000000</td>\n",
              "      <td>729322.000000</td>\n",
              "      <td>729322.000000</td>\n",
              "      <td>729322.000000</td>\n",
              "      <td>7.293220e+05</td>\n",
              "    </tr>\n",
              "    <tr>\n",
              "      <th>mean</th>\n",
              "      <td>1.535403</td>\n",
              "      <td>1.662055</td>\n",
              "      <td>-73.973513</td>\n",
              "      <td>40.750919</td>\n",
              "      <td>-73.973422</td>\n",
              "      <td>40.751775</td>\n",
              "      <td>0.005539</td>\n",
              "      <td>9.522291e+02</td>\n",
              "    </tr>\n",
              "    <tr>\n",
              "      <th>std</th>\n",
              "      <td>0.498745</td>\n",
              "      <td>1.312446</td>\n",
              "      <td>0.069754</td>\n",
              "      <td>0.033594</td>\n",
              "      <td>0.069588</td>\n",
              "      <td>0.036037</td>\n",
              "      <td>0.074221</td>\n",
              "      <td>3.864626e+03</td>\n",
              "    </tr>\n",
              "    <tr>\n",
              "      <th>min</th>\n",
              "      <td>1.000000</td>\n",
              "      <td>0.000000</td>\n",
              "      <td>-121.933342</td>\n",
              "      <td>34.712234</td>\n",
              "      <td>-121.933304</td>\n",
              "      <td>32.181141</td>\n",
              "      <td>0.000000</td>\n",
              "      <td>1.000000e+00</td>\n",
              "    </tr>\n",
              "    <tr>\n",
              "      <th>25%</th>\n",
              "      <td>1.000000</td>\n",
              "      <td>1.000000</td>\n",
              "      <td>-73.991859</td>\n",
              "      <td>40.737335</td>\n",
              "      <td>-73.991318</td>\n",
              "      <td>40.735931</td>\n",
              "      <td>0.000000</td>\n",
              "      <td>3.970000e+02</td>\n",
              "    </tr>\n",
              "    <tr>\n",
              "      <th>50%</th>\n",
              "      <td>2.000000</td>\n",
              "      <td>1.000000</td>\n",
              "      <td>-73.981758</td>\n",
              "      <td>40.754070</td>\n",
              "      <td>-73.979759</td>\n",
              "      <td>40.754509</td>\n",
              "      <td>0.000000</td>\n",
              "      <td>6.630000e+02</td>\n",
              "    </tr>\n",
              "    <tr>\n",
              "      <th>75%</th>\n",
              "      <td>2.000000</td>\n",
              "      <td>2.000000</td>\n",
              "      <td>-73.967361</td>\n",
              "      <td>40.768314</td>\n",
              "      <td>-73.963036</td>\n",
              "      <td>40.769741</td>\n",
              "      <td>0.000000</td>\n",
              "      <td>1.075000e+03</td>\n",
              "    </tr>\n",
              "    <tr>\n",
              "      <th>max</th>\n",
              "      <td>2.000000</td>\n",
              "      <td>9.000000</td>\n",
              "      <td>-65.897385</td>\n",
              "      <td>51.881084</td>\n",
              "      <td>-65.897385</td>\n",
              "      <td>43.921028</td>\n",
              "      <td>1.000000</td>\n",
              "      <td>1.939736e+06</td>\n",
              "    </tr>\n",
              "  </tbody>\n",
              "</table>\n",
              "</div>\n",
              "      <button class=\"colab-df-convert\" onclick=\"convertToInteractive('df-5dd50ba5-cb49-4264-8f07-6c4a7983e91a')\"\n",
              "              title=\"Convert this dataframe to an interactive table.\"\n",
              "              style=\"display:none;\">\n",
              "        \n",
              "  <svg xmlns=\"http://www.w3.org/2000/svg\" height=\"24px\"viewBox=\"0 0 24 24\"\n",
              "       width=\"24px\">\n",
              "    <path d=\"M0 0h24v24H0V0z\" fill=\"none\"/>\n",
              "    <path d=\"M18.56 5.44l.94 2.06.94-2.06 2.06-.94-2.06-.94-.94-2.06-.94 2.06-2.06.94zm-11 1L8.5 8.5l.94-2.06 2.06-.94-2.06-.94L8.5 2.5l-.94 2.06-2.06.94zm10 10l.94 2.06.94-2.06 2.06-.94-2.06-.94-.94-2.06-.94 2.06-2.06.94z\"/><path d=\"M17.41 7.96l-1.37-1.37c-.4-.4-.92-.59-1.43-.59-.52 0-1.04.2-1.43.59L10.3 9.45l-7.72 7.72c-.78.78-.78 2.05 0 2.83L4 21.41c.39.39.9.59 1.41.59.51 0 1.02-.2 1.41-.59l7.78-7.78 2.81-2.81c.8-.78.8-2.07 0-2.86zM5.41 20L4 18.59l7.72-7.72 1.47 1.35L5.41 20z\"/>\n",
              "  </svg>\n",
              "      </button>\n",
              "      \n",
              "  <style>\n",
              "    .colab-df-container {\n",
              "      display:flex;\n",
              "      flex-wrap:wrap;\n",
              "      gap: 12px;\n",
              "    }\n",
              "\n",
              "    .colab-df-convert {\n",
              "      background-color: #E8F0FE;\n",
              "      border: none;\n",
              "      border-radius: 50%;\n",
              "      cursor: pointer;\n",
              "      display: none;\n",
              "      fill: #1967D2;\n",
              "      height: 32px;\n",
              "      padding: 0 0 0 0;\n",
              "      width: 32px;\n",
              "    }\n",
              "\n",
              "    .colab-df-convert:hover {\n",
              "      background-color: #E2EBFA;\n",
              "      box-shadow: 0px 1px 2px rgba(60, 64, 67, 0.3), 0px 1px 3px 1px rgba(60, 64, 67, 0.15);\n",
              "      fill: #174EA6;\n",
              "    }\n",
              "\n",
              "    [theme=dark] .colab-df-convert {\n",
              "      background-color: #3B4455;\n",
              "      fill: #D2E3FC;\n",
              "    }\n",
              "\n",
              "    [theme=dark] .colab-df-convert:hover {\n",
              "      background-color: #434B5C;\n",
              "      box-shadow: 0px 1px 3px 1px rgba(0, 0, 0, 0.15);\n",
              "      filter: drop-shadow(0px 1px 2px rgba(0, 0, 0, 0.3));\n",
              "      fill: #FFFFFF;\n",
              "    }\n",
              "  </style>\n",
              "\n",
              "      <script>\n",
              "        const buttonEl =\n",
              "          document.querySelector('#df-5dd50ba5-cb49-4264-8f07-6c4a7983e91a button.colab-df-convert');\n",
              "        buttonEl.style.display =\n",
              "          google.colab.kernel.accessAllowed ? 'block' : 'none';\n",
              "\n",
              "        async function convertToInteractive(key) {\n",
              "          const element = document.querySelector('#df-5dd50ba5-cb49-4264-8f07-6c4a7983e91a');\n",
              "          const dataTable =\n",
              "            await google.colab.kernel.invokeFunction('convertToInteractive',\n",
              "                                                     [key], {});\n",
              "          if (!dataTable) return;\n",
              "\n",
              "          const docLinkHtml = 'Like what you see? Visit the ' +\n",
              "            '<a target=\"_blank\" href=https://colab.research.google.com/notebooks/data_table.ipynb>data table notebook</a>'\n",
              "            + ' to learn more about interactive tables.';\n",
              "          element.innerHTML = '';\n",
              "          dataTable['output_type'] = 'display_data';\n",
              "          await google.colab.output.renderOutput(dataTable, element);\n",
              "          const docLink = document.createElement('div');\n",
              "          docLink.innerHTML = docLinkHtml;\n",
              "          element.appendChild(docLink);\n",
              "        }\n",
              "      </script>\n",
              "    </div>\n",
              "  </div>\n",
              "  "
            ]
          },
          "metadata": {},
          "execution_count": 24
        }
      ]
    },
    {
      "cell_type": "markdown",
      "source": [
        "Como el objetivo de este set de datos es de tipo numérico, quisiera validar un enfoque mirando los viajes más largos en cuanto a duración"
      ],
      "metadata": {
        "id": "TyJ4PvfgR3Jq"
      }
    },
    {
      "cell_type": "code",
      "source": [
        "# Reviso cuales son los viajes más largos asociados a la columna objetivo\n",
        "print('Duración de los 5 viajes más largos: \\n {} '.format(df['trip_duration'].nlargest(5)))\n",
        "print('\\nEl número de filas con 0 como valor de duración del viaje es de {}'.format(len(df[df['trip_duration']==1 ])))"
      ],
      "metadata": {
        "colab": {
          "base_uri": "https://localhost:8080/"
        },
        "id": "93nJBKq3UHR9",
        "outputId": "9a4d30f0-3b93-4748-cb7a-14b793189038"
      },
      "execution_count": 25,
      "outputs": [
        {
          "output_type": "stream",
          "name": "stdout",
          "text": [
            "Duración de los 5 viajes más largos: \n",
            " 21813     1939736\n",
            "259437      86391\n",
            "119185      86387\n",
            "177225      86378\n",
            "496391      86377\n",
            "Name: trip_duration, dtype: int64 \n",
            "\n",
            "El número de filas con 0 como valor de duración del viaje es de 13\n"
          ]
        }
      ]
    },
    {
      "cell_type": "markdown",
      "source": [
        "He podido encontrar 1 registro con un valor extremadamente grande de 1939736 y 13 con 0 segundos cada uno. Así que eliminaré estas filas. "
      ],
      "metadata": {
        "id": "wB9GVeJ8U2bK"
      }
    },
    {
      "cell_type": "code",
      "source": [
        "# Elimino los valores atípicos encontrados\n",
        "df = df[df.trip_duration!=df.trip_duration.max()]\n",
        "df = df[df.trip_duration!=df.trip_duration.min()]"
      ],
      "metadata": {
        "id": "o997t3tCVZ3W"
      },
      "execution_count": 26,
      "outputs": []
    },
    {
      "cell_type": "code",
      "source": [
        "# Dentro del set de datos como vemos, maneja valores de tipo de dato en fechas y horas\n",
        "df.head()"
      ],
      "metadata": {
        "colab": {
          "base_uri": "https://localhost:8080/",
          "height": 357
        },
        "id": "IqeX_PidXO8A",
        "outputId": "1a0d2577-553e-4188-e562-64d3a39b9b68"
      },
      "execution_count": 27,
      "outputs": [
        {
          "output_type": "execute_result",
          "data": {
            "text/plain": [
              "          id  vendor_id      pickup_datetime     dropoff_datetime  \\\n",
              "0  id1080784          2  2016-02-29 16:40:21  2016-02-29 16:47:01   \n",
              "1  id0889885          1  2016-03-11 23:35:37  2016-03-11 23:53:57   \n",
              "2  id0857912          2  2016-02-21 17:59:33  2016-02-21 18:26:48   \n",
              "3  id3744273          2  2016-01-05 09:44:31  2016-01-05 10:03:32   \n",
              "4  id0232939          1  2016-02-17 06:42:23  2016-02-17 06:56:31   \n",
              "\n",
              "   passenger_count  pickup_longitude  pickup_latitude  dropoff_longitude  \\\n",
              "0                1        -73.953918        40.778873         -73.963875   \n",
              "1                2        -73.988312        40.731743         -73.994751   \n",
              "2                2        -73.997314        40.721458         -73.948029   \n",
              "3                6        -73.961670        40.759720         -73.956779   \n",
              "4                1        -74.017120        40.708469         -73.988182   \n",
              "\n",
              "   dropoff_latitude  store_and_fwd_flag  trip_duration  \n",
              "0         40.771164                   0            400  \n",
              "1         40.694931                   0           1100  \n",
              "2         40.774918                   0           1635  \n",
              "3         40.780628                   0           1141  \n",
              "4         40.740631                   0            848  "
            ],
            "text/html": [
              "\n",
              "  <div id=\"df-d7ed28bc-3aeb-4bd0-b43c-c28f631d43b7\">\n",
              "    <div class=\"colab-df-container\">\n",
              "      <div>\n",
              "<style scoped>\n",
              "    .dataframe tbody tr th:only-of-type {\n",
              "        vertical-align: middle;\n",
              "    }\n",
              "\n",
              "    .dataframe tbody tr th {\n",
              "        vertical-align: top;\n",
              "    }\n",
              "\n",
              "    .dataframe thead th {\n",
              "        text-align: right;\n",
              "    }\n",
              "</style>\n",
              "<table border=\"1\" class=\"dataframe\">\n",
              "  <thead>\n",
              "    <tr style=\"text-align: right;\">\n",
              "      <th></th>\n",
              "      <th>id</th>\n",
              "      <th>vendor_id</th>\n",
              "      <th>pickup_datetime</th>\n",
              "      <th>dropoff_datetime</th>\n",
              "      <th>passenger_count</th>\n",
              "      <th>pickup_longitude</th>\n",
              "      <th>pickup_latitude</th>\n",
              "      <th>dropoff_longitude</th>\n",
              "      <th>dropoff_latitude</th>\n",
              "      <th>store_and_fwd_flag</th>\n",
              "      <th>trip_duration</th>\n",
              "    </tr>\n",
              "  </thead>\n",
              "  <tbody>\n",
              "    <tr>\n",
              "      <th>0</th>\n",
              "      <td>id1080784</td>\n",
              "      <td>2</td>\n",
              "      <td>2016-02-29 16:40:21</td>\n",
              "      <td>2016-02-29 16:47:01</td>\n",
              "      <td>1</td>\n",
              "      <td>-73.953918</td>\n",
              "      <td>40.778873</td>\n",
              "      <td>-73.963875</td>\n",
              "      <td>40.771164</td>\n",
              "      <td>0</td>\n",
              "      <td>400</td>\n",
              "    </tr>\n",
              "    <tr>\n",
              "      <th>1</th>\n",
              "      <td>id0889885</td>\n",
              "      <td>1</td>\n",
              "      <td>2016-03-11 23:35:37</td>\n",
              "      <td>2016-03-11 23:53:57</td>\n",
              "      <td>2</td>\n",
              "      <td>-73.988312</td>\n",
              "      <td>40.731743</td>\n",
              "      <td>-73.994751</td>\n",
              "      <td>40.694931</td>\n",
              "      <td>0</td>\n",
              "      <td>1100</td>\n",
              "    </tr>\n",
              "    <tr>\n",
              "      <th>2</th>\n",
              "      <td>id0857912</td>\n",
              "      <td>2</td>\n",
              "      <td>2016-02-21 17:59:33</td>\n",
              "      <td>2016-02-21 18:26:48</td>\n",
              "      <td>2</td>\n",
              "      <td>-73.997314</td>\n",
              "      <td>40.721458</td>\n",
              "      <td>-73.948029</td>\n",
              "      <td>40.774918</td>\n",
              "      <td>0</td>\n",
              "      <td>1635</td>\n",
              "    </tr>\n",
              "    <tr>\n",
              "      <th>3</th>\n",
              "      <td>id3744273</td>\n",
              "      <td>2</td>\n",
              "      <td>2016-01-05 09:44:31</td>\n",
              "      <td>2016-01-05 10:03:32</td>\n",
              "      <td>6</td>\n",
              "      <td>-73.961670</td>\n",
              "      <td>40.759720</td>\n",
              "      <td>-73.956779</td>\n",
              "      <td>40.780628</td>\n",
              "      <td>0</td>\n",
              "      <td>1141</td>\n",
              "    </tr>\n",
              "    <tr>\n",
              "      <th>4</th>\n",
              "      <td>id0232939</td>\n",
              "      <td>1</td>\n",
              "      <td>2016-02-17 06:42:23</td>\n",
              "      <td>2016-02-17 06:56:31</td>\n",
              "      <td>1</td>\n",
              "      <td>-74.017120</td>\n",
              "      <td>40.708469</td>\n",
              "      <td>-73.988182</td>\n",
              "      <td>40.740631</td>\n",
              "      <td>0</td>\n",
              "      <td>848</td>\n",
              "    </tr>\n",
              "  </tbody>\n",
              "</table>\n",
              "</div>\n",
              "      <button class=\"colab-df-convert\" onclick=\"convertToInteractive('df-d7ed28bc-3aeb-4bd0-b43c-c28f631d43b7')\"\n",
              "              title=\"Convert this dataframe to an interactive table.\"\n",
              "              style=\"display:none;\">\n",
              "        \n",
              "  <svg xmlns=\"http://www.w3.org/2000/svg\" height=\"24px\"viewBox=\"0 0 24 24\"\n",
              "       width=\"24px\">\n",
              "    <path d=\"M0 0h24v24H0V0z\" fill=\"none\"/>\n",
              "    <path d=\"M18.56 5.44l.94 2.06.94-2.06 2.06-.94-2.06-.94-.94-2.06-.94 2.06-2.06.94zm-11 1L8.5 8.5l.94-2.06 2.06-.94-2.06-.94L8.5 2.5l-.94 2.06-2.06.94zm10 10l.94 2.06.94-2.06 2.06-.94-2.06-.94-.94-2.06-.94 2.06-2.06.94z\"/><path d=\"M17.41 7.96l-1.37-1.37c-.4-.4-.92-.59-1.43-.59-.52 0-1.04.2-1.43.59L10.3 9.45l-7.72 7.72c-.78.78-.78 2.05 0 2.83L4 21.41c.39.39.9.59 1.41.59.51 0 1.02-.2 1.41-.59l7.78-7.78 2.81-2.81c.8-.78.8-2.07 0-2.86zM5.41 20L4 18.59l7.72-7.72 1.47 1.35L5.41 20z\"/>\n",
              "  </svg>\n",
              "      </button>\n",
              "      \n",
              "  <style>\n",
              "    .colab-df-container {\n",
              "      display:flex;\n",
              "      flex-wrap:wrap;\n",
              "      gap: 12px;\n",
              "    }\n",
              "\n",
              "    .colab-df-convert {\n",
              "      background-color: #E8F0FE;\n",
              "      border: none;\n",
              "      border-radius: 50%;\n",
              "      cursor: pointer;\n",
              "      display: none;\n",
              "      fill: #1967D2;\n",
              "      height: 32px;\n",
              "      padding: 0 0 0 0;\n",
              "      width: 32px;\n",
              "    }\n",
              "\n",
              "    .colab-df-convert:hover {\n",
              "      background-color: #E2EBFA;\n",
              "      box-shadow: 0px 1px 2px rgba(60, 64, 67, 0.3), 0px 1px 3px 1px rgba(60, 64, 67, 0.15);\n",
              "      fill: #174EA6;\n",
              "    }\n",
              "\n",
              "    [theme=dark] .colab-df-convert {\n",
              "      background-color: #3B4455;\n",
              "      fill: #D2E3FC;\n",
              "    }\n",
              "\n",
              "    [theme=dark] .colab-df-convert:hover {\n",
              "      background-color: #434B5C;\n",
              "      box-shadow: 0px 1px 3px 1px rgba(0, 0, 0, 0.15);\n",
              "      filter: drop-shadow(0px 1px 2px rgba(0, 0, 0, 0.3));\n",
              "      fill: #FFFFFF;\n",
              "    }\n",
              "  </style>\n",
              "\n",
              "      <script>\n",
              "        const buttonEl =\n",
              "          document.querySelector('#df-d7ed28bc-3aeb-4bd0-b43c-c28f631d43b7 button.colab-df-convert');\n",
              "        buttonEl.style.display =\n",
              "          google.colab.kernel.accessAllowed ? 'block' : 'none';\n",
              "\n",
              "        async function convertToInteractive(key) {\n",
              "          const element = document.querySelector('#df-d7ed28bc-3aeb-4bd0-b43c-c28f631d43b7');\n",
              "          const dataTable =\n",
              "            await google.colab.kernel.invokeFunction('convertToInteractive',\n",
              "                                                     [key], {});\n",
              "          if (!dataTable) return;\n",
              "\n",
              "          const docLinkHtml = 'Like what you see? Visit the ' +\n",
              "            '<a target=\"_blank\" href=https://colab.research.google.com/notebooks/data_table.ipynb>data table notebook</a>'\n",
              "            + ' to learn more about interactive tables.';\n",
              "          element.innerHTML = '';\n",
              "          dataTable['output_type'] = 'display_data';\n",
              "          await google.colab.output.renderOutput(dataTable, element);\n",
              "          const docLink = document.createElement('div');\n",
              "          docLink.innerHTML = docLinkHtml;\n",
              "          element.appendChild(docLink);\n",
              "        }\n",
              "      </script>\n",
              "    </div>\n",
              "  </div>\n",
              "  "
            ]
          },
          "metadata": {},
          "execution_count": 27
        }
      ]
    },
    {
      "cell_type": "markdown",
      "source": [
        "Analizando estos datos de tipo fecha yo podría considerar que lo mejor seria aplicar una transformación por medio de una ingeniería de características. Para posterior poder enfocarme en el principio del objetivo propuesto en este ejercicio, sería un sobre esfuerzo incluir estas columna de fecha sin tratar, en la aplicación del modelo. Dado que no considero dichas columnas importantes para alcanzar a encontrar el punto óptimo de la duración total de viajes.\n",
        "\n",
        "Realizare el ejercicio por revisar como se podria hacer la conversión de este tipo de caracteristicas."
      ],
      "metadata": {
        "id": "coMfrQ94Xyl7"
      }
    },
    {
      "cell_type": "markdown",
      "source": [
        "## **Ingeniería de características**"
      ],
      "metadata": {
        "id": "b1SP_sgIcnOa"
      }
    },
    {
      "cell_type": "code",
      "source": [
        "# Conversión de las variables fecha-hora al formato datatime\n",
        "df['pickup_datetime'] = pd.to_datetime(df['pickup_datetime'])\n",
        "df['dropoff_datetime'] = pd.to_datetime(df['dropoff_datetime'])"
      ],
      "metadata": {
        "id": "2e41DTUPZjiq"
      },
      "execution_count": 28,
      "outputs": []
    },
    {
      "cell_type": "code",
      "source": [
        "# Crear características de fecha\n",
        "df['pickup_day'] = df['pickup_datetime'].dt.day_name()\n",
        "df['dropoff_day'] = df['dropoff_datetime'].dt.day_name()\n",
        "df['pickup_month'] = df['pickup_datetime'].dt.month\n",
        "df['dropoff_month'] = df['dropoff_datetime'].dt.month"
      ],
      "metadata": {
        "id": "waahJ9mrZsgR"
      },
      "execution_count": 29,
      "outputs": []
    },
    {
      "cell_type": "code",
      "source": [
        "# Revisión de las columnas del set de datos luego de esta transformación\n",
        "df.columns"
      ],
      "metadata": {
        "colab": {
          "base_uri": "https://localhost:8080/"
        },
        "id": "a5I6LNIQZ7Yy",
        "outputId": "6d1563e0-848b-4830-db82-b40dc60e218f"
      },
      "execution_count": 30,
      "outputs": [
        {
          "output_type": "execute_result",
          "data": {
            "text/plain": [
              "Index(['id', 'vendor_id', 'pickup_datetime', 'dropoff_datetime',\n",
              "       'passenger_count', 'pickup_longitude', 'pickup_latitude',\n",
              "       'dropoff_longitude', 'dropoff_latitude', 'store_and_fwd_flag',\n",
              "       'trip_duration', 'pickup_day', 'dropoff_day', 'pickup_month',\n",
              "       'dropoff_month'],\n",
              "      dtype='object')"
            ]
          },
          "metadata": {},
          "execution_count": 30
        }
      ]
    },
    {
      "cell_type": "code",
      "source": [
        "# Visualizo el set de datos luego de la aplicación de la ingeniera de características\n",
        "df.head()"
      ],
      "metadata": {
        "colab": {
          "base_uri": "https://localhost:8080/",
          "height": 357
        },
        "id": "-hk8pzjnaCIM",
        "outputId": "97f177c1-d5da-4dad-b94f-6609793725d1"
      },
      "execution_count": 31,
      "outputs": [
        {
          "output_type": "execute_result",
          "data": {
            "text/plain": [
              "          id  vendor_id     pickup_datetime    dropoff_datetime  \\\n",
              "0  id1080784          2 2016-02-29 16:40:21 2016-02-29 16:47:01   \n",
              "1  id0889885          1 2016-03-11 23:35:37 2016-03-11 23:53:57   \n",
              "2  id0857912          2 2016-02-21 17:59:33 2016-02-21 18:26:48   \n",
              "3  id3744273          2 2016-01-05 09:44:31 2016-01-05 10:03:32   \n",
              "4  id0232939          1 2016-02-17 06:42:23 2016-02-17 06:56:31   \n",
              "\n",
              "   passenger_count  pickup_longitude  pickup_latitude  dropoff_longitude  \\\n",
              "0                1        -73.953918        40.778873         -73.963875   \n",
              "1                2        -73.988312        40.731743         -73.994751   \n",
              "2                2        -73.997314        40.721458         -73.948029   \n",
              "3                6        -73.961670        40.759720         -73.956779   \n",
              "4                1        -74.017120        40.708469         -73.988182   \n",
              "\n",
              "   dropoff_latitude  store_and_fwd_flag  trip_duration pickup_day dropoff_day  \\\n",
              "0         40.771164                   0            400     Monday      Monday   \n",
              "1         40.694931                   0           1100     Friday      Friday   \n",
              "2         40.774918                   0           1635     Sunday      Sunday   \n",
              "3         40.780628                   0           1141    Tuesday     Tuesday   \n",
              "4         40.740631                   0            848  Wednesday   Wednesday   \n",
              "\n",
              "   pickup_month  dropoff_month  \n",
              "0             2              2  \n",
              "1             3              3  \n",
              "2             2              2  \n",
              "3             1              1  \n",
              "4             2              2  "
            ],
            "text/html": [
              "\n",
              "  <div id=\"df-0f55dca5-e8df-4b28-b6d1-8402344e403e\">\n",
              "    <div class=\"colab-df-container\">\n",
              "      <div>\n",
              "<style scoped>\n",
              "    .dataframe tbody tr th:only-of-type {\n",
              "        vertical-align: middle;\n",
              "    }\n",
              "\n",
              "    .dataframe tbody tr th {\n",
              "        vertical-align: top;\n",
              "    }\n",
              "\n",
              "    .dataframe thead th {\n",
              "        text-align: right;\n",
              "    }\n",
              "</style>\n",
              "<table border=\"1\" class=\"dataframe\">\n",
              "  <thead>\n",
              "    <tr style=\"text-align: right;\">\n",
              "      <th></th>\n",
              "      <th>id</th>\n",
              "      <th>vendor_id</th>\n",
              "      <th>pickup_datetime</th>\n",
              "      <th>dropoff_datetime</th>\n",
              "      <th>passenger_count</th>\n",
              "      <th>pickup_longitude</th>\n",
              "      <th>pickup_latitude</th>\n",
              "      <th>dropoff_longitude</th>\n",
              "      <th>dropoff_latitude</th>\n",
              "      <th>store_and_fwd_flag</th>\n",
              "      <th>trip_duration</th>\n",
              "      <th>pickup_day</th>\n",
              "      <th>dropoff_day</th>\n",
              "      <th>pickup_month</th>\n",
              "      <th>dropoff_month</th>\n",
              "    </tr>\n",
              "  </thead>\n",
              "  <tbody>\n",
              "    <tr>\n",
              "      <th>0</th>\n",
              "      <td>id1080784</td>\n",
              "      <td>2</td>\n",
              "      <td>2016-02-29 16:40:21</td>\n",
              "      <td>2016-02-29 16:47:01</td>\n",
              "      <td>1</td>\n",
              "      <td>-73.953918</td>\n",
              "      <td>40.778873</td>\n",
              "      <td>-73.963875</td>\n",
              "      <td>40.771164</td>\n",
              "      <td>0</td>\n",
              "      <td>400</td>\n",
              "      <td>Monday</td>\n",
              "      <td>Monday</td>\n",
              "      <td>2</td>\n",
              "      <td>2</td>\n",
              "    </tr>\n",
              "    <tr>\n",
              "      <th>1</th>\n",
              "      <td>id0889885</td>\n",
              "      <td>1</td>\n",
              "      <td>2016-03-11 23:35:37</td>\n",
              "      <td>2016-03-11 23:53:57</td>\n",
              "      <td>2</td>\n",
              "      <td>-73.988312</td>\n",
              "      <td>40.731743</td>\n",
              "      <td>-73.994751</td>\n",
              "      <td>40.694931</td>\n",
              "      <td>0</td>\n",
              "      <td>1100</td>\n",
              "      <td>Friday</td>\n",
              "      <td>Friday</td>\n",
              "      <td>3</td>\n",
              "      <td>3</td>\n",
              "    </tr>\n",
              "    <tr>\n",
              "      <th>2</th>\n",
              "      <td>id0857912</td>\n",
              "      <td>2</td>\n",
              "      <td>2016-02-21 17:59:33</td>\n",
              "      <td>2016-02-21 18:26:48</td>\n",
              "      <td>2</td>\n",
              "      <td>-73.997314</td>\n",
              "      <td>40.721458</td>\n",
              "      <td>-73.948029</td>\n",
              "      <td>40.774918</td>\n",
              "      <td>0</td>\n",
              "      <td>1635</td>\n",
              "      <td>Sunday</td>\n",
              "      <td>Sunday</td>\n",
              "      <td>2</td>\n",
              "      <td>2</td>\n",
              "    </tr>\n",
              "    <tr>\n",
              "      <th>3</th>\n",
              "      <td>id3744273</td>\n",
              "      <td>2</td>\n",
              "      <td>2016-01-05 09:44:31</td>\n",
              "      <td>2016-01-05 10:03:32</td>\n",
              "      <td>6</td>\n",
              "      <td>-73.961670</td>\n",
              "      <td>40.759720</td>\n",
              "      <td>-73.956779</td>\n",
              "      <td>40.780628</td>\n",
              "      <td>0</td>\n",
              "      <td>1141</td>\n",
              "      <td>Tuesday</td>\n",
              "      <td>Tuesday</td>\n",
              "      <td>1</td>\n",
              "      <td>1</td>\n",
              "    </tr>\n",
              "    <tr>\n",
              "      <th>4</th>\n",
              "      <td>id0232939</td>\n",
              "      <td>1</td>\n",
              "      <td>2016-02-17 06:42:23</td>\n",
              "      <td>2016-02-17 06:56:31</td>\n",
              "      <td>1</td>\n",
              "      <td>-74.017120</td>\n",
              "      <td>40.708469</td>\n",
              "      <td>-73.988182</td>\n",
              "      <td>40.740631</td>\n",
              "      <td>0</td>\n",
              "      <td>848</td>\n",
              "      <td>Wednesday</td>\n",
              "      <td>Wednesday</td>\n",
              "      <td>2</td>\n",
              "      <td>2</td>\n",
              "    </tr>\n",
              "  </tbody>\n",
              "</table>\n",
              "</div>\n",
              "      <button class=\"colab-df-convert\" onclick=\"convertToInteractive('df-0f55dca5-e8df-4b28-b6d1-8402344e403e')\"\n",
              "              title=\"Convert this dataframe to an interactive table.\"\n",
              "              style=\"display:none;\">\n",
              "        \n",
              "  <svg xmlns=\"http://www.w3.org/2000/svg\" height=\"24px\"viewBox=\"0 0 24 24\"\n",
              "       width=\"24px\">\n",
              "    <path d=\"M0 0h24v24H0V0z\" fill=\"none\"/>\n",
              "    <path d=\"M18.56 5.44l.94 2.06.94-2.06 2.06-.94-2.06-.94-.94-2.06-.94 2.06-2.06.94zm-11 1L8.5 8.5l.94-2.06 2.06-.94-2.06-.94L8.5 2.5l-.94 2.06-2.06.94zm10 10l.94 2.06.94-2.06 2.06-.94-2.06-.94-.94-2.06-.94 2.06-2.06.94z\"/><path d=\"M17.41 7.96l-1.37-1.37c-.4-.4-.92-.59-1.43-.59-.52 0-1.04.2-1.43.59L10.3 9.45l-7.72 7.72c-.78.78-.78 2.05 0 2.83L4 21.41c.39.39.9.59 1.41.59.51 0 1.02-.2 1.41-.59l7.78-7.78 2.81-2.81c.8-.78.8-2.07 0-2.86zM5.41 20L4 18.59l7.72-7.72 1.47 1.35L5.41 20z\"/>\n",
              "  </svg>\n",
              "      </button>\n",
              "      \n",
              "  <style>\n",
              "    .colab-df-container {\n",
              "      display:flex;\n",
              "      flex-wrap:wrap;\n",
              "      gap: 12px;\n",
              "    }\n",
              "\n",
              "    .colab-df-convert {\n",
              "      background-color: #E8F0FE;\n",
              "      border: none;\n",
              "      border-radius: 50%;\n",
              "      cursor: pointer;\n",
              "      display: none;\n",
              "      fill: #1967D2;\n",
              "      height: 32px;\n",
              "      padding: 0 0 0 0;\n",
              "      width: 32px;\n",
              "    }\n",
              "\n",
              "    .colab-df-convert:hover {\n",
              "      background-color: #E2EBFA;\n",
              "      box-shadow: 0px 1px 2px rgba(60, 64, 67, 0.3), 0px 1px 3px 1px rgba(60, 64, 67, 0.15);\n",
              "      fill: #174EA6;\n",
              "    }\n",
              "\n",
              "    [theme=dark] .colab-df-convert {\n",
              "      background-color: #3B4455;\n",
              "      fill: #D2E3FC;\n",
              "    }\n",
              "\n",
              "    [theme=dark] .colab-df-convert:hover {\n",
              "      background-color: #434B5C;\n",
              "      box-shadow: 0px 1px 3px 1px rgba(0, 0, 0, 0.15);\n",
              "      filter: drop-shadow(0px 1px 2px rgba(0, 0, 0, 0.3));\n",
              "      fill: #FFFFFF;\n",
              "    }\n",
              "  </style>\n",
              "\n",
              "      <script>\n",
              "        const buttonEl =\n",
              "          document.querySelector('#df-0f55dca5-e8df-4b28-b6d1-8402344e403e button.colab-df-convert');\n",
              "        buttonEl.style.display =\n",
              "          google.colab.kernel.accessAllowed ? 'block' : 'none';\n",
              "\n",
              "        async function convertToInteractive(key) {\n",
              "          const element = document.querySelector('#df-0f55dca5-e8df-4b28-b6d1-8402344e403e');\n",
              "          const dataTable =\n",
              "            await google.colab.kernel.invokeFunction('convertToInteractive',\n",
              "                                                     [key], {});\n",
              "          if (!dataTable) return;\n",
              "\n",
              "          const docLinkHtml = 'Like what you see? Visit the ' +\n",
              "            '<a target=\"_blank\" href=https://colab.research.google.com/notebooks/data_table.ipynb>data table notebook</a>'\n",
              "            + ' to learn more about interactive tables.';\n",
              "          element.innerHTML = '';\n",
              "          dataTable['output_type'] = 'display_data';\n",
              "          await google.colab.output.renderOutput(dataTable, element);\n",
              "          const docLink = document.createElement('div');\n",
              "          docLink.innerHTML = docLinkHtml;\n",
              "          element.appendChild(docLink);\n",
              "        }\n",
              "      </script>\n",
              "    </div>\n",
              "  </div>\n",
              "  "
            ]
          },
          "metadata": {},
          "execution_count": 31
        }
      ]
    },
    {
      "cell_type": "code",
      "source": [
        "# Dejo de lado las variables que he definido que podrían no ser útiles para predecir la duración del viaje\n",
        "df = df.drop(['id', 'vendor_id', 'pickup_datetime', 'dropoff_datetime', 'pickup_longitude', 'pickup_latitude', \n",
        "              'dropoff_longitude', 'dropoff_latitude'], axis=1)"
      ],
      "metadata": {
        "id": "0tp2pqLGaP3H"
      },
      "execution_count": 32,
      "outputs": []
    },
    {
      "cell_type": "code",
      "source": [
        "# Reviso nuevamente el set de datos luego de esta depuración de columnas innecesarias\n",
        "df.head()"
      ],
      "metadata": {
        "colab": {
          "base_uri": "https://localhost:8080/",
          "height": 206
        },
        "id": "W52o6L4xbWyA",
        "outputId": "dd793c7c-bdc7-47cc-a724-f98e3cfa1c44"
      },
      "execution_count": 33,
      "outputs": [
        {
          "output_type": "execute_result",
          "data": {
            "text/plain": [
              "   passenger_count  store_and_fwd_flag  trip_duration pickup_day dropoff_day  \\\n",
              "0                1                   0            400     Monday      Monday   \n",
              "1                2                   0           1100     Friday      Friday   \n",
              "2                2                   0           1635     Sunday      Sunday   \n",
              "3                6                   0           1141    Tuesday     Tuesday   \n",
              "4                1                   0            848  Wednesday   Wednesday   \n",
              "\n",
              "   pickup_month  dropoff_month  \n",
              "0             2              2  \n",
              "1             3              3  \n",
              "2             2              2  \n",
              "3             1              1  \n",
              "4             2              2  "
            ],
            "text/html": [
              "\n",
              "  <div id=\"df-00ebc0ed-698c-40d5-b872-80fb85bb1b2d\">\n",
              "    <div class=\"colab-df-container\">\n",
              "      <div>\n",
              "<style scoped>\n",
              "    .dataframe tbody tr th:only-of-type {\n",
              "        vertical-align: middle;\n",
              "    }\n",
              "\n",
              "    .dataframe tbody tr th {\n",
              "        vertical-align: top;\n",
              "    }\n",
              "\n",
              "    .dataframe thead th {\n",
              "        text-align: right;\n",
              "    }\n",
              "</style>\n",
              "<table border=\"1\" class=\"dataframe\">\n",
              "  <thead>\n",
              "    <tr style=\"text-align: right;\">\n",
              "      <th></th>\n",
              "      <th>passenger_count</th>\n",
              "      <th>store_and_fwd_flag</th>\n",
              "      <th>trip_duration</th>\n",
              "      <th>pickup_day</th>\n",
              "      <th>dropoff_day</th>\n",
              "      <th>pickup_month</th>\n",
              "      <th>dropoff_month</th>\n",
              "    </tr>\n",
              "  </thead>\n",
              "  <tbody>\n",
              "    <tr>\n",
              "      <th>0</th>\n",
              "      <td>1</td>\n",
              "      <td>0</td>\n",
              "      <td>400</td>\n",
              "      <td>Monday</td>\n",
              "      <td>Monday</td>\n",
              "      <td>2</td>\n",
              "      <td>2</td>\n",
              "    </tr>\n",
              "    <tr>\n",
              "      <th>1</th>\n",
              "      <td>2</td>\n",
              "      <td>0</td>\n",
              "      <td>1100</td>\n",
              "      <td>Friday</td>\n",
              "      <td>Friday</td>\n",
              "      <td>3</td>\n",
              "      <td>3</td>\n",
              "    </tr>\n",
              "    <tr>\n",
              "      <th>2</th>\n",
              "      <td>2</td>\n",
              "      <td>0</td>\n",
              "      <td>1635</td>\n",
              "      <td>Sunday</td>\n",
              "      <td>Sunday</td>\n",
              "      <td>2</td>\n",
              "      <td>2</td>\n",
              "    </tr>\n",
              "    <tr>\n",
              "      <th>3</th>\n",
              "      <td>6</td>\n",
              "      <td>0</td>\n",
              "      <td>1141</td>\n",
              "      <td>Tuesday</td>\n",
              "      <td>Tuesday</td>\n",
              "      <td>1</td>\n",
              "      <td>1</td>\n",
              "    </tr>\n",
              "    <tr>\n",
              "      <th>4</th>\n",
              "      <td>1</td>\n",
              "      <td>0</td>\n",
              "      <td>848</td>\n",
              "      <td>Wednesday</td>\n",
              "      <td>Wednesday</td>\n",
              "      <td>2</td>\n",
              "      <td>2</td>\n",
              "    </tr>\n",
              "  </tbody>\n",
              "</table>\n",
              "</div>\n",
              "      <button class=\"colab-df-convert\" onclick=\"convertToInteractive('df-00ebc0ed-698c-40d5-b872-80fb85bb1b2d')\"\n",
              "              title=\"Convert this dataframe to an interactive table.\"\n",
              "              style=\"display:none;\">\n",
              "        \n",
              "  <svg xmlns=\"http://www.w3.org/2000/svg\" height=\"24px\"viewBox=\"0 0 24 24\"\n",
              "       width=\"24px\">\n",
              "    <path d=\"M0 0h24v24H0V0z\" fill=\"none\"/>\n",
              "    <path d=\"M18.56 5.44l.94 2.06.94-2.06 2.06-.94-2.06-.94-.94-2.06-.94 2.06-2.06.94zm-11 1L8.5 8.5l.94-2.06 2.06-.94-2.06-.94L8.5 2.5l-.94 2.06-2.06.94zm10 10l.94 2.06.94-2.06 2.06-.94-2.06-.94-.94-2.06-.94 2.06-2.06.94z\"/><path d=\"M17.41 7.96l-1.37-1.37c-.4-.4-.92-.59-1.43-.59-.52 0-1.04.2-1.43.59L10.3 9.45l-7.72 7.72c-.78.78-.78 2.05 0 2.83L4 21.41c.39.39.9.59 1.41.59.51 0 1.02-.2 1.41-.59l7.78-7.78 2.81-2.81c.8-.78.8-2.07 0-2.86zM5.41 20L4 18.59l7.72-7.72 1.47 1.35L5.41 20z\"/>\n",
              "  </svg>\n",
              "      </button>\n",
              "      \n",
              "  <style>\n",
              "    .colab-df-container {\n",
              "      display:flex;\n",
              "      flex-wrap:wrap;\n",
              "      gap: 12px;\n",
              "    }\n",
              "\n",
              "    .colab-df-convert {\n",
              "      background-color: #E8F0FE;\n",
              "      border: none;\n",
              "      border-radius: 50%;\n",
              "      cursor: pointer;\n",
              "      display: none;\n",
              "      fill: #1967D2;\n",
              "      height: 32px;\n",
              "      padding: 0 0 0 0;\n",
              "      width: 32px;\n",
              "    }\n",
              "\n",
              "    .colab-df-convert:hover {\n",
              "      background-color: #E2EBFA;\n",
              "      box-shadow: 0px 1px 2px rgba(60, 64, 67, 0.3), 0px 1px 3px 1px rgba(60, 64, 67, 0.15);\n",
              "      fill: #174EA6;\n",
              "    }\n",
              "\n",
              "    [theme=dark] .colab-df-convert {\n",
              "      background-color: #3B4455;\n",
              "      fill: #D2E3FC;\n",
              "    }\n",
              "\n",
              "    [theme=dark] .colab-df-convert:hover {\n",
              "      background-color: #434B5C;\n",
              "      box-shadow: 0px 1px 3px 1px rgba(0, 0, 0, 0.15);\n",
              "      filter: drop-shadow(0px 1px 2px rgba(0, 0, 0, 0.3));\n",
              "      fill: #FFFFFF;\n",
              "    }\n",
              "  </style>\n",
              "\n",
              "      <script>\n",
              "        const buttonEl =\n",
              "          document.querySelector('#df-00ebc0ed-698c-40d5-b872-80fb85bb1b2d button.colab-df-convert');\n",
              "        buttonEl.style.display =\n",
              "          google.colab.kernel.accessAllowed ? 'block' : 'none';\n",
              "\n",
              "        async function convertToInteractive(key) {\n",
              "          const element = document.querySelector('#df-00ebc0ed-698c-40d5-b872-80fb85bb1b2d');\n",
              "          const dataTable =\n",
              "            await google.colab.kernel.invokeFunction('convertToInteractive',\n",
              "                                                     [key], {});\n",
              "          if (!dataTable) return;\n",
              "\n",
              "          const docLinkHtml = 'Like what you see? Visit the ' +\n",
              "            '<a target=\"_blank\" href=https://colab.research.google.com/notebooks/data_table.ipynb>data table notebook</a>'\n",
              "            + ' to learn more about interactive tables.';\n",
              "          element.innerHTML = '';\n",
              "          dataTable['output_type'] = 'display_data';\n",
              "          await google.colab.output.renderOutput(dataTable, element);\n",
              "          const docLink = document.createElement('div');\n",
              "          docLink.innerHTML = docLinkHtml;\n",
              "          element.appendChild(docLink);\n",
              "        }\n",
              "      </script>\n",
              "    </div>\n",
              "  </div>\n",
              "  "
            ]
          },
          "metadata": {},
          "execution_count": 33
        }
      ]
    },
    {
      "cell_type": "markdown",
      "source": [
        "Como podemos visualizar ya, las columnas son de tipo numérico a excepción de las recién transformadas de tipo datatime"
      ],
      "metadata": {
        "id": "k1qUBAlibh1X"
      }
    },
    {
      "cell_type": "code",
      "source": [
        "# Convertimos las variables categóricas en variables numéricas\n",
        "df = pd.get_dummies(df)"
      ],
      "metadata": {
        "id": "LTwh-2L7bi8L"
      },
      "execution_count": 34,
      "outputs": []
    },
    {
      "cell_type": "code",
      "source": [
        "# Reviso nuevamente el set de datos luego de esta conversión de tipo de datos en las columnas faltantes\n",
        "df.head()"
      ],
      "metadata": {
        "colab": {
          "base_uri": "https://localhost:8080/",
          "height": 270
        },
        "id": "TZyrVOjqcC8F",
        "outputId": "45b306b4-8374-4c49-bf57-0f8beb361c72"
      },
      "execution_count": 35,
      "outputs": [
        {
          "output_type": "execute_result",
          "data": {
            "text/plain": [
              "   passenger_count  store_and_fwd_flag  trip_duration  pickup_month  \\\n",
              "0                1                   0            400             2   \n",
              "1                2                   0           1100             3   \n",
              "2                2                   0           1635             2   \n",
              "3                6                   0           1141             1   \n",
              "4                1                   0            848             2   \n",
              "\n",
              "   dropoff_month  pickup_day_Friday  pickup_day_Monday  pickup_day_Saturday  \\\n",
              "0              2                  0                  1                    0   \n",
              "1              3                  1                  0                    0   \n",
              "2              2                  0                  0                    0   \n",
              "3              1                  0                  0                    0   \n",
              "4              2                  0                  0                    0   \n",
              "\n",
              "   pickup_day_Sunday  pickup_day_Thursday  pickup_day_Tuesday  \\\n",
              "0                  0                    0                   0   \n",
              "1                  0                    0                   0   \n",
              "2                  1                    0                   0   \n",
              "3                  0                    0                   1   \n",
              "4                  0                    0                   0   \n",
              "\n",
              "   pickup_day_Wednesday  dropoff_day_Friday  dropoff_day_Monday  \\\n",
              "0                     0                   0                   1   \n",
              "1                     0                   1                   0   \n",
              "2                     0                   0                   0   \n",
              "3                     0                   0                   0   \n",
              "4                     1                   0                   0   \n",
              "\n",
              "   dropoff_day_Saturday  dropoff_day_Sunday  dropoff_day_Thursday  \\\n",
              "0                     0                   0                     0   \n",
              "1                     0                   0                     0   \n",
              "2                     0                   1                     0   \n",
              "3                     0                   0                     0   \n",
              "4                     0                   0                     0   \n",
              "\n",
              "   dropoff_day_Tuesday  dropoff_day_Wednesday  \n",
              "0                    0                      0  \n",
              "1                    0                      0  \n",
              "2                    0                      0  \n",
              "3                    1                      0  \n",
              "4                    0                      1  "
            ],
            "text/html": [
              "\n",
              "  <div id=\"df-9ff3cd3e-9bf4-4640-a0d6-6c8847a9897f\">\n",
              "    <div class=\"colab-df-container\">\n",
              "      <div>\n",
              "<style scoped>\n",
              "    .dataframe tbody tr th:only-of-type {\n",
              "        vertical-align: middle;\n",
              "    }\n",
              "\n",
              "    .dataframe tbody tr th {\n",
              "        vertical-align: top;\n",
              "    }\n",
              "\n",
              "    .dataframe thead th {\n",
              "        text-align: right;\n",
              "    }\n",
              "</style>\n",
              "<table border=\"1\" class=\"dataframe\">\n",
              "  <thead>\n",
              "    <tr style=\"text-align: right;\">\n",
              "      <th></th>\n",
              "      <th>passenger_count</th>\n",
              "      <th>store_and_fwd_flag</th>\n",
              "      <th>trip_duration</th>\n",
              "      <th>pickup_month</th>\n",
              "      <th>dropoff_month</th>\n",
              "      <th>pickup_day_Friday</th>\n",
              "      <th>pickup_day_Monday</th>\n",
              "      <th>pickup_day_Saturday</th>\n",
              "      <th>pickup_day_Sunday</th>\n",
              "      <th>pickup_day_Thursday</th>\n",
              "      <th>pickup_day_Tuesday</th>\n",
              "      <th>pickup_day_Wednesday</th>\n",
              "      <th>dropoff_day_Friday</th>\n",
              "      <th>dropoff_day_Monday</th>\n",
              "      <th>dropoff_day_Saturday</th>\n",
              "      <th>dropoff_day_Sunday</th>\n",
              "      <th>dropoff_day_Thursday</th>\n",
              "      <th>dropoff_day_Tuesday</th>\n",
              "      <th>dropoff_day_Wednesday</th>\n",
              "    </tr>\n",
              "  </thead>\n",
              "  <tbody>\n",
              "    <tr>\n",
              "      <th>0</th>\n",
              "      <td>1</td>\n",
              "      <td>0</td>\n",
              "      <td>400</td>\n",
              "      <td>2</td>\n",
              "      <td>2</td>\n",
              "      <td>0</td>\n",
              "      <td>1</td>\n",
              "      <td>0</td>\n",
              "      <td>0</td>\n",
              "      <td>0</td>\n",
              "      <td>0</td>\n",
              "      <td>0</td>\n",
              "      <td>0</td>\n",
              "      <td>1</td>\n",
              "      <td>0</td>\n",
              "      <td>0</td>\n",
              "      <td>0</td>\n",
              "      <td>0</td>\n",
              "      <td>0</td>\n",
              "    </tr>\n",
              "    <tr>\n",
              "      <th>1</th>\n",
              "      <td>2</td>\n",
              "      <td>0</td>\n",
              "      <td>1100</td>\n",
              "      <td>3</td>\n",
              "      <td>3</td>\n",
              "      <td>1</td>\n",
              "      <td>0</td>\n",
              "      <td>0</td>\n",
              "      <td>0</td>\n",
              "      <td>0</td>\n",
              "      <td>0</td>\n",
              "      <td>0</td>\n",
              "      <td>1</td>\n",
              "      <td>0</td>\n",
              "      <td>0</td>\n",
              "      <td>0</td>\n",
              "      <td>0</td>\n",
              "      <td>0</td>\n",
              "      <td>0</td>\n",
              "    </tr>\n",
              "    <tr>\n",
              "      <th>2</th>\n",
              "      <td>2</td>\n",
              "      <td>0</td>\n",
              "      <td>1635</td>\n",
              "      <td>2</td>\n",
              "      <td>2</td>\n",
              "      <td>0</td>\n",
              "      <td>0</td>\n",
              "      <td>0</td>\n",
              "      <td>1</td>\n",
              "      <td>0</td>\n",
              "      <td>0</td>\n",
              "      <td>0</td>\n",
              "      <td>0</td>\n",
              "      <td>0</td>\n",
              "      <td>0</td>\n",
              "      <td>1</td>\n",
              "      <td>0</td>\n",
              "      <td>0</td>\n",
              "      <td>0</td>\n",
              "    </tr>\n",
              "    <tr>\n",
              "      <th>3</th>\n",
              "      <td>6</td>\n",
              "      <td>0</td>\n",
              "      <td>1141</td>\n",
              "      <td>1</td>\n",
              "      <td>1</td>\n",
              "      <td>0</td>\n",
              "      <td>0</td>\n",
              "      <td>0</td>\n",
              "      <td>0</td>\n",
              "      <td>0</td>\n",
              "      <td>1</td>\n",
              "      <td>0</td>\n",
              "      <td>0</td>\n",
              "      <td>0</td>\n",
              "      <td>0</td>\n",
              "      <td>0</td>\n",
              "      <td>0</td>\n",
              "      <td>1</td>\n",
              "      <td>0</td>\n",
              "    </tr>\n",
              "    <tr>\n",
              "      <th>4</th>\n",
              "      <td>1</td>\n",
              "      <td>0</td>\n",
              "      <td>848</td>\n",
              "      <td>2</td>\n",
              "      <td>2</td>\n",
              "      <td>0</td>\n",
              "      <td>0</td>\n",
              "      <td>0</td>\n",
              "      <td>0</td>\n",
              "      <td>0</td>\n",
              "      <td>0</td>\n",
              "      <td>1</td>\n",
              "      <td>0</td>\n",
              "      <td>0</td>\n",
              "      <td>0</td>\n",
              "      <td>0</td>\n",
              "      <td>0</td>\n",
              "      <td>0</td>\n",
              "      <td>1</td>\n",
              "    </tr>\n",
              "  </tbody>\n",
              "</table>\n",
              "</div>\n",
              "      <button class=\"colab-df-convert\" onclick=\"convertToInteractive('df-9ff3cd3e-9bf4-4640-a0d6-6c8847a9897f')\"\n",
              "              title=\"Convert this dataframe to an interactive table.\"\n",
              "              style=\"display:none;\">\n",
              "        \n",
              "  <svg xmlns=\"http://www.w3.org/2000/svg\" height=\"24px\"viewBox=\"0 0 24 24\"\n",
              "       width=\"24px\">\n",
              "    <path d=\"M0 0h24v24H0V0z\" fill=\"none\"/>\n",
              "    <path d=\"M18.56 5.44l.94 2.06.94-2.06 2.06-.94-2.06-.94-.94-2.06-.94 2.06-2.06.94zm-11 1L8.5 8.5l.94-2.06 2.06-.94-2.06-.94L8.5 2.5l-.94 2.06-2.06.94zm10 10l.94 2.06.94-2.06 2.06-.94-2.06-.94-.94-2.06-.94 2.06-2.06.94z\"/><path d=\"M17.41 7.96l-1.37-1.37c-.4-.4-.92-.59-1.43-.59-.52 0-1.04.2-1.43.59L10.3 9.45l-7.72 7.72c-.78.78-.78 2.05 0 2.83L4 21.41c.39.39.9.59 1.41.59.51 0 1.02-.2 1.41-.59l7.78-7.78 2.81-2.81c.8-.78.8-2.07 0-2.86zM5.41 20L4 18.59l7.72-7.72 1.47 1.35L5.41 20z\"/>\n",
              "  </svg>\n",
              "      </button>\n",
              "      \n",
              "  <style>\n",
              "    .colab-df-container {\n",
              "      display:flex;\n",
              "      flex-wrap:wrap;\n",
              "      gap: 12px;\n",
              "    }\n",
              "\n",
              "    .colab-df-convert {\n",
              "      background-color: #E8F0FE;\n",
              "      border: none;\n",
              "      border-radius: 50%;\n",
              "      cursor: pointer;\n",
              "      display: none;\n",
              "      fill: #1967D2;\n",
              "      height: 32px;\n",
              "      padding: 0 0 0 0;\n",
              "      width: 32px;\n",
              "    }\n",
              "\n",
              "    .colab-df-convert:hover {\n",
              "      background-color: #E2EBFA;\n",
              "      box-shadow: 0px 1px 2px rgba(60, 64, 67, 0.3), 0px 1px 3px 1px rgba(60, 64, 67, 0.15);\n",
              "      fill: #174EA6;\n",
              "    }\n",
              "\n",
              "    [theme=dark] .colab-df-convert {\n",
              "      background-color: #3B4455;\n",
              "      fill: #D2E3FC;\n",
              "    }\n",
              "\n",
              "    [theme=dark] .colab-df-convert:hover {\n",
              "      background-color: #434B5C;\n",
              "      box-shadow: 0px 1px 3px 1px rgba(0, 0, 0, 0.15);\n",
              "      filter: drop-shadow(0px 1px 2px rgba(0, 0, 0, 0.3));\n",
              "      fill: #FFFFFF;\n",
              "    }\n",
              "  </style>\n",
              "\n",
              "      <script>\n",
              "        const buttonEl =\n",
              "          document.querySelector('#df-9ff3cd3e-9bf4-4640-a0d6-6c8847a9897f button.colab-df-convert');\n",
              "        buttonEl.style.display =\n",
              "          google.colab.kernel.accessAllowed ? 'block' : 'none';\n",
              "\n",
              "        async function convertToInteractive(key) {\n",
              "          const element = document.querySelector('#df-9ff3cd3e-9bf4-4640-a0d6-6c8847a9897f');\n",
              "          const dataTable =\n",
              "            await google.colab.kernel.invokeFunction('convertToInteractive',\n",
              "                                                     [key], {});\n",
              "          if (!dataTable) return;\n",
              "\n",
              "          const docLinkHtml = 'Like what you see? Visit the ' +\n",
              "            '<a target=\"_blank\" href=https://colab.research.google.com/notebooks/data_table.ipynb>data table notebook</a>'\n",
              "            + ' to learn more about interactive tables.';\n",
              "          element.innerHTML = '';\n",
              "          dataTable['output_type'] = 'display_data';\n",
              "          await google.colab.output.renderOutput(dataTable, element);\n",
              "          const docLink = document.createElement('div');\n",
              "          docLink.innerHTML = docLinkHtml;\n",
              "          element.appendChild(docLink);\n",
              "        }\n",
              "      </script>\n",
              "    </div>\n",
              "  </div>\n",
              "  "
            ]
          },
          "metadata": {},
          "execution_count": 35
        }
      ]
    },
    {
      "cell_type": "code",
      "source": [
        "# Obtengo resumen del tipo de variables\n",
        "print(df.dtypes)"
      ],
      "metadata": {
        "colab": {
          "base_uri": "https://localhost:8080/"
        },
        "id": "1W4epIM4cQyU",
        "outputId": "b43b03b0-994b-4841-96e5-473c9de6a475"
      },
      "execution_count": 36,
      "outputs": [
        {
          "output_type": "stream",
          "name": "stdout",
          "text": [
            "passenger_count          int64\n",
            "store_and_fwd_flag       int64\n",
            "trip_duration            int64\n",
            "pickup_month             int64\n",
            "dropoff_month            int64\n",
            "pickup_day_Friday        uint8\n",
            "pickup_day_Monday        uint8\n",
            "pickup_day_Saturday      uint8\n",
            "pickup_day_Sunday        uint8\n",
            "pickup_day_Thursday      uint8\n",
            "pickup_day_Tuesday       uint8\n",
            "pickup_day_Wednesday     uint8\n",
            "dropoff_day_Friday       uint8\n",
            "dropoff_day_Monday       uint8\n",
            "dropoff_day_Saturday     uint8\n",
            "dropoff_day_Sunday       uint8\n",
            "dropoff_day_Thursday     uint8\n",
            "dropoff_day_Tuesday      uint8\n",
            "dropoff_day_Wednesday    uint8\n",
            "dtype: object\n"
          ]
        }
      ]
    },
    {
      "cell_type": "markdown",
      "source": [
        "Finalmente, podemos ver que todos los datos ya están bajo un formato de tipo de dato numérico. El set de datos ha sido tratado correctamente y posteriormente ya lo podremos utilizar para la implementación de nuestro modelo de predicción."
      ],
      "metadata": {
        "id": "AgrWfPIx50my"
      }
    },
    {
      "cell_type": "markdown",
      "source": [
        "## **Explorar los datos (Visualizaciones)**"
      ],
      "metadata": {
        "id": "LlC2Xdnd2tED"
      }
    },
    {
      "cell_type": "markdown",
      "source": [
        "Luego de la limpieza del set de datos, voy a ver la opción de generar unos gráficos para conocer como puedo tener unos primeros análisis a partir del comportamiento visual de estos datos. Para ello me gustaría iniciar con una identificación de la correlación entre las columnas del data set."
      ],
      "metadata": {
        "id": "FhiojEBJ2xnS"
      }
    },
    {
      "cell_type": "code",
      "source": [
        "# Verificamos dentro del DataFrame la correlación entre sus columnas\n",
        "df.corr()"
      ],
      "metadata": {
        "colab": {
          "base_uri": "https://localhost:8080/",
          "height": 709
        },
        "id": "obL9-1do2-Lz",
        "outputId": "2ff75304-96f3-4909-9abd-8b0f520bb0f2"
      },
      "execution_count": 37,
      "outputs": [
        {
          "output_type": "execute_result",
          "data": {
            "text/plain": [
              "                       passenger_count  store_and_fwd_flag  trip_duration  \\\n",
              "passenger_count               1.000000           -0.020899       0.016517   \n",
              "store_and_fwd_flag           -0.020899            1.000000       0.003467   \n",
              "trip_duration                 0.016517            0.003467       1.000000   \n",
              "pickup_month                 -0.001486            0.000237       0.012859   \n",
              "dropoff_month                -0.001502            0.000243       0.013795   \n",
              "pickup_day_Friday            -0.001740            0.002821       0.005500   \n",
              "pickup_day_Monday            -0.008812            0.000577      -0.006932   \n",
              "pickup_day_Saturday           0.022570           -0.002977      -0.004800   \n",
              "pickup_day_Sunday             0.016221           -0.002663      -0.006914   \n",
              "pickup_day_Thursday          -0.009561            0.002861       0.007501   \n",
              "pickup_day_Tuesday           -0.007942           -0.001062       0.001518   \n",
              "pickup_day_Wednesday         -0.011023            0.000314       0.003455   \n",
              "dropoff_day_Friday           -0.001920            0.002582       0.003779   \n",
              "dropoff_day_Monday           -0.008667            0.000415      -0.000427   \n",
              "dropoff_day_Saturday          0.022341           -0.002678      -0.006522   \n",
              "dropoff_day_Sunday            0.016737           -0.002646      -0.004161   \n",
              "dropoff_day_Thursday         -0.009664            0.003040       0.004722   \n",
              "dropoff_day_Tuesday          -0.008322           -0.001190      -0.002199   \n",
              "dropoff_day_Wednesday        -0.010857            0.000352       0.004614   \n",
              "\n",
              "                       pickup_month  dropoff_month  pickup_day_Friday  \\\n",
              "passenger_count           -0.001486      -0.001502          -0.001740   \n",
              "store_and_fwd_flag         0.000237       0.000243           0.002821   \n",
              "trip_duration              0.012859       0.013795           0.005500   \n",
              "pickup_month               1.000000       0.999937          -0.025228   \n",
              "dropoff_month              0.999937       1.000000          -0.025315   \n",
              "pickup_day_Friday         -0.025228      -0.025315           1.000000   \n",
              "pickup_day_Monday         -0.001990      -0.002000          -0.163591   \n",
              "pickup_day_Saturday       -0.007655      -0.007602          -0.179512   \n",
              "pickup_day_Sunday         -0.002847      -0.002867          -0.167279   \n",
              "pickup_day_Thursday        0.014466       0.014637          -0.178643   \n",
              "pickup_day_Tuesday         0.008235       0.008214          -0.170794   \n",
              "pickup_day_Wednesday       0.015530       0.015442          -0.174517   \n",
              "dropoff_day_Friday        -0.024497      -0.024326           0.983548   \n",
              "dropoff_day_Monday        -0.002202      -0.002220          -0.163578   \n",
              "dropoff_day_Saturday      -0.008055      -0.008143          -0.161771   \n",
              "dropoff_day_Sunday        -0.002554      -0.002489          -0.168147   \n",
              "dropoff_day_Thursday       0.014258       0.014168          -0.178233   \n",
              "dropoff_day_Tuesday        0.008207       0.008190          -0.170686   \n",
              "dropoff_day_Wednesday      0.015370       0.015345          -0.174390   \n",
              "\n",
              "                       pickup_day_Monday  pickup_day_Saturday  \\\n",
              "passenger_count                -0.008812             0.022570   \n",
              "store_and_fwd_flag              0.000577            -0.002977   \n",
              "trip_duration                  -0.006932            -0.004800   \n",
              "pickup_month                   -0.001990            -0.007655   \n",
              "dropoff_month                  -0.002000            -0.007602   \n",
              "pickup_day_Friday              -0.163591            -0.179512   \n",
              "pickup_day_Monday               1.000000            -0.162297   \n",
              "pickup_day_Saturday            -0.162297             1.000000   \n",
              "pickup_day_Sunday              -0.151237            -0.165955   \n",
              "pickup_day_Thursday            -0.161512            -0.177229   \n",
              "pickup_day_Tuesday             -0.154416            -0.169443   \n",
              "pickup_day_Wednesday           -0.157782            -0.173136   \n",
              "dropoff_day_Friday             -0.163388            -0.179289   \n",
              "dropoff_day_Monday              0.990673            -0.162284   \n",
              "dropoff_day_Saturday           -0.162329             0.982323   \n",
              "dropoff_day_Sunday             -0.152022            -0.148499   \n",
              "dropoff_day_Thursday           -0.161141            -0.176823   \n",
              "dropoff_day_Tuesday            -0.145200            -0.169335   \n",
              "dropoff_day_Wednesday          -0.157667            -0.173010   \n",
              "\n",
              "                       pickup_day_Sunday  pickup_day_Thursday  \\\n",
              "passenger_count                 0.016221            -0.009561   \n",
              "store_and_fwd_flag             -0.002663             0.002861   \n",
              "trip_duration                  -0.006914             0.007501   \n",
              "pickup_month                   -0.002847             0.014466   \n",
              "dropoff_month                  -0.002867             0.014637   \n",
              "pickup_day_Friday              -0.167279            -0.178643   \n",
              "pickup_day_Monday              -0.151237            -0.161512   \n",
              "pickup_day_Saturday            -0.165955            -0.177229   \n",
              "pickup_day_Sunday               1.000000            -0.165152   \n",
              "pickup_day_Thursday            -0.165152             1.000000   \n",
              "pickup_day_Tuesday             -0.157896            -0.168623   \n",
              "pickup_day_Wednesday           -0.161338            -0.172298   \n",
              "dropoff_day_Friday             -0.167071            -0.163074   \n",
              "dropoff_day_Monday             -0.142128            -0.161499   \n",
              "dropoff_day_Saturday           -0.165988            -0.177264   \n",
              "dropoff_day_Sunday              0.985923            -0.166009   \n",
              "dropoff_day_Thursday           -0.164773             0.986802   \n",
              "dropoff_day_Tuesday            -0.157796            -0.168516   \n",
              "dropoff_day_Wednesday          -0.161220            -0.172173   \n",
              "\n",
              "                       pickup_day_Tuesday  pickup_day_Wednesday  \\\n",
              "passenger_count                 -0.007942             -0.011023   \n",
              "store_and_fwd_flag              -0.001062              0.000314   \n",
              "trip_duration                    0.001518              0.003455   \n",
              "pickup_month                     0.008235              0.015530   \n",
              "dropoff_month                    0.008214              0.015442   \n",
              "pickup_day_Friday               -0.170794             -0.174517   \n",
              "pickup_day_Monday               -0.154416             -0.157782   \n",
              "pickup_day_Saturday             -0.169443             -0.173136   \n",
              "pickup_day_Sunday               -0.157896             -0.161338   \n",
              "pickup_day_Thursday             -0.168623             -0.172298   \n",
              "pickup_day_Tuesday               1.000000             -0.164729   \n",
              "pickup_day_Wednesday            -0.164729              1.000000   \n",
              "dropoff_day_Friday              -0.170582             -0.174300   \n",
              "dropoff_day_Monday              -0.154404             -0.157769   \n",
              "dropoff_day_Saturday            -0.169477             -0.173170   \n",
              "dropoff_day_Sunday              -0.158716             -0.162175   \n",
              "dropoff_day_Thursday            -0.168236             -0.160817   \n",
              "dropoff_day_Tuesday              0.990529             -0.164624   \n",
              "dropoff_day_Wednesday           -0.154655              0.989470   \n",
              "\n",
              "                       dropoff_day_Friday  dropoff_day_Monday  \\\n",
              "passenger_count                 -0.001920           -0.008667   \n",
              "store_and_fwd_flag               0.002582            0.000415   \n",
              "trip_duration                    0.003779           -0.000427   \n",
              "pickup_month                    -0.024497           -0.002202   \n",
              "dropoff_month                   -0.024326           -0.002220   \n",
              "pickup_day_Friday                0.983548           -0.163578   \n",
              "pickup_day_Monday               -0.163388            0.990673   \n",
              "pickup_day_Saturday             -0.179289           -0.162284   \n",
              "pickup_day_Sunday               -0.167071           -0.142128   \n",
              "pickup_day_Thursday             -0.163074           -0.161499   \n",
              "pickup_day_Tuesday              -0.170582           -0.154404   \n",
              "pickup_day_Wednesday            -0.174300           -0.157769   \n",
              "dropoff_day_Friday               1.000000           -0.163375   \n",
              "dropoff_day_Monday              -0.163375            1.000000   \n",
              "dropoff_day_Saturday            -0.179324           -0.162316   \n",
              "dropoff_day_Sunday              -0.167938           -0.152010   \n",
              "dropoff_day_Thursday            -0.178012           -0.161129   \n",
              "dropoff_day_Tuesday             -0.170474           -0.154305   \n",
              "dropoff_day_Wednesday           -0.174173           -0.157654   \n",
              "\n",
              "                       dropoff_day_Saturday  dropoff_day_Sunday  \\\n",
              "passenger_count                    0.022341            0.016737   \n",
              "store_and_fwd_flag                -0.002678           -0.002646   \n",
              "trip_duration                     -0.006522           -0.004161   \n",
              "pickup_month                      -0.008055           -0.002554   \n",
              "dropoff_month                     -0.008143           -0.002489   \n",
              "pickup_day_Friday                 -0.161771           -0.168147   \n",
              "pickup_day_Monday                 -0.162329           -0.152022   \n",
              "pickup_day_Saturday                0.982323           -0.148499   \n",
              "pickup_day_Sunday                 -0.165988            0.985923   \n",
              "pickup_day_Thursday               -0.177264           -0.166009   \n",
              "pickup_day_Tuesday                -0.169477           -0.158716   \n",
              "pickup_day_Wednesday              -0.173170           -0.162175   \n",
              "dropoff_day_Friday                -0.179324           -0.167938   \n",
              "dropoff_day_Monday                -0.162316           -0.152010   \n",
              "dropoff_day_Saturday               1.000000           -0.166849   \n",
              "dropoff_day_Sunday                -0.166849            1.000000   \n",
              "dropoff_day_Thursday              -0.176858           -0.165628   \n",
              "dropoff_day_Tuesday               -0.169369           -0.158615   \n",
              "dropoff_day_Wednesday             -0.173044           -0.162057   \n",
              "\n",
              "                       dropoff_day_Thursday  dropoff_day_Tuesday  \\\n",
              "passenger_count                   -0.009664            -0.008322   \n",
              "store_and_fwd_flag                 0.003040            -0.001190   \n",
              "trip_duration                      0.004722            -0.002199   \n",
              "pickup_month                       0.014258             0.008207   \n",
              "dropoff_month                      0.014168             0.008190   \n",
              "pickup_day_Friday                 -0.178233            -0.170686   \n",
              "pickup_day_Monday                 -0.161141            -0.145200   \n",
              "pickup_day_Saturday               -0.176823            -0.169335   \n",
              "pickup_day_Sunday                 -0.164773            -0.157796   \n",
              "pickup_day_Thursday                0.986802            -0.168516   \n",
              "pickup_day_Tuesday                -0.168236             0.990529   \n",
              "pickup_day_Wednesday              -0.160817            -0.164624   \n",
              "dropoff_day_Friday                -0.178012            -0.170474   \n",
              "dropoff_day_Monday                -0.161129            -0.154305   \n",
              "dropoff_day_Saturday              -0.176858            -0.169369   \n",
              "dropoff_day_Sunday                -0.165628            -0.158615   \n",
              "dropoff_day_Thursday               1.000000            -0.168129   \n",
              "dropoff_day_Tuesday               -0.168129             1.000000   \n",
              "dropoff_day_Wednesday             -0.171778            -0.164504   \n",
              "\n",
              "                       dropoff_day_Wednesday  \n",
              "passenger_count                    -0.010857  \n",
              "store_and_fwd_flag                  0.000352  \n",
              "trip_duration                       0.004614  \n",
              "pickup_month                        0.015370  \n",
              "dropoff_month                       0.015345  \n",
              "pickup_day_Friday                  -0.174390  \n",
              "pickup_day_Monday                  -0.157667  \n",
              "pickup_day_Saturday                -0.173010  \n",
              "pickup_day_Sunday                  -0.161220  \n",
              "pickup_day_Thursday                -0.172173  \n",
              "pickup_day_Tuesday                 -0.154655  \n",
              "pickup_day_Wednesday                0.989470  \n",
              "dropoff_day_Friday                 -0.174173  \n",
              "dropoff_day_Monday                 -0.157654  \n",
              "dropoff_day_Saturday               -0.173044  \n",
              "dropoff_day_Sunday                 -0.162057  \n",
              "dropoff_day_Thursday               -0.171778  \n",
              "dropoff_day_Tuesday                -0.164504  \n",
              "dropoff_day_Wednesday               1.000000  "
            ],
            "text/html": [
              "\n",
              "  <div id=\"df-daefb6d0-12e5-4981-9874-e87b9f538409\">\n",
              "    <div class=\"colab-df-container\">\n",
              "      <div>\n",
              "<style scoped>\n",
              "    .dataframe tbody tr th:only-of-type {\n",
              "        vertical-align: middle;\n",
              "    }\n",
              "\n",
              "    .dataframe tbody tr th {\n",
              "        vertical-align: top;\n",
              "    }\n",
              "\n",
              "    .dataframe thead th {\n",
              "        text-align: right;\n",
              "    }\n",
              "</style>\n",
              "<table border=\"1\" class=\"dataframe\">\n",
              "  <thead>\n",
              "    <tr style=\"text-align: right;\">\n",
              "      <th></th>\n",
              "      <th>passenger_count</th>\n",
              "      <th>store_and_fwd_flag</th>\n",
              "      <th>trip_duration</th>\n",
              "      <th>pickup_month</th>\n",
              "      <th>dropoff_month</th>\n",
              "      <th>pickup_day_Friday</th>\n",
              "      <th>pickup_day_Monday</th>\n",
              "      <th>pickup_day_Saturday</th>\n",
              "      <th>pickup_day_Sunday</th>\n",
              "      <th>pickup_day_Thursday</th>\n",
              "      <th>pickup_day_Tuesday</th>\n",
              "      <th>pickup_day_Wednesday</th>\n",
              "      <th>dropoff_day_Friday</th>\n",
              "      <th>dropoff_day_Monday</th>\n",
              "      <th>dropoff_day_Saturday</th>\n",
              "      <th>dropoff_day_Sunday</th>\n",
              "      <th>dropoff_day_Thursday</th>\n",
              "      <th>dropoff_day_Tuesday</th>\n",
              "      <th>dropoff_day_Wednesday</th>\n",
              "    </tr>\n",
              "  </thead>\n",
              "  <tbody>\n",
              "    <tr>\n",
              "      <th>passenger_count</th>\n",
              "      <td>1.000000</td>\n",
              "      <td>-0.020899</td>\n",
              "      <td>0.016517</td>\n",
              "      <td>-0.001486</td>\n",
              "      <td>-0.001502</td>\n",
              "      <td>-0.001740</td>\n",
              "      <td>-0.008812</td>\n",
              "      <td>0.022570</td>\n",
              "      <td>0.016221</td>\n",
              "      <td>-0.009561</td>\n",
              "      <td>-0.007942</td>\n",
              "      <td>-0.011023</td>\n",
              "      <td>-0.001920</td>\n",
              "      <td>-0.008667</td>\n",
              "      <td>0.022341</td>\n",
              "      <td>0.016737</td>\n",
              "      <td>-0.009664</td>\n",
              "      <td>-0.008322</td>\n",
              "      <td>-0.010857</td>\n",
              "    </tr>\n",
              "    <tr>\n",
              "      <th>store_and_fwd_flag</th>\n",
              "      <td>-0.020899</td>\n",
              "      <td>1.000000</td>\n",
              "      <td>0.003467</td>\n",
              "      <td>0.000237</td>\n",
              "      <td>0.000243</td>\n",
              "      <td>0.002821</td>\n",
              "      <td>0.000577</td>\n",
              "      <td>-0.002977</td>\n",
              "      <td>-0.002663</td>\n",
              "      <td>0.002861</td>\n",
              "      <td>-0.001062</td>\n",
              "      <td>0.000314</td>\n",
              "      <td>0.002582</td>\n",
              "      <td>0.000415</td>\n",
              "      <td>-0.002678</td>\n",
              "      <td>-0.002646</td>\n",
              "      <td>0.003040</td>\n",
              "      <td>-0.001190</td>\n",
              "      <td>0.000352</td>\n",
              "    </tr>\n",
              "    <tr>\n",
              "      <th>trip_duration</th>\n",
              "      <td>0.016517</td>\n",
              "      <td>0.003467</td>\n",
              "      <td>1.000000</td>\n",
              "      <td>0.012859</td>\n",
              "      <td>0.013795</td>\n",
              "      <td>0.005500</td>\n",
              "      <td>-0.006932</td>\n",
              "      <td>-0.004800</td>\n",
              "      <td>-0.006914</td>\n",
              "      <td>0.007501</td>\n",
              "      <td>0.001518</td>\n",
              "      <td>0.003455</td>\n",
              "      <td>0.003779</td>\n",
              "      <td>-0.000427</td>\n",
              "      <td>-0.006522</td>\n",
              "      <td>-0.004161</td>\n",
              "      <td>0.004722</td>\n",
              "      <td>-0.002199</td>\n",
              "      <td>0.004614</td>\n",
              "    </tr>\n",
              "    <tr>\n",
              "      <th>pickup_month</th>\n",
              "      <td>-0.001486</td>\n",
              "      <td>0.000237</td>\n",
              "      <td>0.012859</td>\n",
              "      <td>1.000000</td>\n",
              "      <td>0.999937</td>\n",
              "      <td>-0.025228</td>\n",
              "      <td>-0.001990</td>\n",
              "      <td>-0.007655</td>\n",
              "      <td>-0.002847</td>\n",
              "      <td>0.014466</td>\n",
              "      <td>0.008235</td>\n",
              "      <td>0.015530</td>\n",
              "      <td>-0.024497</td>\n",
              "      <td>-0.002202</td>\n",
              "      <td>-0.008055</td>\n",
              "      <td>-0.002554</td>\n",
              "      <td>0.014258</td>\n",
              "      <td>0.008207</td>\n",
              "      <td>0.015370</td>\n",
              "    </tr>\n",
              "    <tr>\n",
              "      <th>dropoff_month</th>\n",
              "      <td>-0.001502</td>\n",
              "      <td>0.000243</td>\n",
              "      <td>0.013795</td>\n",
              "      <td>0.999937</td>\n",
              "      <td>1.000000</td>\n",
              "      <td>-0.025315</td>\n",
              "      <td>-0.002000</td>\n",
              "      <td>-0.007602</td>\n",
              "      <td>-0.002867</td>\n",
              "      <td>0.014637</td>\n",
              "      <td>0.008214</td>\n",
              "      <td>0.015442</td>\n",
              "      <td>-0.024326</td>\n",
              "      <td>-0.002220</td>\n",
              "      <td>-0.008143</td>\n",
              "      <td>-0.002489</td>\n",
              "      <td>0.014168</td>\n",
              "      <td>0.008190</td>\n",
              "      <td>0.015345</td>\n",
              "    </tr>\n",
              "    <tr>\n",
              "      <th>pickup_day_Friday</th>\n",
              "      <td>-0.001740</td>\n",
              "      <td>0.002821</td>\n",
              "      <td>0.005500</td>\n",
              "      <td>-0.025228</td>\n",
              "      <td>-0.025315</td>\n",
              "      <td>1.000000</td>\n",
              "      <td>-0.163591</td>\n",
              "      <td>-0.179512</td>\n",
              "      <td>-0.167279</td>\n",
              "      <td>-0.178643</td>\n",
              "      <td>-0.170794</td>\n",
              "      <td>-0.174517</td>\n",
              "      <td>0.983548</td>\n",
              "      <td>-0.163578</td>\n",
              "      <td>-0.161771</td>\n",
              "      <td>-0.168147</td>\n",
              "      <td>-0.178233</td>\n",
              "      <td>-0.170686</td>\n",
              "      <td>-0.174390</td>\n",
              "    </tr>\n",
              "    <tr>\n",
              "      <th>pickup_day_Monday</th>\n",
              "      <td>-0.008812</td>\n",
              "      <td>0.000577</td>\n",
              "      <td>-0.006932</td>\n",
              "      <td>-0.001990</td>\n",
              "      <td>-0.002000</td>\n",
              "      <td>-0.163591</td>\n",
              "      <td>1.000000</td>\n",
              "      <td>-0.162297</td>\n",
              "      <td>-0.151237</td>\n",
              "      <td>-0.161512</td>\n",
              "      <td>-0.154416</td>\n",
              "      <td>-0.157782</td>\n",
              "      <td>-0.163388</td>\n",
              "      <td>0.990673</td>\n",
              "      <td>-0.162329</td>\n",
              "      <td>-0.152022</td>\n",
              "      <td>-0.161141</td>\n",
              "      <td>-0.145200</td>\n",
              "      <td>-0.157667</td>\n",
              "    </tr>\n",
              "    <tr>\n",
              "      <th>pickup_day_Saturday</th>\n",
              "      <td>0.022570</td>\n",
              "      <td>-0.002977</td>\n",
              "      <td>-0.004800</td>\n",
              "      <td>-0.007655</td>\n",
              "      <td>-0.007602</td>\n",
              "      <td>-0.179512</td>\n",
              "      <td>-0.162297</td>\n",
              "      <td>1.000000</td>\n",
              "      <td>-0.165955</td>\n",
              "      <td>-0.177229</td>\n",
              "      <td>-0.169443</td>\n",
              "      <td>-0.173136</td>\n",
              "      <td>-0.179289</td>\n",
              "      <td>-0.162284</td>\n",
              "      <td>0.982323</td>\n",
              "      <td>-0.148499</td>\n",
              "      <td>-0.176823</td>\n",
              "      <td>-0.169335</td>\n",
              "      <td>-0.173010</td>\n",
              "    </tr>\n",
              "    <tr>\n",
              "      <th>pickup_day_Sunday</th>\n",
              "      <td>0.016221</td>\n",
              "      <td>-0.002663</td>\n",
              "      <td>-0.006914</td>\n",
              "      <td>-0.002847</td>\n",
              "      <td>-0.002867</td>\n",
              "      <td>-0.167279</td>\n",
              "      <td>-0.151237</td>\n",
              "      <td>-0.165955</td>\n",
              "      <td>1.000000</td>\n",
              "      <td>-0.165152</td>\n",
              "      <td>-0.157896</td>\n",
              "      <td>-0.161338</td>\n",
              "      <td>-0.167071</td>\n",
              "      <td>-0.142128</td>\n",
              "      <td>-0.165988</td>\n",
              "      <td>0.985923</td>\n",
              "      <td>-0.164773</td>\n",
              "      <td>-0.157796</td>\n",
              "      <td>-0.161220</td>\n",
              "    </tr>\n",
              "    <tr>\n",
              "      <th>pickup_day_Thursday</th>\n",
              "      <td>-0.009561</td>\n",
              "      <td>0.002861</td>\n",
              "      <td>0.007501</td>\n",
              "      <td>0.014466</td>\n",
              "      <td>0.014637</td>\n",
              "      <td>-0.178643</td>\n",
              "      <td>-0.161512</td>\n",
              "      <td>-0.177229</td>\n",
              "      <td>-0.165152</td>\n",
              "      <td>1.000000</td>\n",
              "      <td>-0.168623</td>\n",
              "      <td>-0.172298</td>\n",
              "      <td>-0.163074</td>\n",
              "      <td>-0.161499</td>\n",
              "      <td>-0.177264</td>\n",
              "      <td>-0.166009</td>\n",
              "      <td>0.986802</td>\n",
              "      <td>-0.168516</td>\n",
              "      <td>-0.172173</td>\n",
              "    </tr>\n",
              "    <tr>\n",
              "      <th>pickup_day_Tuesday</th>\n",
              "      <td>-0.007942</td>\n",
              "      <td>-0.001062</td>\n",
              "      <td>0.001518</td>\n",
              "      <td>0.008235</td>\n",
              "      <td>0.008214</td>\n",
              "      <td>-0.170794</td>\n",
              "      <td>-0.154416</td>\n",
              "      <td>-0.169443</td>\n",
              "      <td>-0.157896</td>\n",
              "      <td>-0.168623</td>\n",
              "      <td>1.000000</td>\n",
              "      <td>-0.164729</td>\n",
              "      <td>-0.170582</td>\n",
              "      <td>-0.154404</td>\n",
              "      <td>-0.169477</td>\n",
              "      <td>-0.158716</td>\n",
              "      <td>-0.168236</td>\n",
              "      <td>0.990529</td>\n",
              "      <td>-0.154655</td>\n",
              "    </tr>\n",
              "    <tr>\n",
              "      <th>pickup_day_Wednesday</th>\n",
              "      <td>-0.011023</td>\n",
              "      <td>0.000314</td>\n",
              "      <td>0.003455</td>\n",
              "      <td>0.015530</td>\n",
              "      <td>0.015442</td>\n",
              "      <td>-0.174517</td>\n",
              "      <td>-0.157782</td>\n",
              "      <td>-0.173136</td>\n",
              "      <td>-0.161338</td>\n",
              "      <td>-0.172298</td>\n",
              "      <td>-0.164729</td>\n",
              "      <td>1.000000</td>\n",
              "      <td>-0.174300</td>\n",
              "      <td>-0.157769</td>\n",
              "      <td>-0.173170</td>\n",
              "      <td>-0.162175</td>\n",
              "      <td>-0.160817</td>\n",
              "      <td>-0.164624</td>\n",
              "      <td>0.989470</td>\n",
              "    </tr>\n",
              "    <tr>\n",
              "      <th>dropoff_day_Friday</th>\n",
              "      <td>-0.001920</td>\n",
              "      <td>0.002582</td>\n",
              "      <td>0.003779</td>\n",
              "      <td>-0.024497</td>\n",
              "      <td>-0.024326</td>\n",
              "      <td>0.983548</td>\n",
              "      <td>-0.163388</td>\n",
              "      <td>-0.179289</td>\n",
              "      <td>-0.167071</td>\n",
              "      <td>-0.163074</td>\n",
              "      <td>-0.170582</td>\n",
              "      <td>-0.174300</td>\n",
              "      <td>1.000000</td>\n",
              "      <td>-0.163375</td>\n",
              "      <td>-0.179324</td>\n",
              "      <td>-0.167938</td>\n",
              "      <td>-0.178012</td>\n",
              "      <td>-0.170474</td>\n",
              "      <td>-0.174173</td>\n",
              "    </tr>\n",
              "    <tr>\n",
              "      <th>dropoff_day_Monday</th>\n",
              "      <td>-0.008667</td>\n",
              "      <td>0.000415</td>\n",
              "      <td>-0.000427</td>\n",
              "      <td>-0.002202</td>\n",
              "      <td>-0.002220</td>\n",
              "      <td>-0.163578</td>\n",
              "      <td>0.990673</td>\n",
              "      <td>-0.162284</td>\n",
              "      <td>-0.142128</td>\n",
              "      <td>-0.161499</td>\n",
              "      <td>-0.154404</td>\n",
              "      <td>-0.157769</td>\n",
              "      <td>-0.163375</td>\n",
              "      <td>1.000000</td>\n",
              "      <td>-0.162316</td>\n",
              "      <td>-0.152010</td>\n",
              "      <td>-0.161129</td>\n",
              "      <td>-0.154305</td>\n",
              "      <td>-0.157654</td>\n",
              "    </tr>\n",
              "    <tr>\n",
              "      <th>dropoff_day_Saturday</th>\n",
              "      <td>0.022341</td>\n",
              "      <td>-0.002678</td>\n",
              "      <td>-0.006522</td>\n",
              "      <td>-0.008055</td>\n",
              "      <td>-0.008143</td>\n",
              "      <td>-0.161771</td>\n",
              "      <td>-0.162329</td>\n",
              "      <td>0.982323</td>\n",
              "      <td>-0.165988</td>\n",
              "      <td>-0.177264</td>\n",
              "      <td>-0.169477</td>\n",
              "      <td>-0.173170</td>\n",
              "      <td>-0.179324</td>\n",
              "      <td>-0.162316</td>\n",
              "      <td>1.000000</td>\n",
              "      <td>-0.166849</td>\n",
              "      <td>-0.176858</td>\n",
              "      <td>-0.169369</td>\n",
              "      <td>-0.173044</td>\n",
              "    </tr>\n",
              "    <tr>\n",
              "      <th>dropoff_day_Sunday</th>\n",
              "      <td>0.016737</td>\n",
              "      <td>-0.002646</td>\n",
              "      <td>-0.004161</td>\n",
              "      <td>-0.002554</td>\n",
              "      <td>-0.002489</td>\n",
              "      <td>-0.168147</td>\n",
              "      <td>-0.152022</td>\n",
              "      <td>-0.148499</td>\n",
              "      <td>0.985923</td>\n",
              "      <td>-0.166009</td>\n",
              "      <td>-0.158716</td>\n",
              "      <td>-0.162175</td>\n",
              "      <td>-0.167938</td>\n",
              "      <td>-0.152010</td>\n",
              "      <td>-0.166849</td>\n",
              "      <td>1.000000</td>\n",
              "      <td>-0.165628</td>\n",
              "      <td>-0.158615</td>\n",
              "      <td>-0.162057</td>\n",
              "    </tr>\n",
              "    <tr>\n",
              "      <th>dropoff_day_Thursday</th>\n",
              "      <td>-0.009664</td>\n",
              "      <td>0.003040</td>\n",
              "      <td>0.004722</td>\n",
              "      <td>0.014258</td>\n",
              "      <td>0.014168</td>\n",
              "      <td>-0.178233</td>\n",
              "      <td>-0.161141</td>\n",
              "      <td>-0.176823</td>\n",
              "      <td>-0.164773</td>\n",
              "      <td>0.986802</td>\n",
              "      <td>-0.168236</td>\n",
              "      <td>-0.160817</td>\n",
              "      <td>-0.178012</td>\n",
              "      <td>-0.161129</td>\n",
              "      <td>-0.176858</td>\n",
              "      <td>-0.165628</td>\n",
              "      <td>1.000000</td>\n",
              "      <td>-0.168129</td>\n",
              "      <td>-0.171778</td>\n",
              "    </tr>\n",
              "    <tr>\n",
              "      <th>dropoff_day_Tuesday</th>\n",
              "      <td>-0.008322</td>\n",
              "      <td>-0.001190</td>\n",
              "      <td>-0.002199</td>\n",
              "      <td>0.008207</td>\n",
              "      <td>0.008190</td>\n",
              "      <td>-0.170686</td>\n",
              "      <td>-0.145200</td>\n",
              "      <td>-0.169335</td>\n",
              "      <td>-0.157796</td>\n",
              "      <td>-0.168516</td>\n",
              "      <td>0.990529</td>\n",
              "      <td>-0.164624</td>\n",
              "      <td>-0.170474</td>\n",
              "      <td>-0.154305</td>\n",
              "      <td>-0.169369</td>\n",
              "      <td>-0.158615</td>\n",
              "      <td>-0.168129</td>\n",
              "      <td>1.000000</td>\n",
              "      <td>-0.164504</td>\n",
              "    </tr>\n",
              "    <tr>\n",
              "      <th>dropoff_day_Wednesday</th>\n",
              "      <td>-0.010857</td>\n",
              "      <td>0.000352</td>\n",
              "      <td>0.004614</td>\n",
              "      <td>0.015370</td>\n",
              "      <td>0.015345</td>\n",
              "      <td>-0.174390</td>\n",
              "      <td>-0.157667</td>\n",
              "      <td>-0.173010</td>\n",
              "      <td>-0.161220</td>\n",
              "      <td>-0.172173</td>\n",
              "      <td>-0.154655</td>\n",
              "      <td>0.989470</td>\n",
              "      <td>-0.174173</td>\n",
              "      <td>-0.157654</td>\n",
              "      <td>-0.173044</td>\n",
              "      <td>-0.162057</td>\n",
              "      <td>-0.171778</td>\n",
              "      <td>-0.164504</td>\n",
              "      <td>1.000000</td>\n",
              "    </tr>\n",
              "  </tbody>\n",
              "</table>\n",
              "</div>\n",
              "      <button class=\"colab-df-convert\" onclick=\"convertToInteractive('df-daefb6d0-12e5-4981-9874-e87b9f538409')\"\n",
              "              title=\"Convert this dataframe to an interactive table.\"\n",
              "              style=\"display:none;\">\n",
              "        \n",
              "  <svg xmlns=\"http://www.w3.org/2000/svg\" height=\"24px\"viewBox=\"0 0 24 24\"\n",
              "       width=\"24px\">\n",
              "    <path d=\"M0 0h24v24H0V0z\" fill=\"none\"/>\n",
              "    <path d=\"M18.56 5.44l.94 2.06.94-2.06 2.06-.94-2.06-.94-.94-2.06-.94 2.06-2.06.94zm-11 1L8.5 8.5l.94-2.06 2.06-.94-2.06-.94L8.5 2.5l-.94 2.06-2.06.94zm10 10l.94 2.06.94-2.06 2.06-.94-2.06-.94-.94-2.06-.94 2.06-2.06.94z\"/><path d=\"M17.41 7.96l-1.37-1.37c-.4-.4-.92-.59-1.43-.59-.52 0-1.04.2-1.43.59L10.3 9.45l-7.72 7.72c-.78.78-.78 2.05 0 2.83L4 21.41c.39.39.9.59 1.41.59.51 0 1.02-.2 1.41-.59l7.78-7.78 2.81-2.81c.8-.78.8-2.07 0-2.86zM5.41 20L4 18.59l7.72-7.72 1.47 1.35L5.41 20z\"/>\n",
              "  </svg>\n",
              "      </button>\n",
              "      \n",
              "  <style>\n",
              "    .colab-df-container {\n",
              "      display:flex;\n",
              "      flex-wrap:wrap;\n",
              "      gap: 12px;\n",
              "    }\n",
              "\n",
              "    .colab-df-convert {\n",
              "      background-color: #E8F0FE;\n",
              "      border: none;\n",
              "      border-radius: 50%;\n",
              "      cursor: pointer;\n",
              "      display: none;\n",
              "      fill: #1967D2;\n",
              "      height: 32px;\n",
              "      padding: 0 0 0 0;\n",
              "      width: 32px;\n",
              "    }\n",
              "\n",
              "    .colab-df-convert:hover {\n",
              "      background-color: #E2EBFA;\n",
              "      box-shadow: 0px 1px 2px rgba(60, 64, 67, 0.3), 0px 1px 3px 1px rgba(60, 64, 67, 0.15);\n",
              "      fill: #174EA6;\n",
              "    }\n",
              "\n",
              "    [theme=dark] .colab-df-convert {\n",
              "      background-color: #3B4455;\n",
              "      fill: #D2E3FC;\n",
              "    }\n",
              "\n",
              "    [theme=dark] .colab-df-convert:hover {\n",
              "      background-color: #434B5C;\n",
              "      box-shadow: 0px 1px 3px 1px rgba(0, 0, 0, 0.15);\n",
              "      filter: drop-shadow(0px 1px 2px rgba(0, 0, 0, 0.3));\n",
              "      fill: #FFFFFF;\n",
              "    }\n",
              "  </style>\n",
              "\n",
              "      <script>\n",
              "        const buttonEl =\n",
              "          document.querySelector('#df-daefb6d0-12e5-4981-9874-e87b9f538409 button.colab-df-convert');\n",
              "        buttonEl.style.display =\n",
              "          google.colab.kernel.accessAllowed ? 'block' : 'none';\n",
              "\n",
              "        async function convertToInteractive(key) {\n",
              "          const element = document.querySelector('#df-daefb6d0-12e5-4981-9874-e87b9f538409');\n",
              "          const dataTable =\n",
              "            await google.colab.kernel.invokeFunction('convertToInteractive',\n",
              "                                                     [key], {});\n",
              "          if (!dataTable) return;\n",
              "\n",
              "          const docLinkHtml = 'Like what you see? Visit the ' +\n",
              "            '<a target=\"_blank\" href=https://colab.research.google.com/notebooks/data_table.ipynb>data table notebook</a>'\n",
              "            + ' to learn more about interactive tables.';\n",
              "          element.innerHTML = '';\n",
              "          dataTable['output_type'] = 'display_data';\n",
              "          await google.colab.output.renderOutput(dataTable, element);\n",
              "          const docLink = document.createElement('div');\n",
              "          docLink.innerHTML = docLinkHtml;\n",
              "          element.appendChild(docLink);\n",
              "        }\n",
              "      </script>\n",
              "    </div>\n",
              "  </div>\n",
              "  "
            ]
          },
          "metadata": {},
          "execution_count": 37
        }
      ]
    },
    {
      "cell_type": "code",
      "source": [
        "# Se importan las librerias requeridas\n",
        "import matplotlib.pyplot as plt\n",
        "import seaborn as sns\n",
        "\n",
        "# Se genera gráfico de tipo correlacional\n",
        "plt.figure(figsize=(18,10))\n",
        "corr = df.corr()\n",
        "sns.heatmap(corr, cmap = 'Greens', annot = True)\n",
        "plt.show()"
      ],
      "metadata": {
        "colab": {
          "base_uri": "https://localhost:8080/",
          "height": 708
        },
        "id": "ooobUR2v3A_M",
        "outputId": "6d5992a2-6736-4e59-f28b-d1949de2eef4"
      },
      "execution_count": 39,
      "outputs": [
        {
          "output_type": "display_data",
          "data": {
            "text/plain": [
              "<Figure size 1296x720 with 2 Axes>"
            ],
            "image/png": "[encoded data removed]"
          },
          "metadata": {
            "needs_background": "light"
          }
        }
      ]
    }
  ]
}